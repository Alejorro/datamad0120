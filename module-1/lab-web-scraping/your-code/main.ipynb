{
 "cells": [
  {
   "cell_type": "markdown",
   "metadata": {},
   "source": [
    "# Web Scraping Lab\n",
    "\n",
    "You will find in this notebook some scrapy exercises to practise your scraping skills.\n",
    "\n",
    "**Tips:**\n",
    "\n",
    "- Check the response status code for each request to ensure you have obtained the intended contennt.\n",
    "- Print the response text in each request to understand the kind of info you are getting and its format.\n",
    "- Check for patterns in the response text to extract the data/info requested in each question.\n",
    "- Visit each url and take a look at its source through Chrome DevTools. You'll need to identify the html tags, special class names etc. used for the html content you are expected to extract."
   ]
  },
  {
   "cell_type": "markdown",
   "metadata": {},
   "source": [
    "- [Requests library](http://docs.python-requests.org/en/master/#the-user-guide) documentation \n",
    "- [Beautiful Soup Doc](https://www.crummy.com/software/BeautifulSoup/bs4/doc/)\n",
    "- [Urllib](https://docs.python.org/3/library/urllib.html#module-urllib)\n",
    "- [re lib](https://docs.python.org/3/library/re.html)\n",
    "- [lxml lib](https://lxml.de/)\n",
    "- [Scrapy](https://scrapy.org/)\n",
    "- [List of HTTP status codes](https://en.wikipedia.org/wiki/List_of_HTTP_status_codes)\n",
    "- [HTML basics](http://www.simplehtmlguide.com/cheatsheet.php)\n",
    "- [CSS basics](https://www.cssbasics.com/#page_start)"
   ]
  },
  {
   "cell_type": "markdown",
   "metadata": {},
   "source": [
    "#### Below are the libraries and modules you may need. `requests`,  `BeautifulSoup` and `pandas` are imported for you. If you prefer to use additional libraries feel free to uncomment them."
   ]
  },
  {
   "cell_type": "code",
   "execution_count": 24,
   "metadata": {},
   "outputs": [],
   "source": [
    "import requests\n",
    "from bs4 import BeautifulSoup\n",
    "import pandas as pd\n",
    "# from pprint import pprint\n",
    "# from lxml import html\n",
    "# from lxml.html import fromstring\n",
    "# import urllib.request\n",
    "# from urllib.request import urlopen\n",
    "# import random\n",
    "# import re\n",
    "# import scrapy"
   ]
  },
  {
   "cell_type": "markdown",
   "metadata": {},
   "source": [
    "#### Download, parse (using BeautifulSoup), and print the content from the Trending Developers page from GitHub:"
   ]
  },
  {
   "cell_type": "code",
   "execution_count": 25,
   "metadata": {},
   "outputs": [],
   "source": [
    "# This is the url you will scrape in this exercise\n",
    "url = 'https://github.com/trending/developers'"
   ]
  },
  {
   "cell_type": "code",
   "execution_count": 26,
   "metadata": {},
   "outputs": [],
   "source": [
    "#your code\n",
    "\n",
    "data = requests.get(\"https://github.com/trending/developers\").text\n",
    "\n",
    "soup = BeautifulSoup(data, 'html.parser')\n"
   ]
  },
  {
   "cell_type": "markdown",
   "metadata": {},
   "source": [
    "#### Display the names of the trending developers retrieved in the previous step.\n",
    "\n",
    "Your output should be a Python list of developer names. Each name should not contain any html tag.\n",
    "\n",
    "**Instructions:**\n",
    "\n",
    "1. Find out the html tag and class names used for the developer names. You can achieve this using Chrome DevTools.\n",
    "\n",
    "1. Use BeautifulSoup to extract all the html elements that contain the developer names.\n",
    "\n",
    "1. Use string manipulation techniques to replace whitespaces and linebreaks (i.e. `\\n`) in the *text* of each html element. Use a list to store the clean names.\n",
    "\n",
    "1. Print the list of names.\n",
    "\n",
    "Your output should look like below:\n",
    "\n",
    "```\n",
    "['trimstray (@trimstray)',\n",
    " 'joewalnes (JoeWalnes)',\n",
    " 'charlax (Charles-AxelDein)',\n",
    " 'ForrestKnight (ForrestKnight)',\n",
    " 'revery-ui (revery-ui)',\n",
    " 'alibaba (Alibaba)',\n",
    " 'Microsoft (Microsoft)',\n",
    " 'github (GitHub)',\n",
    " 'facebook (Facebook)',\n",
    " 'boazsegev (Bo)',\n",
    " 'google (Google)',\n",
    " 'cloudfetch',\n",
    " 'sindresorhus (SindreSorhus)',\n",
    " 'tensorflow',\n",
    " 'apache (TheApacheSoftwareFoundation)',\n",
    " 'DevonCrawford (DevonCrawford)',\n",
    " 'ARMmbed (ArmMbed)',\n",
    " 'vuejs (vuejs)',\n",
    " 'fastai (fast.ai)',\n",
    " 'QiShaoXuan (Qi)',\n",
    " 'joelparkerhenderson (JoelParkerHenderson)',\n",
    " 'torvalds (LinusTorvalds)',\n",
    " 'CyC2018',\n",
    " 'komeiji-satori (神楽坂覚々)',\n",
    " 'script-8']\n",
    " ```"
   ]
  },
  {
   "cell_type": "code",
   "execution_count": 27,
   "metadata": {},
   "outputs": [
    {
     "name": "stdout",
     "output_type": "stream",
     "text": "['Kyle Conroy', 'Andreas Mueller', 'Christian Clauss', 'Liu-Cheng Xu', 'Lucas Michot', 'Erik Schierboom', 'Viktor Farcic', 'hackerman', 'Sascha Grunert', 'Kevin Papst', 'ᴜɴᴋɴᴡᴏɴ', 'Jonathan Leitschuh', 'Anthony Sottile', 'Kazuho Oku', 'Daniel Agar', 'Ben Newman', 'Mike Penz', 'David Karnok', 'Joel Arvidsson', 'Phil Plückthun', 'Daybrush (Younkue Choi)', 'Rijk van Zanten', 'Yihui Xie', 'Philip Walton', 'Bryan Phelps']\n"
    }
   ],
   "source": [
    "#your code\n",
    "\n",
    "nombres = []\n",
    "\n",
    "for tag in soup.select('h1[class^=\"h3\"]'):\n",
    "\n",
    "    a = tag.find(\"a\").text.strip()\n",
    "\n",
    "    nombres.append(a)\n",
    "\n",
    "print(nombres)\n",
    "\n",
    "\n",
    "\n"
   ]
  },
  {
   "cell_type": "markdown",
   "metadata": {},
   "source": [
    "#### Display the trending Python repositories in GitHub\n",
    "\n",
    "The steps to solve this problem is similar to the previous one except that you need to find out the repository names instead of developer names."
   ]
  },
  {
   "cell_type": "code",
   "execution_count": 28,
   "metadata": {},
   "outputs": [],
   "source": [
    "# This is the url you will scrape in this exercise\n",
    "url = 'https://github.com/trending/python?since=daily'"
   ]
  },
  {
   "cell_type": "code",
   "execution_count": 29,
   "metadata": {},
   "outputs": [
    {
     "name": "stdout",
     "output_type": "stream",
     "text": "['Chaos', 'python-cheatsheet', 'tinder-swipe-bot', 'interpy-zh', 'CppCoreGuidelines', 'chatbot', 'donkeycar', 'Deep-Learning-with-TensorFlow-book', 'catalyst', 'DialoGPT', 'DiCE', 'sight', 'spinningup', 'django-rest-auth', 'fuzzywuzzy', 'pytorch_geometric', 'causalnex', 'Awesome-Linux-Software', 'persepolis', 'DeepLabCut', 'pointnet', 'pip-tools', 'safaribooks', 'awesome-python-login-model', 'cupp']\n"
    }
   ],
   "source": [
    "#your code\n",
    "\n",
    "data2 = requests.get('https://github.com/trending/python?since=daily').text\n",
    "\n",
    "soup2 = BeautifulSoup(data2, 'html.parser')\n",
    "\n",
    "\n",
    "repos = []\n",
    "\n",
    "for tag2 in soup2.select('h1[class^=\"h3\"]'):\n",
    "\n",
    "    a2 = tag2.find(\"a\").text.strip()\n",
    "\n",
    "    repos.append(a2)\n",
    "\n",
    "\n",
    "new_repos = []\n",
    "\n",
    "for element in repos:\n",
    "\n",
    "    new = element.replace(\"\\n\",\"\")\n",
    "\n",
    "    new2 = element.replace(\" \",\"\")\n",
    "\n",
    "    new3 = new2.split(\"/\")\n",
    "\n",
    "    new_repos.append(new3[1])\n",
    "\n",
    "\n",
    "\n",
    "fixed_repos = []\n",
    "\n",
    "for element in new_repos:\n",
    "\n",
    "    fixed = element.replace(\"\\n\",\"\")\n",
    "\n",
    "    fixed_repos.append(fixed)\n",
    "\n",
    "print(fixed_repos)\n",
    "\n"
   ]
  },
  {
   "cell_type": "markdown",
   "metadata": {},
   "source": [
    "#### Display all the image links from Walt Disney wikipedia page"
   ]
  },
  {
   "cell_type": "code",
   "execution_count": 30,
   "metadata": {},
   "outputs": [],
   "source": [
    "# This is the url you will scrape in this exercise\n",
    "url = 'https://en.wikipedia.org/wiki/Walt_Disney'"
   ]
  },
  {
   "cell_type": "code",
   "execution_count": 31,
   "metadata": {},
   "outputs": [
    {
     "name": "stdout",
     "output_type": "stream",
     "text": "['//upload.wikimedia.org/wikipedia/en/thumb/e/e7/Cscr-featured.svg/20px-Cscr-featured.svg.png', '//upload.wikimedia.org/wikipedia/en/thumb/1/1b/Semi-protection-shackle.svg/20px-Semi-protection-shackle.svg.png', '//upload.wikimedia.org/wikipedia/commons/thumb/d/df/Walt_Disney_1946.JPG/220px-Walt_Disney_1946.JPG', '//upload.wikimedia.org/wikipedia/commons/thumb/8/87/Walt_Disney_1942_signature.svg/150px-Walt_Disney_1942_signature.svg.png', '//upload.wikimedia.org/wikipedia/commons/thumb/c/c4/Walt_Disney_envelope_ca._1921.jpg/220px-Walt_Disney_envelope_ca._1921.jpg', '//upload.wikimedia.org/wikipedia/commons/thumb/4/4d/Newman_Laugh-O-Gram_%281921%29.webm/220px-seek%3D2-Newman_Laugh-O-Gram_%281921%29.webm.jpg', '//upload.wikimedia.org/wikipedia/commons/thumb/0/0d/Trolley_Troubles_poster.jpg/170px-Trolley_Troubles_poster.jpg', '//upload.wikimedia.org/wikipedia/commons/thumb/7/71/Walt_Disney_and_his_cartoon_creation_%22Mickey_Mouse%22_-_National_Board_of_Review_Magazine.jpg/170px-Walt_Disney_and_his_cartoon_creation_%22Mickey_Mouse%22_-_National_Board_of_Review_Magazine.jpg', '//upload.wikimedia.org/wikipedia/en/thumb/4/4e/Steamboat-willie.jpg/170px-Steamboat-willie.jpg', '//upload.wikimedia.org/wikipedia/commons/thumb/5/57/Walt_Disney_1935.jpg/170px-Walt_Disney_1935.jpg', '//upload.wikimedia.org/wikipedia/commons/thumb/c/cd/Walt_Disney_Snow_white_1937_trailer_screenshot_%2813%29.jpg/220px-Walt_Disney_Snow_white_1937_trailer_screenshot_%2813%29.jpg', '//upload.wikimedia.org/wikipedia/commons/thumb/1/15/Disney_drawing_goofy.jpg/170px-Disney_drawing_goofy.jpg', '//upload.wikimedia.org/wikipedia/commons/thumb/1/13/DisneySchiphol1951.jpg/220px-DisneySchiphol1951.jpg', '//upload.wikimedia.org/wikipedia/commons/thumb/8/8c/WaltDisneyplansDisneylandDec1954.jpg/220px-WaltDisneyplansDisneylandDec1954.jpg', '//upload.wikimedia.org/wikipedia/commons/thumb/f/ff/Walt_disney_portrait_right.jpg/170px-Walt_disney_portrait_right.jpg', '//upload.wikimedia.org/wikipedia/commons/thumb/1/1a/Walt_Disney_Grave.JPG/170px-Walt_Disney_Grave.JPG', '//upload.wikimedia.org/wikipedia/commons/thumb/2/2d/Roy_O._Disney_with_Company_at_Press_Conference.jpg/170px-Roy_O._Disney_with_Company_at_Press_Conference.jpg', '//upload.wikimedia.org/wikipedia/commons/thumb/a/a9/Disney_Display_Case.JPG/170px-Disney_Display_Case.JPG', '//upload.wikimedia.org/wikipedia/commons/thumb/6/6c/Disney1968.jpg/170px-Disney1968.jpg', '//upload.wikimedia.org/wikipedia/en/thumb/8/8a/OOjs_UI_icon_edit-ltr-progressive.svg/10px-OOjs_UI_icon_edit-ltr-progressive.svg.png', '//upload.wikimedia.org/wikipedia/commons/thumb/4/44/The_Walt_Disney_Company_Logo.svg/120px-The_Walt_Disney_Company_Logo.svg.png', '//upload.wikimedia.org/wikipedia/commons/thumb/d/da/Animation_disc.svg/30px-Animation_disc.svg.png', '//upload.wikimedia.org/wikipedia/en/thumb/6/69/P_vip.svg/29px-P_vip.svg.png', '//upload.wikimedia.org/wikipedia/commons/thumb/1/1a/Magic_Kingdom_castle.jpg/24px-Magic_Kingdom_castle.jpg', '//upload.wikimedia.org/wikipedia/en/thumb/e/e7/Video-x-generic.svg/30px-Video-x-generic.svg.png', '//upload.wikimedia.org/wikipedia/commons/thumb/a/a3/Flag_of_Los_Angeles_County%2C_California.svg/30px-Flag_of_Los_Angeles_County%2C_California.svg.png', '//upload.wikimedia.org/wikipedia/commons/thumb/8/8c/Blank_television_set.svg/30px-Blank_television_set.svg.png', '//upload.wikimedia.org/wikipedia/en/thumb/a/a4/Flag_of_the_United_States.svg/30px-Flag_of_the_United_States.svg.png', '//upload.wikimedia.org/wikipedia/en/thumb/4/4a/Commons-logo.svg/22px-Commons-logo.svg.png', '//upload.wikimedia.org/wikipedia/commons/thumb/f/fa/Wikiquote-logo.svg/25px-Wikiquote-logo.svg.png', '//upload.wikimedia.org/wikipedia/commons/thumb/f/ff/Wikidata-logo.svg/30px-Wikidata-logo.svg.png', '//upload.wikimedia.org/wikipedia/en/thumb/8/8a/OOjs_UI_icon_edit-ltr-progressive.svg/10px-OOjs_UI_icon_edit-ltr-progressive.svg.png', '//en.wikipedia.org/wiki/Special:CentralAutoLogin/start?type=1x1']\n"
    }
   ],
   "source": [
    "#your code\n",
    "\n",
    "data3 = requests.get('https://en.wikipedia.org/wiki/Walt_Disney').text\n",
    "\n",
    "soup3 = BeautifulSoup(data3, 'html.parser')\n",
    "\n",
    "\n",
    "urls = []\n",
    "\n",
    "for tag3 in soup3.select('img[src^=\"//\"]'):\n",
    "\n",
    "    a3 = tag3.attrs[\"src\"]\n",
    "\n",
    "    urls.append(a3)\n",
    "\n",
    "print(urls)\n",
    "\n"
   ]
  },
  {
   "cell_type": "markdown",
   "metadata": {},
   "source": [
    "#### Retrieve an arbitary Wikipedia page of \"Python\" and create a list of links on that page"
   ]
  },
  {
   "cell_type": "code",
   "execution_count": 32,
   "metadata": {},
   "outputs": [],
   "source": [
    "# This is the url you will scrape in this exercise\n",
    "url ='https://en.wikipedia.org/wiki/Python' \n",
    "\n"
   ]
  },
  {
   "cell_type": "code",
   "execution_count": 33,
   "metadata": {},
   "outputs": [
    {
     "name": "stdout",
     "output_type": "stream",
     "text": "['/wiki/Category:Disambiguation_pages', '/wiki/Category:Disambiguation_pages', '/wiki/Category:Disambiguation_pages_with_short_description', '/wiki/Python', '/wiki/Python', '/wiki/Python', '/wiki/Python', '/wiki/Main_Page', '/wiki/Main_Page', '/wiki/Main_Page', '/wiki/Help:Contents', '/wiki/Help:Contents', '/wiki/Special:WhatLinksHere/Python', '/wiki/Special:WhatLinksHere/Python', 'https://commons.wikimedia.org/wiki/Category:Python', 'https://commons.wikimedia.org/wiki/Category:Python', 'https://af.wikipedia.org/wiki/Python', 'https://af.wikipedia.org/wiki/Python']\n"
    }
   ],
   "source": [
    "#your code\n",
    "\n",
    "data4 = requests.get('https://en.wikipedia.org/wiki/Python').text\n",
    "\n",
    "soup4 = BeautifulSoup(data4, 'html.parser')\n",
    "\n",
    "\n",
    "li = []\n",
    "\n",
    "nones = []\n",
    "\n",
    "for tag4 in soup4.find_all('div'):\n",
    "\n",
    "    a4 = tag4.find(\"li\")\n",
    "\n",
    "    try:\n",
    "\n",
    "        for element in a4:\n",
    "\n",
    "            if type(element) != None:\n",
    "\n",
    "                li.append(a4)\n",
    "\n",
    "    except:\n",
    "\n",
    "        nones.append(element)\n",
    "\n",
    "\n",
    "links = []\n",
    "\n",
    "nones = []\n",
    "\n",
    "\n",
    "for element in li:\n",
    "\n",
    "    try:\n",
    "\n",
    "        a4 = element.find(\"a\")\n",
    "\n",
    "        b4 = a4.attrs[\"href\"]\n",
    "\n",
    "        links.append(b4)\n",
    "\n",
    "    except:\n",
    "\n",
    "        nones.append(b4)\n",
    "\n",
    "\n",
    "fixed_links = []\n",
    "\n",
    "for element in links:\n",
    "\n",
    "    if element[0:4] == \"/wik\" or element[0:4] == \"http\":\n",
    "\n",
    "        fixed_links.append(element)\n",
    "\n",
    "\n",
    "print(fixed_links)\n",
    "\n",
    "\n",
    "\n",
    "\n",
    "\n",
    "\n",
    "\n",
    "\n",
    "\n",
    "\n"
   ]
  },
  {
   "cell_type": "markdown",
   "metadata": {},
   "source": [
    "#### Number of Titles that have changed in the United States Code since its last release point "
   ]
  },
  {
   "cell_type": "code",
   "execution_count": 34,
   "metadata": {},
   "outputs": [],
   "source": [
    "# This is the url you will scrape in this exercise\n",
    "url = 'http://uscode.house.gov/download/download.shtml'"
   ]
  },
  {
   "cell_type": "code",
   "execution_count": 35,
   "metadata": {},
   "outputs": [
    {
     "name": "stdout",
     "output_type": "stream",
     "text": "['Title 18 - Crimes and Criminal Procedure ٭', 'Title 20 - Education', 'Title 26 - Internal Revenue Code']\n"
    }
   ],
   "source": [
    "#your code\n",
    "\n",
    "data5 = requests.get('http://uscode.house.gov/download/download.shtml').text\n",
    "\n",
    "soup5 = BeautifulSoup(data5, 'html.parser')\n",
    "\n",
    "\n",
    "\n",
    "titulos_cambiados = []\n",
    "\n",
    "for tag5 in soup5.select('div[class^=\"usctitlechanged\"]'):\n",
    "\n",
    "        a5 = tag5.text\n",
    "\n",
    "        titulos_cambiados.append(a5)\n",
    "\n",
    "\n",
    "fixed_titulos = []\n",
    "\n",
    "for element in titulos_cambiados:\n",
    "\n",
    "    b5 = element.strip()\n",
    "\n",
    "    fixed_titulos.append(b5)\n",
    "\n",
    "print(fixed_titulos)\n",
    "\n",
    "\n",
    "\n",
    "\n"
   ]
  },
  {
   "cell_type": "markdown",
   "metadata": {},
   "source": [
    "#### A Python list with the top ten FBI's Most Wanted names "
   ]
  },
  {
   "cell_type": "code",
   "execution_count": 36,
   "metadata": {},
   "outputs": [],
   "source": [
    "# This is the url you will scrape in this exercise\n",
    "url = 'https://www.fbi.gov/wanted/topten'"
   ]
  },
  {
   "cell_type": "code",
   "execution_count": 37,
   "metadata": {},
   "outputs": [
    {
     "name": "stdout",
     "output_type": "stream",
     "text": "['JASON DEREK BROWN', 'ALEXIS FLORES', 'EUGENE PALMER', 'SANTIAGO VILLALBA MEDEROS', 'RAFAEL CARO-QUINTERO', 'ROBERT WILLIAM FISHER', 'BHADRESHKUMAR CHETANBHAI PATEL', 'ARNOLDO JIMENEZ', 'ALEJANDRO ROSALES CASTILLO', 'YASER ABDEL SAID']\n"
    }
   ],
   "source": [
    "#your code \n",
    "\n",
    "data6 = requests.get('https://www.fbi.gov/wanted/topten').text\n",
    "\n",
    "soup6 = BeautifulSoup(data6, 'html.parser')\n",
    "\n",
    "\n",
    "\n",
    "nombres = []\n",
    "\n",
    "for tag6 in soup6.select('h3[class^=\"titl\"]'):\n",
    "\n",
    "        a5 = tag6.text.strip()\n",
    "\n",
    "        nombres.append(a5)\n",
    "\n",
    "print(nombres)"
   ]
  },
  {
   "cell_type": "markdown",
   "metadata": {},
   "source": [
    "####  20 latest earthquakes info (date, time, latitude, longitude and region name) by the EMSC as a pandas dataframe"
   ]
  },
  {
   "cell_type": "code",
   "execution_count": 38,
   "metadata": {},
   "outputs": [],
   "source": [
    "# This is the url you will scrape in this exercise\n",
    "url = 'https://www.emsc-csem.org/Earthquake/'"
   ]
  },
  {
   "cell_type": "code",
   "execution_count": 39,
   "metadata": {},
   "outputs": [
    {
     "data": {
      "text/html": "<div>\n<style scoped>\n    .dataframe tbody tr th:only-of-type {\n        vertical-align: middle;\n    }\n\n    .dataframe tbody tr th {\n        vertical-align: top;\n    }\n\n    .dataframe thead th {\n        text-align: right;\n    }\n</style>\n<table border=\"1\" class=\"dataframe\">\n  <thead>\n    <tr style=\"text-align: right;\">\n      <th></th>\n      <th>date</th>\n      <th>latitude</th>\n      <th>longitude</th>\n      <th>region_name</th>\n      <th>time</th>\n    </tr>\n  </thead>\n  <tbody>\n    <tr>\n      <th>0</th>\n      <td>2020-01-31</td>\n      <td>19.16</td>\n      <td>155.4</td>\n      <td>LAND OF HAWAII, HAWAII</td>\n      <td>11min ago</td>\n    </tr>\n    <tr>\n      <th>1</th>\n      <td>2020-01-31</td>\n      <td>47.76</td>\n      <td>154.1</td>\n      <td>RIL ISLANDS</td>\n      <td>16min ago</td>\n    </tr>\n    <tr>\n      <th>2</th>\n      <td>2020-01-31</td>\n      <td>38.43</td>\n      <td>39.16</td>\n      <td>STERN TURKEY</td>\n      <td>51min ago</td>\n    </tr>\n    <tr>\n      <th>3</th>\n      <td>2020-01-31</td>\n      <td>35.26</td>\n      <td>27.96</td>\n      <td>DECANESE ISLANDS, GREECE</td>\n      <td>09min ago</td>\n    </tr>\n    <tr>\n      <th>4</th>\n      <td>2020-01-31</td>\n      <td>35.23</td>\n      <td>27.91</td>\n      <td>DECANESE ISLANDS, GREECE</td>\n      <td>13min ago</td>\n    </tr>\n    <tr>\n      <th>5</th>\n      <td>2020-01-31</td>\n      <td>39.29</td>\n      <td>27.68</td>\n      <td>STERN TURKEY</td>\n      <td>14min ago</td>\n    </tr>\n    <tr>\n      <th>6</th>\n      <td>2020-01-31</td>\n      <td>39.04</td>\n      <td>27.86</td>\n      <td>STERN TURKEY</td>\n      <td>18min ago</td>\n    </tr>\n    <tr>\n      <th>7</th>\n      <td>2020-01-31</td>\n      <td>39.02</td>\n      <td>27.84</td>\n      <td>STERN TURKEY</td>\n      <td>27min ago</td>\n    </tr>\n    <tr>\n      <th>8</th>\n      <td>2020-01-31</td>\n      <td>38.83</td>\n      <td>122.8</td>\n      <td>RTHERN CALIFORNIA</td>\n      <td>38min ago</td>\n    </tr>\n    <tr>\n      <th>9</th>\n      <td>2020-01-31</td>\n      <td>32.37</td>\n      <td>115.1</td>\n      <td>JA CALIFORNIA, MEXICO</td>\n      <td>05min ago</td>\n    </tr>\n    <tr>\n      <th>10</th>\n      <td>2020-01-31</td>\n      <td>13.02</td>\n      <td>89.47</td>\n      <td>FSHORE EL SALVADOR</td>\n      <td>32min ago</td>\n    </tr>\n    <tr>\n      <th>11</th>\n      <td>2020-01-31</td>\n      <td>36.91</td>\n      <td>99.88</td>\n      <td>LAHOMA</td>\n      <td>37min ago</td>\n    </tr>\n    <tr>\n      <th>12</th>\n      <td>2020-01-31</td>\n      <td>58.83</td>\n      <td>153.4</td>\n      <td>DIAK ISLAND REGION, ALASKA</td>\n      <td>47min ago</td>\n    </tr>\n    <tr>\n      <th>13</th>\n      <td>2020-01-31</td>\n      <td>58.87</td>\n      <td>153.5</td>\n      <td>DIAK ISLAND REGION, ALASKA</td>\n      <td>52min ago</td>\n    </tr>\n    <tr>\n      <th>14</th>\n      <td>2020-01-31</td>\n      <td>31.66</td>\n      <td>104.3</td>\n      <td>STERN TEXAS</td>\n      <td>09min ago</td>\n    </tr>\n    <tr>\n      <th>15</th>\n      <td>2020-01-31</td>\n      <td>35.19</td>\n      <td>27.76</td>\n      <td>DECANESE ISLANDS, GREECE</td>\n      <td>10min ago</td>\n    </tr>\n    <tr>\n      <th>16</th>\n      <td>2020-01-31</td>\n      <td>17.90</td>\n      <td>172.5</td>\n      <td>NGA REGION</td>\n      <td>13min ago</td>\n    </tr>\n    <tr>\n      <th>17</th>\n      <td>2020-01-31</td>\n      <td>35.09</td>\n      <td>28.09</td>\n      <td>STERN MEDITERRANEAN SEA</td>\n      <td>18min ago</td>\n    </tr>\n    <tr>\n      <th>18</th>\n      <td>2020-01-31</td>\n      <td>38.23</td>\n      <td>38.77</td>\n      <td>STERN TURKEY</td>\n      <td>18min ago</td>\n    </tr>\n    <tr>\n      <th>19</th>\n      <td>2020-01-31</td>\n      <td>38.47</td>\n      <td>39.20</td>\n      <td>STERN TURKEY</td>\n      <td>30min ago</td>\n    </tr>\n  </tbody>\n</table>\n</div>",
      "text/plain": "          date latitude longitude                 region_name       time\n0   2020-01-31    19.16     155.4      LAND OF HAWAII, HAWAII  11min ago\n1   2020-01-31    47.76     154.1                 RIL ISLANDS  16min ago\n2   2020-01-31    38.43     39.16                STERN TURKEY  51min ago\n3   2020-01-31    35.26     27.96    DECANESE ISLANDS, GREECE  09min ago\n4   2020-01-31    35.23     27.91    DECANESE ISLANDS, GREECE  13min ago\n5   2020-01-31    39.29     27.68                STERN TURKEY  14min ago\n6   2020-01-31    39.04     27.86                STERN TURKEY  18min ago\n7   2020-01-31    39.02     27.84                STERN TURKEY  27min ago\n8   2020-01-31    38.83     122.8           RTHERN CALIFORNIA  38min ago\n9   2020-01-31    32.37     115.1       JA CALIFORNIA, MEXICO  05min ago\n10  2020-01-31    13.02     89.47          FSHORE EL SALVADOR  32min ago\n11  2020-01-31    36.91     99.88                      LAHOMA  37min ago\n12  2020-01-31    58.83     153.4  DIAK ISLAND REGION, ALASKA  47min ago\n13  2020-01-31    58.87     153.5  DIAK ISLAND REGION, ALASKA  52min ago\n14  2020-01-31    31.66     104.3                 STERN TEXAS  09min ago\n15  2020-01-31    35.19     27.76    DECANESE ISLANDS, GREECE  10min ago\n16  2020-01-31    17.90     172.5                  NGA REGION  13min ago\n17  2020-01-31    35.09     28.09     STERN MEDITERRANEAN SEA  18min ago\n18  2020-01-31    38.23     38.77                STERN TURKEY  18min ago\n19  2020-01-31    38.47     39.20                STERN TURKEY  30min ago"
     },
     "execution_count": 39,
     "metadata": {},
     "output_type": "execute_result"
    }
   ],
   "source": [
    "#your code\n",
    "\n",
    "data7 = requests.get('https://www.emsc-csem.org/Earthquake/').text\n",
    "\n",
    "soup7 = BeautifulSoup(data7, 'html.parser')\n",
    "\n",
    "dates = []\n",
    "\n",
    "hour = []\n",
    "\n",
    "latitude = []\n",
    "\n",
    "region_names = []\n",
    "\n",
    "longitude = []\n",
    "\n",
    "for tag7 in soup7.select(\"tbody[id='tbody']\"):\n",
    "\n",
    "    date = tag7.select(\"td[class='tabev6']\")\n",
    "\n",
    "    for a in date:\n",
    "        \n",
    "        dates.append(a.text[10:20])\n",
    "        hour.append(a.text[-9::])\n",
    "\n",
    "        \n",
    "    latitudes = tag7.select(\"td[class='tabev1']\")\n",
    "\n",
    "    for a in latitudes:\n",
    "        \n",
    "        latitude.append(a.text[0:5])\n",
    "        \n",
    "    latitudes = tag7.select(\"td[class='tabev1']\")\n",
    "\n",
    "    for a in latitudes:\n",
    "        \n",
    "        latitude.append(a.text[0:5])\n",
    "        \n",
    "    region_name = tag7.select(\"td[class='tb_region']\")\n",
    "\n",
    "    for a in region_name:\n",
    "        \n",
    "        region_names.append(a.text[3::])\n",
    "        \n",
    "    longitudes = tag7.select(\"td[class='tabev1']\")\n",
    "\n",
    "    for a in longitudes:\n",
    "        \n",
    "        longitude.append(a.text[0:5])\n",
    "            \n",
    "\n",
    "\n",
    "# print(len(longitude[1:40:2]),len(latitude[0:39:2]), len(region_names[0:20]),len(hour[0:30]))\n",
    "\n",
    "\n",
    "\n",
    "\n",
    "dict = {\n",
    "\n",
    "     \n",
    "    'date':dates[0:20],\n",
    "    \n",
    "    'time':hour[0:20],\n",
    "    \n",
    "    'latitude':latitude[0:39:2],\n",
    "    \n",
    "    'longitude':longitude[1:40:2],\n",
    "    \n",
    "    'region_name':region_names[0:20]\n",
    "    \n",
    "    \n",
    "    }\n",
    "\n",
    "pd.DataFrame.from_dict(dict)\n",
    "\n",
    "\n",
    "\n",
    "\n",
    "\n",
    "\n",
    "        \n",
    "\n",
    "\n",
    "    \n"
   ]
  },
  {
   "cell_type": "code",
   "execution_count": 40,
   "metadata": {},
   "outputs": [],
   "source": [
    "#### Display the date, days, title, city, country of next 25 hackathon events as a Pandas dataframe table"
   ]
  },
  {
   "cell_type": "markdown",
   "metadata": {},
   "source": [
    "\n",
    "**Count number of tweets by a given Twitter account.¶\n",
    "\n",
    "**You will need to include a try/except block for account names not found.\n",
    "Hint: the program should count the number of tweets for any provided account\n"
   ]
  },
  {
   "cell_type": "code",
   "execution_count": null,
   "metadata": {},
   "outputs": [],
   "source": []
  },
  {
   "cell_type": "code",
   "execution_count": 41,
   "metadata": {},
   "outputs": [
    {
     "name": "stdout",
     "output_type": "stream",
     "text": "48,5 mil\n            \n"
    }
   ],
   "source": [
    "\n",
    "    data8 = requests.get('https://twitter.com/realDonaldTrump').text\n",
    "\n",
    "    soup8 = BeautifulSoup(data8, 'html.parser')\n",
    "    \n",
    "    asd = soup8.select('.ProfileNav-value')[0].text\n",
    "\n",
    "    print(asd)\n",
    "    \n",
    "    \n",
    "    \n"
   ]
  },
  {
   "cell_type": "markdown",
   "metadata": {},
   "source": [
    "\n",
    "**Number of followers of a given twitter account\n",
    "\n",
    "**You will need to include a try/except block in case account/s name not found.\n",
    "Hint: the program should count the followers for any provided account\n"
   ]
  },
  {
   "cell_type": "code",
   "execution_count": 42,
   "metadata": {},
   "outputs": [
    {
     "name": "stdout",
     "output_type": "stream",
     "text": "71,9 M\n"
    }
   ],
   "source": [
    "    data8 = requests.get('https://twitter.com/realDonaldTrump').text\n",
    "\n",
    "    soup8 = BeautifulSoup(data8, 'html.parser')\n",
    "    \n",
    "    asd = soup8.select('.ProfileNav-value')[2].text\n",
    "\n",
    "    print(asd)"
   ]
  },
  {
   "cell_type": "markdown",
   "metadata": {},
   "source": [
    "**List all language names and number of related articles in the order they appear in wikipedia.org"
   ]
  },
  {
   "cell_type": "code",
   "execution_count": 43,
   "metadata": {},
   "outputs": [],
   "source": [
    "data9 = requests.get('https://www.wikipedia.org/').text\n",
    "\n",
    "soup9 = BeautifulSoup(data8, 'html.parser')\n",
    "\n",
    "texto = soup9.select('.link-box')\n",
    "\n",
    "\n",
    "for element in texto:\n",
    "    \n",
    "    language = element.find('strong').text\n",
    "    \n",
    "    number = element.find('bdi').text\n",
    "    \n",
    "    print(\"Se muestra lenguaje y número\", language, number[0:-1])\n",
    "    \n",
    "    \n",
    "    "
   ]
  },
  {
   "cell_type": "markdown",
   "execution_count": 21,
   "metadata": {},
   "outputs": [
    {
     "ename": "SyntaxError",
     "evalue": "invalid syntax (<ipython-input-21-bd616f172fb6>, line 1)",
     "output_type": "error",
     "traceback": [
      "\u001b[0;36m  File \u001b[0;32m\"<ipython-input-21-bd616f172fb6>\"\u001b[0;36m, line \u001b[0;32m1\u001b[0m\n\u001b[0;31m    **A list with the different kind of datasets available in data.gov.uk**\u001b[0m\n\u001b[0m     ^\u001b[0m\n\u001b[0;31mSyntaxError\u001b[0m\u001b[0;31m:\u001b[0m invalid syntax\n"
     ]
    }
   ],
   "source": [
    "**A list with the different kind of datasets available in data.gov.uk**"
   ]
  },
  {
   "cell_type": "code",
   "execution_count": 44,
   "metadata": {},
   "outputs": [
    {
     "name": "stdout",
     "output_type": "stream",
     "text": "['Business and economy', 'Crime and justice', 'Defence', 'Education', 'Environment', 'Government', 'Government spending', 'Health', 'Mapping', 'Society', 'Towns and cities', 'Transport']\n"
    }
   ],
   "source": [
    "data10 = requests.get('https://data.gov.uk/').text\n",
    "\n",
    "soup10 = BeautifulSoup(data10, 'html.parser')\n",
    "\n",
    "result = []\n",
    "\n",
    "for element in soup10.find_all('h2'):\n",
    "    \n",
    "    asd = element.find('a')\n",
    "    \n",
    "    result.append(asd.text)\n",
    "    \n",
    "print(result)\n",
    "    "
   ]
  },
  {
   "cell_type": "markdown",
   "metadata": {},
   "source": [
    "\n",
    "**Top 10 languages by number of native speakers stored in a Pandas Dataframe"
   ]
  },
  {
   "cell_type": "code",
   "execution_count": 45,
   "metadata": {},
   "outputs": [
    {
     "data": {
      "text/html": "<div>\n<style scoped>\n    .dataframe tbody tr th:only-of-type {\n        vertical-align: middle;\n    }\n\n    .dataframe tbody tr th {\n        vertical-align: top;\n    }\n\n    .dataframe thead th {\n        text-align: right;\n    }\n</style>\n<table border=\"1\" class=\"dataframe\">\n  <thead>\n    <tr style=\"text-align: right;\">\n      <th></th>\n      <th>0</th>\n      <th>1</th>\n      <th>2</th>\n      <th>3</th>\n      <th>4</th>\n    </tr>\n  </thead>\n  <tbody>\n    <tr>\n      <th>0</th>\n      <td>Rank</td>\n      <td>Language</td>\n      <td>Speakers(millions)</td>\n      <td>% of the World population (March 2019)[8]</td>\n      <td>Language familyBranch</td>\n    </tr>\n    <tr>\n      <th>1</th>\n      <td>1</td>\n      <td>Mandarin Chinese</td>\n      <td>918</td>\n      <td>11.922</td>\n      <td>Sino-TibetanSinitic</td>\n    </tr>\n    <tr>\n      <th>2</th>\n      <td>2</td>\n      <td>Spanish</td>\n      <td>480</td>\n      <td>5.994</td>\n      <td>Indo-EuropeanRomance</td>\n    </tr>\n  </tbody>\n</table>\n</div>",
      "text/plain": "      0                 1                   2  \\\n0  Rank          Language  Speakers(millions)   \n1     1  Mandarin Chinese                 918   \n2     2           Spanish                 480   \n\n                                           3                      4  \n0  % of the World population (March 2019)[8]  Language familyBranch  \n1                                     11.922    Sino-TibetanSinitic  \n2                                      5.994   Indo-EuropeanRomance  "
     },
     "execution_count": 45,
     "metadata": {},
     "output_type": "execute_result"
    }
   ],
   "source": [
    "df = pd.read_html('https://en.wikipedia.org/wiki/List_of_languages_by_number_of_native_speakers')\n",
    "\n",
    "df[0].head(3)"
   ]
  }
 ],
 "metadata": {
  "kernelspec": {
   "display_name": "Python 3",
   "language": "python",
   "name": "python3"
  },
  "language_info": {
   "codemirror_mode": {
    "name": "ipython",
    "version": 3
   },
   "file_extension": ".py",
   "mimetype": "text/x-python",
   "name": "python",
   "nbconvert_exporter": "python",
   "pygments_lexer": "ipython3",
   "version": "3.6.9-final"
  }
 },
 "nbformat": 4,
 "nbformat_minor": 2
}