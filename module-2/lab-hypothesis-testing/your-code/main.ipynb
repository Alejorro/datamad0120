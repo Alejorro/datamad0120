{
 "cells": [
  {
   "cell_type": "markdown",
   "metadata": {},
   "source": [
    "# Before your start:\n",
    "- Read the README.md file\n",
    "- Comment as much as you can and use the resources (README.md file)\n",
    "- Happy learning!"
   ]
  },
  {
   "cell_type": "code",
   "execution_count": 1,
   "metadata": {},
   "outputs": [],
   "source": [
    "# import numpy and pandas\n",
    "\n",
    "import numpy as np\n",
    "\n",
    "import pandas as pd\n",
    "\n",
    "from scipy import stats\n",
    "\n",
    "\n",
    "from statsmodels.stats.proportion import proportions_ztest\n"
   ]
  },
  {
   "cell_type": "markdown",
   "metadata": {},
   "source": [
    "# Challenge 1 - Exploring the Data\n",
    "\n",
    "In this challenge, we will examine all salaries of employees of the City of Chicago. We will start by loading the dataset and examining its contents"
   ]
  },
  {
   "cell_type": "code",
   "execution_count": 2,
   "metadata": {},
   "outputs": [],
   "source": [
    "# Run this code:\n",
    "\n",
    "salaries = pd.read_csv('../Current_Employee_Names__Salaries__and_Position_Titles.csv')"
   ]
  },
  {
   "cell_type": "markdown",
   "metadata": {},
   "source": [
    "Examine the `salaries` dataset using the `head` function below."
   ]
  },
  {
   "cell_type": "code",
   "execution_count": 3,
   "metadata": {},
   "outputs": [
    {
     "data": {
      "text/html": "<div>\n<style scoped>\n    .dataframe tbody tr th:only-of-type {\n        vertical-align: middle;\n    }\n\n    .dataframe tbody tr th {\n        vertical-align: top;\n    }\n\n    .dataframe thead th {\n        text-align: right;\n    }\n</style>\n<table border=\"1\" class=\"dataframe\">\n  <thead>\n    <tr style=\"text-align: right;\">\n      <th></th>\n      <th>Name</th>\n      <th>Job Titles</th>\n      <th>Department</th>\n      <th>Full or Part-Time</th>\n      <th>Salary or Hourly</th>\n      <th>Typical Hours</th>\n      <th>Annual Salary</th>\n      <th>Hourly Rate</th>\n    </tr>\n  </thead>\n  <tbody>\n    <tr>\n      <th>0</th>\n      <td>AARON,  JEFFERY M</td>\n      <td>SERGEANT</td>\n      <td>POLICE</td>\n      <td>F</td>\n      <td>Salary</td>\n      <td>NaN</td>\n      <td>101442.0</td>\n      <td>NaN</td>\n    </tr>\n    <tr>\n      <th>1</th>\n      <td>AARON,  KARINA</td>\n      <td>POLICE OFFICER (ASSIGNED AS DETECTIVE)</td>\n      <td>POLICE</td>\n      <td>F</td>\n      <td>Salary</td>\n      <td>NaN</td>\n      <td>94122.0</td>\n      <td>NaN</td>\n    </tr>\n    <tr>\n      <th>2</th>\n      <td>AARON,  KIMBERLEI R</td>\n      <td>CHIEF CONTRACT EXPEDITER</td>\n      <td>GENERAL SERVICES</td>\n      <td>F</td>\n      <td>Salary</td>\n      <td>NaN</td>\n      <td>101592.0</td>\n      <td>NaN</td>\n    </tr>\n    <tr>\n      <th>3</th>\n      <td>ABAD JR,  VICENTE M</td>\n      <td>CIVIL ENGINEER IV</td>\n      <td>WATER MGMNT</td>\n      <td>F</td>\n      <td>Salary</td>\n      <td>NaN</td>\n      <td>110064.0</td>\n      <td>NaN</td>\n    </tr>\n    <tr>\n      <th>4</th>\n      <td>ABASCAL,  REECE E</td>\n      <td>TRAFFIC CONTROL AIDE-HOURLY</td>\n      <td>OEMC</td>\n      <td>P</td>\n      <td>Hourly</td>\n      <td>20.0</td>\n      <td>NaN</td>\n      <td>19.86</td>\n    </tr>\n  </tbody>\n</table>\n</div>",
      "text/plain": "                  Name                              Job Titles  \\\n0    AARON,  JEFFERY M                                SERGEANT   \n1      AARON,  KARINA   POLICE OFFICER (ASSIGNED AS DETECTIVE)   \n2  AARON,  KIMBERLEI R                CHIEF CONTRACT EXPEDITER   \n3  ABAD JR,  VICENTE M                       CIVIL ENGINEER IV   \n4    ABASCAL,  REECE E             TRAFFIC CONTROL AIDE-HOURLY   \n\n         Department Full or Part-Time Salary or Hourly  Typical Hours  \\\n0            POLICE                 F           Salary            NaN   \n1            POLICE                 F           Salary            NaN   \n2  GENERAL SERVICES                 F           Salary            NaN   \n3       WATER MGMNT                 F           Salary            NaN   \n4              OEMC                 P           Hourly           20.0   \n\n   Annual Salary  Hourly Rate  \n0       101442.0          NaN  \n1        94122.0          NaN  \n2       101592.0          NaN  \n3       110064.0          NaN  \n4            NaN        19.86  "
     },
     "execution_count": 3,
     "metadata": {},
     "output_type": "execute_result"
    }
   ],
   "source": [
    "# Your code here:\n",
    "\n",
    "salaries.head()\n"
   ]
  },
  {
   "cell_type": "markdown",
   "metadata": {},
   "source": [
    "We see from looking at the `head` function that there is quite a bit of missing data. Let's examine how much missing data is in each column. Produce this output in the cell below"
   ]
  },
  {
   "cell_type": "code",
   "execution_count": 4,
   "metadata": {},
   "outputs": [
    {
     "data": {
      "text/plain": "Name                     0\nJob Titles               0\nDepartment               0\nFull or Part-Time        0\nSalary or Hourly         0\nTypical Hours        25161\nAnnual Salary         8022\nHourly Rate          25161\ndtype: int64"
     },
     "execution_count": 4,
     "metadata": {},
     "output_type": "execute_result"
    }
   ],
   "source": [
    "# Your code here:\n",
    "\n",
    "salaries.isnull().sum()"
   ]
  },
  {
   "cell_type": "markdown",
   "metadata": {},
   "source": [
    "Let's also look at the count of hourly vs. salaried employees. Write the code in the cell below"
   ]
  },
  {
   "cell_type": "code",
   "execution_count": 5,
   "metadata": {},
   "outputs": [
    {
     "data": {
      "text/html": "<div>\n<style scoped>\n    .dataframe tbody tr th:only-of-type {\n        vertical-align: middle;\n    }\n\n    .dataframe tbody tr th {\n        vertical-align: top;\n    }\n\n    .dataframe thead th {\n        text-align: right;\n    }\n</style>\n<table border=\"1\" class=\"dataframe\">\n  <thead>\n    <tr style=\"text-align: right;\">\n      <th></th>\n      <th>Name</th>\n    </tr>\n    <tr>\n      <th>Salary or Hourly</th>\n      <th></th>\n    </tr>\n  </thead>\n  <tbody>\n    <tr>\n      <th>Hourly</th>\n      <td>8022</td>\n    </tr>\n    <tr>\n      <th>Salary</th>\n      <td>25161</td>\n    </tr>\n  </tbody>\n</table>\n</div>",
      "text/plain": "                   Name\nSalary or Hourly       \nHourly             8022\nSalary            25161"
     },
     "execution_count": 5,
     "metadata": {},
     "output_type": "execute_result"
    }
   ],
   "source": [
    "# Your code here:\n",
    "\n",
    "# salaries[[\"Typical Hours\", \"Annual Salary\"]].head().sort_values(by=\"Typical Hours\", na_position='last').head()\n",
    "\n",
    "salaries[[\"Name\", \"Salary or Hourly\"]].groupby(\"Salary or Hourly\").count().head()\n",
    "\n"
   ]
  },
  {
   "cell_type": "markdown",
   "metadata": {},
   "source": [
    "What this information indicates is that the table contains information about two types of employees - salaried and hourly. Some columns apply only to one type of employee while other columns only apply to another kind. This is why there are so many missing values. Therefore, we will not do anything to handle the missing values."
   ]
  },
  {
   "cell_type": "markdown",
   "metadata": {},
   "source": [
    "There are different departments in the city. List all departments and the count of employees in each department."
   ]
  },
  {
   "cell_type": "code",
   "execution_count": 6,
   "metadata": {},
   "outputs": [
    {
     "data": {
      "text/html": "<div>\n<style scoped>\n    .dataframe tbody tr th:only-of-type {\n        vertical-align: middle;\n    }\n\n    .dataframe tbody tr th {\n        vertical-align: top;\n    }\n\n    .dataframe thead th {\n        text-align: right;\n    }\n</style>\n<table border=\"1\" class=\"dataframe\">\n  <thead>\n    <tr style=\"text-align: right;\">\n      <th></th>\n      <th>Name</th>\n    </tr>\n    <tr>\n      <th>Department</th>\n      <th></th>\n    </tr>\n  </thead>\n  <tbody>\n    <tr>\n      <th>ADMIN HEARNG</th>\n      <td>39</td>\n    </tr>\n    <tr>\n      <th>ANIMAL CONTRL</th>\n      <td>81</td>\n    </tr>\n    <tr>\n      <th>AVIATION</th>\n      <td>1629</td>\n    </tr>\n    <tr>\n      <th>BOARD OF ELECTION</th>\n      <td>107</td>\n    </tr>\n    <tr>\n      <th>BOARD OF ETHICS</th>\n      <td>8</td>\n    </tr>\n  </tbody>\n</table>\n</div>",
      "text/plain": "                   Name\nDepartment             \nADMIN HEARNG         39\nANIMAL CONTRL        81\nAVIATION           1629\nBOARD OF ELECTION   107\nBOARD OF ETHICS       8"
     },
     "execution_count": 6,
     "metadata": {},
     "output_type": "execute_result"
    }
   ],
   "source": [
    "# Your code here:\n",
    "\n",
    "salaries[[\"Name\", \"Department\"]].groupby(\"Department\").count().head()\n"
   ]
  },
  {
   "cell_type": "markdown",
   "metadata": {},
   "source": [
    "# Challenge 2 - Hypothesis Tests\n",
    "\n",
    "In this section of the lab, we will test whether the hourly wage of all hourly workers is significantly different from $30/hr. Import the correct one sample test function from scipy and perform the hypothesis test for a 95% two sided confidence interval."
   ]
  },
  {
   "cell_type": "code",
   "execution_count": 7,
   "metadata": {},
   "outputs": [
    {
     "data": {
      "text/html": "<div>\n<style scoped>\n    .dataframe tbody tr th:only-of-type {\n        vertical-align: middle;\n    }\n\n    .dataframe tbody tr th {\n        vertical-align: top;\n    }\n\n    .dataframe thead th {\n        text-align: right;\n    }\n</style>\n<table border=\"1\" class=\"dataframe\">\n  <thead>\n    <tr style=\"text-align: right;\">\n      <th></th>\n      <th>Name</th>\n      <th>Job Titles</th>\n      <th>Department</th>\n      <th>Full or Part-Time</th>\n      <th>Salary or Hourly</th>\n      <th>Typical Hours</th>\n      <th>Annual Salary</th>\n      <th>Hourly Rate</th>\n    </tr>\n  </thead>\n  <tbody>\n    <tr>\n      <th>0</th>\n      <td>AARON,  JEFFERY M</td>\n      <td>SERGEANT</td>\n      <td>POLICE</td>\n      <td>F</td>\n      <td>Salary</td>\n      <td>NaN</td>\n      <td>101442.0</td>\n      <td>NaN</td>\n    </tr>\n    <tr>\n      <th>1</th>\n      <td>AARON,  KARINA</td>\n      <td>POLICE OFFICER (ASSIGNED AS DETECTIVE)</td>\n      <td>POLICE</td>\n      <td>F</td>\n      <td>Salary</td>\n      <td>NaN</td>\n      <td>94122.0</td>\n      <td>NaN</td>\n    </tr>\n    <tr>\n      <th>2</th>\n      <td>AARON,  KIMBERLEI R</td>\n      <td>CHIEF CONTRACT EXPEDITER</td>\n      <td>GENERAL SERVICES</td>\n      <td>F</td>\n      <td>Salary</td>\n      <td>NaN</td>\n      <td>101592.0</td>\n      <td>NaN</td>\n    </tr>\n    <tr>\n      <th>3</th>\n      <td>ABAD JR,  VICENTE M</td>\n      <td>CIVIL ENGINEER IV</td>\n      <td>WATER MGMNT</td>\n      <td>F</td>\n      <td>Salary</td>\n      <td>NaN</td>\n      <td>110064.0</td>\n      <td>NaN</td>\n    </tr>\n    <tr>\n      <th>4</th>\n      <td>ABASCAL,  REECE E</td>\n      <td>TRAFFIC CONTROL AIDE-HOURLY</td>\n      <td>OEMC</td>\n      <td>P</td>\n      <td>Hourly</td>\n      <td>20.0</td>\n      <td>NaN</td>\n      <td>19.86</td>\n    </tr>\n  </tbody>\n</table>\n</div>",
      "text/plain": "                  Name                              Job Titles  \\\n0    AARON,  JEFFERY M                                SERGEANT   \n1      AARON,  KARINA   POLICE OFFICER (ASSIGNED AS DETECTIVE)   \n2  AARON,  KIMBERLEI R                CHIEF CONTRACT EXPEDITER   \n3  ABAD JR,  VICENTE M                       CIVIL ENGINEER IV   \n4    ABASCAL,  REECE E             TRAFFIC CONTROL AIDE-HOURLY   \n\n         Department Full or Part-Time Salary or Hourly  Typical Hours  \\\n0            POLICE                 F           Salary            NaN   \n1            POLICE                 F           Salary            NaN   \n2  GENERAL SERVICES                 F           Salary            NaN   \n3       WATER MGMNT                 F           Salary            NaN   \n4              OEMC                 P           Hourly           20.0   \n\n   Annual Salary  Hourly Rate  \n0       101442.0          NaN  \n1        94122.0          NaN  \n2       101592.0          NaN  \n3       110064.0          NaN  \n4            NaN        19.86  "
     },
     "execution_count": 7,
     "metadata": {},
     "output_type": "execute_result"
    }
   ],
   "source": [
    "salaries.head()"
   ]
  },
  {
   "cell_type": "code",
   "execution_count": 8,
   "metadata": {},
   "outputs": [
    {
     "data": {
      "text/plain": "Ttest_1sampResult(statistic=20.6198057854942, pvalue=4.3230240486229894e-92)"
     },
     "execution_count": 8,
     "metadata": {},
     "output_type": "execute_result"
    }
   ],
   "source": [
    "# Your code here:\n",
    "\n",
    "# Hipótesis nula: El salario/hora de los trabajadores es igual a 30$/hora.\n",
    "\n",
    "# Comparación de la desviación existente entre la media dada y la media de la muestra de observaciones independientes obtenida.\n",
    "\n",
    "dfSalary  = salaries[salaries[\"Salary or Hourly\"]==\"Hourly\"][\"Hourly Rate\"]\n",
    "\n",
    "dfSalary.head()\n",
    "\n",
    "stats.ttest_1samp(dfSalary,popmean=30)\n",
    "\n",
    "\n"
   ]
  },
  {
   "cell_type": "markdown",
   "metadata": {},
   "source": [
    "Rechazamos la hipótesis nula, es decir, no podemos afirmar que el salario/hora de los trabajadores sea igual a 30$\n",
    "\n",
    "Esto se debe a que la media de dicha muestra comparada con la supuesta media otorgada de la población no son iguales, y presentan una desviación de casi dos puntos entre sí."
   ]
  },
  {
   "cell_type": "code",
   "execution_count": 26,
   "metadata": {},
   "outputs": [
    {
     "data": {
      "text/plain": "32.78855771628024"
     },
     "execution_count": 26,
     "metadata": {},
     "output_type": "execute_result"
    }
   ],
   "source": [
    "#Test de prueba para verificar la diferencia entre medias anterior\n",
    "\n",
    "salaries[salaries[\"Salary or Hourly\"]==\"Hourly\"][\"Hourly Rate\"].mean()"
   ]
  },
  {
   "cell_type": "markdown",
   "metadata": {},
   "source": [
    "We are also curious about salaries in the police force. The chief of police in Chicago claimed in a press briefing that salaries this year are higher than last year's mean of $86000/year a year for all salaried employees. Test this one sided hypothesis using a 95% confidence interval.\n",
    "\n",
    "Hint: A one tailed test has a p-value that is half of the two tailed p-value. If our hypothesis is greater than, then to reject, the test statistic must also be positive."
   ]
  },
  {
   "cell_type": "code",
   "execution_count": 9,
   "metadata": {},
   "outputs": [
    {
     "data": {
      "text/plain": "0     101442.0\n1      94122.0\n9      93354.0\n11     84054.0\n12     87006.0\nName: Annual Salary, dtype: float64"
     },
     "execution_count": 9,
     "metadata": {},
     "output_type": "execute_result"
    }
   ],
   "source": [
    "# Your code here:\n",
    "\n",
    "# Hipótesis nula: Los salarios de policia de este año son iguales que los del año pasado de 86.000$\n",
    "\n",
    "# Hipótesis alternativa: Los salarios de policia de este año son mayores que los del año pasado de 86.000$\n",
    "\n",
    "df2  = salaries[salaries[\"Department\"]==\"POLICE\"][\"Annual Salary\"].dropna()\n",
    "\n",
    "df2.head()\n"
   ]
  },
  {
   "cell_type": "code",
   "execution_count": 27,
   "metadata": {},
   "outputs": [
    {
     "data": {
      "text/plain": "Ttest_1sampResult(statistic=3.081997005712994, pvalue=0.0020603403550965137)"
     },
     "execution_count": 27,
     "metadata": {},
     "output_type": "execute_result"
    }
   ],
   "source": [
    "\n",
    "stats.ttest_1samp(df2,86000)"
   ]
  },
  {
   "cell_type": "markdown",
   "metadata": {},
   "source": [
    "Rechazamos la hipótesis nula porque el estadístico p-valor obtenido es inferior al nivel de significación de 0,025 (0,05/2) al 95% de confianza.\n",
    "\n",
    "De este modo, se contempla la hipótesis alternativa de que los salarios de este año son mayores que los del año pasado, porque la media de la muestra no es igual a 86.000$ y el \"statistic\" afirma que dicha cifra se situa a la izquierda de la media de la muestra."
   ]
  },
  {
   "cell_type": "code",
   "execution_count": 11,
   "metadata": {},
   "outputs": [
    {
     "data": {
      "text/plain": "86486.41450313339"
     },
     "execution_count": 11,
     "metadata": {},
     "output_type": "execute_result"
    }
   ],
   "source": [
    "#Test de prueba para verificar la diferencia entre medias anterior\n",
    "\n",
    "salaries[salaries[\"Salary or Hourly\"]==\"Hourly\"][\"Hourly Rate\"].mean()\n",
    "\n",
    "df2.mean()"
   ]
  },
  {
   "cell_type": "markdown",
   "metadata": {},
   "source": [
    "Using the `crosstab` function, find the department that has the most hourly workers. "
   ]
  },
  {
   "cell_type": "code",
   "execution_count": 13,
   "metadata": {},
   "outputs": [
    {
     "data": {
      "text/html": "<div>\n<style scoped>\n    .dataframe tbody tr th:only-of-type {\n        vertical-align: middle;\n    }\n\n    .dataframe tbody tr th {\n        vertical-align: top;\n    }\n\n    .dataframe thead th {\n        text-align: right;\n    }\n</style>\n<table border=\"1\" class=\"dataframe\">\n  <thead>\n    <tr style=\"text-align: right;\">\n      <th></th>\n      <th>Name</th>\n      <th>Job Titles</th>\n      <th>Department</th>\n      <th>Full or Part-Time</th>\n      <th>Salary or Hourly</th>\n      <th>Typical Hours</th>\n      <th>Annual Salary</th>\n      <th>Hourly Rate</th>\n    </tr>\n  </thead>\n  <tbody>\n    <tr>\n      <th>0</th>\n      <td>AARON,  JEFFERY M</td>\n      <td>SERGEANT</td>\n      <td>POLICE</td>\n      <td>F</td>\n      <td>Salary</td>\n      <td>NaN</td>\n      <td>101442.0</td>\n      <td>NaN</td>\n    </tr>\n    <tr>\n      <th>1</th>\n      <td>AARON,  KARINA</td>\n      <td>POLICE OFFICER (ASSIGNED AS DETECTIVE)</td>\n      <td>POLICE</td>\n      <td>F</td>\n      <td>Salary</td>\n      <td>NaN</td>\n      <td>94122.0</td>\n      <td>NaN</td>\n    </tr>\n    <tr>\n      <th>2</th>\n      <td>AARON,  KIMBERLEI R</td>\n      <td>CHIEF CONTRACT EXPEDITER</td>\n      <td>GENERAL SERVICES</td>\n      <td>F</td>\n      <td>Salary</td>\n      <td>NaN</td>\n      <td>101592.0</td>\n      <td>NaN</td>\n    </tr>\n    <tr>\n      <th>3</th>\n      <td>ABAD JR,  VICENTE M</td>\n      <td>CIVIL ENGINEER IV</td>\n      <td>WATER MGMNT</td>\n      <td>F</td>\n      <td>Salary</td>\n      <td>NaN</td>\n      <td>110064.0</td>\n      <td>NaN</td>\n    </tr>\n    <tr>\n      <th>4</th>\n      <td>ABASCAL,  REECE E</td>\n      <td>TRAFFIC CONTROL AIDE-HOURLY</td>\n      <td>OEMC</td>\n      <td>P</td>\n      <td>Hourly</td>\n      <td>20.0</td>\n      <td>NaN</td>\n      <td>19.86</td>\n    </tr>\n  </tbody>\n</table>\n</div>",
      "text/plain": "                  Name                              Job Titles  \\\n0    AARON,  JEFFERY M                                SERGEANT   \n1      AARON,  KARINA   POLICE OFFICER (ASSIGNED AS DETECTIVE)   \n2  AARON,  KIMBERLEI R                CHIEF CONTRACT EXPEDITER   \n3  ABAD JR,  VICENTE M                       CIVIL ENGINEER IV   \n4    ABASCAL,  REECE E             TRAFFIC CONTROL AIDE-HOURLY   \n\n         Department Full or Part-Time Salary or Hourly  Typical Hours  \\\n0            POLICE                 F           Salary            NaN   \n1            POLICE                 F           Salary            NaN   \n2  GENERAL SERVICES                 F           Salary            NaN   \n3       WATER MGMNT                 F           Salary            NaN   \n4              OEMC                 P           Hourly           20.0   \n\n   Annual Salary  Hourly Rate  \n0       101442.0          NaN  \n1        94122.0          NaN  \n2       101592.0          NaN  \n3       110064.0          NaN  \n4            NaN        19.86  "
     },
     "execution_count": 13,
     "metadata": {},
     "output_type": "execute_result"
    }
   ],
   "source": [
    "# Your code here:\n",
    "salaries.head()"
   ]
  },
  {
   "cell_type": "code",
   "execution_count": 14,
   "metadata": {},
   "outputs": [
    {
     "data": {
      "text/html": "<div>\n<style scoped>\n    .dataframe tbody tr th:only-of-type {\n        vertical-align: middle;\n    }\n\n    .dataframe tbody tr th {\n        vertical-align: top;\n    }\n\n    .dataframe thead th {\n        text-align: right;\n    }\n</style>\n<table border=\"1\" class=\"dataframe\">\n  <thead>\n    <tr style=\"text-align: right;\">\n      <th>Salary or Hourly</th>\n      <th>Hourly</th>\n      <th>Salary</th>\n    </tr>\n    <tr>\n      <th>Department</th>\n      <th></th>\n      <th></th>\n    </tr>\n  </thead>\n  <tbody>\n    <tr>\n      <th>STREETS &amp; SAN</th>\n      <td>1862</td>\n      <td>336</td>\n    </tr>\n    <tr>\n      <th>WATER MGMNT</th>\n      <td>1513</td>\n      <td>366</td>\n    </tr>\n    <tr>\n      <th>OEMC</th>\n      <td>1273</td>\n      <td>829</td>\n    </tr>\n    <tr>\n      <th>AVIATION</th>\n      <td>1082</td>\n      <td>547</td>\n    </tr>\n    <tr>\n      <th>GENERAL SERVICES</th>\n      <td>765</td>\n      <td>215</td>\n    </tr>\n    <tr>\n      <th>TRANSPORTN</th>\n      <td>725</td>\n      <td>415</td>\n    </tr>\n    <tr>\n      <th>PUBLIC LIBRARY</th>\n      <td>299</td>\n      <td>716</td>\n    </tr>\n    <tr>\n      <th>FAMILY &amp; SUPPORT</th>\n      <td>287</td>\n      <td>328</td>\n    </tr>\n    <tr>\n      <th>CITY COUNCIL</th>\n      <td>64</td>\n      <td>347</td>\n    </tr>\n    <tr>\n      <th>FINANCE</th>\n      <td>44</td>\n      <td>516</td>\n    </tr>\n    <tr>\n      <th>LAW</th>\n      <td>40</td>\n      <td>367</td>\n    </tr>\n    <tr>\n      <th>ANIMAL CONTRL</th>\n      <td>19</td>\n      <td>62</td>\n    </tr>\n    <tr>\n      <th>POLICE</th>\n      <td>10</td>\n      <td>13404</td>\n    </tr>\n    <tr>\n      <th>MAYOR'S OFFICE</th>\n      <td>8</td>\n      <td>77</td>\n    </tr>\n    <tr>\n      <th>BUSINESS AFFAIRS</th>\n      <td>7</td>\n      <td>164</td>\n    </tr>\n    <tr>\n      <th>CULTURAL AFFAIRS</th>\n      <td>7</td>\n      <td>58</td>\n    </tr>\n    <tr>\n      <th>COMMUNITY DEVELOPMENT</th>\n      <td>4</td>\n      <td>203</td>\n    </tr>\n    <tr>\n      <th>HUMAN RESOURCES</th>\n      <td>4</td>\n      <td>75</td>\n    </tr>\n    <tr>\n      <th>HEALTH</th>\n      <td>3</td>\n      <td>485</td>\n    </tr>\n    <tr>\n      <th>PROCUREMENT</th>\n      <td>2</td>\n      <td>90</td>\n    </tr>\n    <tr>\n      <th>FIRE</th>\n      <td>2</td>\n      <td>4639</td>\n    </tr>\n    <tr>\n      <th>BUDGET &amp; MGMT</th>\n      <td>2</td>\n      <td>44</td>\n    </tr>\n    <tr>\n      <th>HUMAN RELATIONS</th>\n      <td>0</td>\n      <td>16</td>\n    </tr>\n    <tr>\n      <th>INSPECTOR GEN</th>\n      <td>0</td>\n      <td>87</td>\n    </tr>\n    <tr>\n      <th>DoIT</th>\n      <td>0</td>\n      <td>99</td>\n    </tr>\n    <tr>\n      <th>LICENSE APPL COMM</th>\n      <td>0</td>\n      <td>1</td>\n    </tr>\n    <tr>\n      <th>DISABILITIES</th>\n      <td>0</td>\n      <td>28</td>\n    </tr>\n    <tr>\n      <th>COPA</th>\n      <td>0</td>\n      <td>116</td>\n    </tr>\n    <tr>\n      <th>CITY CLERK</th>\n      <td>0</td>\n      <td>84</td>\n    </tr>\n    <tr>\n      <th>POLICE BOARD</th>\n      <td>0</td>\n      <td>2</td>\n    </tr>\n    <tr>\n      <th>BUILDINGS</th>\n      <td>0</td>\n      <td>269</td>\n    </tr>\n    <tr>\n      <th>BOARD OF ETHICS</th>\n      <td>0</td>\n      <td>8</td>\n    </tr>\n    <tr>\n      <th>BOARD OF ELECTION</th>\n      <td>0</td>\n      <td>107</td>\n    </tr>\n    <tr>\n      <th>TREASURER</th>\n      <td>0</td>\n      <td>22</td>\n    </tr>\n    <tr>\n      <th>ADMIN HEARNG</th>\n      <td>0</td>\n      <td>39</td>\n    </tr>\n  </tbody>\n</table>\n</div>",
      "text/plain": "Salary or Hourly       Hourly  Salary\nDepartment                           \nSTREETS & SAN            1862     336\nWATER MGMNT              1513     366\nOEMC                     1273     829\nAVIATION                 1082     547\nGENERAL SERVICES          765     215\nTRANSPORTN                725     415\nPUBLIC LIBRARY            299     716\nFAMILY & SUPPORT          287     328\nCITY COUNCIL               64     347\nFINANCE                    44     516\nLAW                        40     367\nANIMAL CONTRL              19      62\nPOLICE                     10   13404\nMAYOR'S OFFICE              8      77\nBUSINESS AFFAIRS            7     164\nCULTURAL AFFAIRS            7      58\nCOMMUNITY DEVELOPMENT       4     203\nHUMAN RESOURCES             4      75\nHEALTH                      3     485\nPROCUREMENT                 2      90\nFIRE                        2    4639\nBUDGET & MGMT               2      44\nHUMAN RELATIONS             0      16\nINSPECTOR GEN               0      87\nDoIT                        0      99\nLICENSE APPL COMM           0       1\nDISABILITIES                0      28\nCOPA                        0     116\nCITY CLERK                  0      84\nPOLICE BOARD                0       2\nBUILDINGS                   0     269\nBOARD OF ETHICS             0       8\nBOARD OF ELECTION           0     107\nTREASURER                   0      22\nADMIN HEARNG                0      39"
     },
     "execution_count": 14,
     "metadata": {},
     "output_type": "execute_result"
    }
   ],
   "source": [
    "df5 = pd.crosstab(salaries[\"Department\"], salaries[\"Salary or Hourly\"]).sort_values(by='Hourly',ascending=False)\n",
    "\n",
    "df5"
   ]
  },
  {
   "cell_type": "markdown",
   "metadata": {},
   "source": [
    "The workers from the department with the most hourly workers have complained that their hourly wage is less than $35/hour. Using a one sample t-test, test this one-sided hypothesis at the 95% confidence level."
   ]
  },
  {
   "cell_type": "code",
   "execution_count": 28,
   "metadata": {},
   "outputs": [
    {
     "data": {
      "text/plain": "7     35.60\n21    21.43\n24    35.60\n36    36.21\n39    35.60\nName: Hourly Rate, dtype: float64"
     },
     "execution_count": 28,
     "metadata": {},
     "output_type": "execute_result"
    }
   ],
   "source": [
    "# Your code here:\n",
    "\n",
    "df6 = salaries[salaries[\"Department\"] ==\"STREETS & SAN\"][\"Hourly Rate\"].dropna()\n",
    "\n",
    "df6.head()"
   ]
  },
  {
   "cell_type": "code",
   "execution_count": 29,
   "metadata": {},
   "outputs": [
    {
     "data": {
      "text/plain": "Ttest_1sampResult(statistic=-9.567447887848152, pvalue=3.3378530564707717e-21)"
     },
     "execution_count": 29,
     "metadata": {},
     "output_type": "execute_result"
    }
   ],
   "source": [
    "# H0: El salario medio de los trabajadores del departamento con más trabajadores por horas es igual a 35$/hora\n",
    "\n",
    "# H1: El salario medio de los trabajadores del departamento con más trabajadores por horas es menor a 35$/hora\n",
    "\n",
    "\n",
    "stats.ttest_1samp(df6,35)"
   ]
  },
  {
   "cell_type": "markdown",
   "metadata": {},
   "source": [
    "p-valor < 0,025\n",
    "\n",
    "Rechazamos la hipótesis nula y abrazamos la hipótesis alternativa\n",
    "\n",
    "En otras palabras, el salario medio de los trabajadores no es igual a 36$ y se sitúa a la derecha atendiendo al \"statistic\""
   ]
  },
  {
   "cell_type": "code",
   "execution_count": 30,
   "metadata": {},
   "outputs": [
    {
     "data": {
      "text/plain": "33.72837808807734"
     },
     "execution_count": 30,
     "metadata": {},
     "output_type": "execute_result"
    }
   ],
   "source": [
    "#Test de prueba para verificar la diferencia entre medias anterior\n",
    "\n",
    "df6.mean()"
   ]
  },
  {
   "cell_type": "markdown",
   "metadata": {},
   "source": [
    "# Challenge 3 - Constructing Confidence Intervals\n",
    "\n",
    "While testing our hypothesis is a great way to gather empirical evidence for accepting or rejecting the hypothesis, another way to gather evidence is by creating a confidence interval. A confidence interval gives us information about the true mean of the population. So for a 95% confidence interval, we are 95% sure that the mean of the population is within the confidence interval. \n",
    ").\n",
    "\n",
    "To read more about confidence intervals, click [here](https://en.wikipedia.org/wiki/Confidence_interval).\n",
    "\n",
    "\n",
    "In the cell below, we will construct a 95% confidence interval for the mean hourly wage of all hourly workers. \n",
    "\n",
    "The confidence interval is computed in SciPy using the `t.interval` function. You can read more about this function [here](https://docs.scipy.org/doc/scipy-0.14.0/reference/generated/scipy.stats.t.html).\n",
    "\n",
    "To compute the confidence interval of the hourly wage, use the 0.95 for the confidence level, number of rows - 1 for degrees of freedom, the mean of the sample for the location parameter and the standard error for the scale. The standard error can be computed using [this](https://docs.scipy.org/doc/scipy/reference/generated/scipy.stats.sem.html) function in SciPy."
   ]
  },
  {
   "cell_type": "code",
   "execution_count": 31,
   "metadata": {},
   "outputs": [
    {
     "data": {
      "text/plain": "<bound method NDFrame.head of 4        19.86\n6        46.10\n7        35.60\n10        2.65\n18       17.68\n         ...  \n33164    46.10\n33168    17.68\n33169    35.60\n33174    46.35\n33175    48.85\nName: Hourly Rate, Length: 8022, dtype: float64>"
     },
     "execution_count": 31,
     "metadata": {},
     "output_type": "execute_result"
    }
   ],
   "source": [
    "# Your code here:\n",
    "\n",
    "df6 = salaries[\"Hourly Rate\"].dropna()\n",
    "\n",
    "df6.head\n"
   ]
  },
  {
   "cell_type": "code",
   "execution_count": 32,
   "metadata": {},
   "outputs": [
    {
     "data": {
      "text/plain": "(32.52345834488425, 33.05365708767623)"
     },
     "execution_count": 32,
     "metadata": {},
     "output_type": "execute_result"
    }
   ],
   "source": [
    "intervalo = stats.t.interval(0.95, len(df6)-1, loc=np.mean(df6), scale=stats.sem(df6))\n",
    "\n",
    "intervalo"
   ]
  },
  {
   "cell_type": "code",
   "execution_count": 33,
   "metadata": {},
   "outputs": [
    {
     "data": {
      "text/plain": "32.78855771628024"
     },
     "execution_count": 33,
     "metadata": {},
     "output_type": "execute_result"
    }
   ],
   "source": [
    "df6.mean()"
   ]
  },
  {
   "cell_type": "markdown",
   "metadata": {},
   "source": [
    "La media de la columna se sitúa en mitad del intervalo de confianza generado, confirmando que el intervalo generado es correcto."
   ]
  },
  {
   "cell_type": "markdown",
   "metadata": {},
   "source": [
    "Now construct the 95% confidence interval for all salaried employeed in the police in the cell below."
   ]
  },
  {
   "cell_type": "code",
   "execution_count": 34,
   "metadata": {},
   "outputs": [
    {
     "data": {
      "text/html": "<div>\n<style scoped>\n    .dataframe tbody tr th:only-of-type {\n        vertical-align: middle;\n    }\n\n    .dataframe tbody tr th {\n        vertical-align: top;\n    }\n\n    .dataframe thead th {\n        text-align: right;\n    }\n</style>\n<table border=\"1\" class=\"dataframe\">\n  <thead>\n    <tr style=\"text-align: right;\">\n      <th></th>\n      <th>Name</th>\n      <th>Job Titles</th>\n      <th>Department</th>\n      <th>Full or Part-Time</th>\n      <th>Salary or Hourly</th>\n      <th>Typical Hours</th>\n      <th>Annual Salary</th>\n      <th>Hourly Rate</th>\n    </tr>\n  </thead>\n  <tbody>\n    <tr>\n      <th>0</th>\n      <td>AARON,  JEFFERY M</td>\n      <td>SERGEANT</td>\n      <td>POLICE</td>\n      <td>F</td>\n      <td>Salary</td>\n      <td>NaN</td>\n      <td>101442.0</td>\n      <td>NaN</td>\n    </tr>\n    <tr>\n      <th>1</th>\n      <td>AARON,  KARINA</td>\n      <td>POLICE OFFICER (ASSIGNED AS DETECTIVE)</td>\n      <td>POLICE</td>\n      <td>F</td>\n      <td>Salary</td>\n      <td>NaN</td>\n      <td>94122.0</td>\n      <td>NaN</td>\n    </tr>\n    <tr>\n      <th>9</th>\n      <td>ABBATE,  TERRY M</td>\n      <td>POLICE OFFICER</td>\n      <td>POLICE</td>\n      <td>F</td>\n      <td>Salary</td>\n      <td>NaN</td>\n      <td>93354.0</td>\n      <td>NaN</td>\n    </tr>\n    <tr>\n      <th>11</th>\n      <td>ABDALLAH,  ZAID</td>\n      <td>POLICE OFFICER</td>\n      <td>POLICE</td>\n      <td>F</td>\n      <td>Salary</td>\n      <td>NaN</td>\n      <td>84054.0</td>\n      <td>NaN</td>\n    </tr>\n    <tr>\n      <th>12</th>\n      <td>ABDELHADI,  ABDALMAHD</td>\n      <td>POLICE OFFICER</td>\n      <td>POLICE</td>\n      <td>F</td>\n      <td>Salary</td>\n      <td>NaN</td>\n      <td>87006.0</td>\n      <td>NaN</td>\n    </tr>\n  </tbody>\n</table>\n</div>",
      "text/plain": "                      Name                              Job Titles Department  \\\n0        AARON,  JEFFERY M                                SERGEANT     POLICE   \n1          AARON,  KARINA   POLICE OFFICER (ASSIGNED AS DETECTIVE)     POLICE   \n9         ABBATE,  TERRY M                          POLICE OFFICER     POLICE   \n11        ABDALLAH,  ZAID                           POLICE OFFICER     POLICE   \n12  ABDELHADI,  ABDALMAHD                           POLICE OFFICER     POLICE   \n\n   Full or Part-Time Salary or Hourly  Typical Hours  Annual Salary  \\\n0                  F           Salary            NaN       101442.0   \n1                  F           Salary            NaN        94122.0   \n9                  F           Salary            NaN        93354.0   \n11                 F           Salary            NaN        84054.0   \n12                 F           Salary            NaN        87006.0   \n\n    Hourly Rate  \n0           NaN  \n1           NaN  \n9           NaN  \n11          NaN  \n12          NaN  "
     },
     "execution_count": 34,
     "metadata": {},
     "output_type": "execute_result"
    }
   ],
   "source": [
    "# Your code here:\n",
    "\n",
    "df7 = salaries[(salaries[\"Department\"]==\"POLICE\")]\n",
    "\n",
    "df7 = df7[(df7[\"Annual Salary\"].notna())]\n",
    "\n",
    "df7.head()\n"
   ]
  },
  {
   "cell_type": "code",
   "execution_count": 35,
   "metadata": {},
   "outputs": [
    {
     "data": {
      "text/plain": "(86177.05631531784, 86795.77269094894)"
     },
     "execution_count": 35,
     "metadata": {},
     "output_type": "execute_result"
    }
   ],
   "source": [
    "intervalo = stats.t.interval(0.95, len(df7[\"Annual Salary\"])-1, loc=np.mean(df7[\"Annual Salary\"]), scale=stats.sem(df7[\"Annual Salary\"]))\n",
    "\n",
    "intervalo"
   ]
  },
  {
   "cell_type": "code",
   "execution_count": 36,
   "metadata": {},
   "outputs": [
    {
     "data": {
      "text/plain": "86486.41450313339"
     },
     "execution_count": 36,
     "metadata": {},
     "output_type": "execute_result"
    }
   ],
   "source": [
    "np.mean(df7[\"Annual Salary\"])"
   ]
  },
  {
   "cell_type": "code",
   "execution_count": null,
   "metadata": {},
   "outputs": [],
   "source": [
    "La media de la columna se sitúa en mitad del intervalo de confianza generado, confirmando que el intervalo generado es correcto."
   ]
  },
  {
   "cell_type": "markdown",
   "metadata": {},
   "source": [
    "# Challenge 4 - Hypothesis Tests of Proportions\n",
    "\n",
    "Another type of one sample test is a hypothesis test of proportions. In this test, we examine whether the proportion of a group in our sample is significantly different than a fraction. \n",
    "\n",
    "You can read more about one sample proportion tests [here](http://sphweb.bumc.bu.edu/otlt/MPH-Modules/BS/SAS/SAS6-CategoricalData/SAS6-CategoricalData2.html).\n",
    "\n",
    "In the cell below, use the `proportions_ztest` function from `statsmodels` to perform a hypothesis test that will determine whether the number of hourly workers in the City of Chicago is significantly different from 25% at the 95% confidence level."
   ]
  },
  {
   "cell_type": "code",
   "execution_count": null,
   "metadata": {},
   "outputs": [],
   "source": [
    "\n",
    "H0: p = 25% \n",
    "\n",
    "H1: p != 25%\n"
   ]
  },
  {
   "cell_type": "code",
   "execution_count": 42,
   "metadata": {},
   "outputs": [
    {
     "data": {
      "text/html": "<div>\n<style scoped>\n    .dataframe tbody tr th:only-of-type {\n        vertical-align: middle;\n    }\n\n    .dataframe tbody tr th {\n        vertical-align: top;\n    }\n\n    .dataframe thead th {\n        text-align: right;\n    }\n</style>\n<table border=\"1\" class=\"dataframe\">\n  <thead>\n    <tr style=\"text-align: right;\">\n      <th></th>\n      <th>Name</th>\n      <th>Job Titles</th>\n      <th>Department</th>\n      <th>Full or Part-Time</th>\n      <th>Salary or Hourly</th>\n      <th>Typical Hours</th>\n      <th>Annual Salary</th>\n      <th>Hourly Rate</th>\n    </tr>\n  </thead>\n  <tbody>\n    <tr>\n      <th>4</th>\n      <td>ABASCAL,  REECE E</td>\n      <td>TRAFFIC CONTROL AIDE-HOURLY</td>\n      <td>OEMC</td>\n      <td>P</td>\n      <td>Hourly</td>\n      <td>20.0</td>\n      <td>NaN</td>\n      <td>19.86</td>\n    </tr>\n    <tr>\n      <th>6</th>\n      <td>ABBATACOLA,  ROBERT J</td>\n      <td>ELECTRICAL MECHANIC</td>\n      <td>AVIATION</td>\n      <td>F</td>\n      <td>Hourly</td>\n      <td>40.0</td>\n      <td>NaN</td>\n      <td>46.10</td>\n    </tr>\n    <tr>\n      <th>7</th>\n      <td>ABBATE,  JOSEPH L</td>\n      <td>POOL MOTOR TRUCK DRIVER</td>\n      <td>STREETS &amp; SAN</td>\n      <td>F</td>\n      <td>Hourly</td>\n      <td>40.0</td>\n      <td>NaN</td>\n      <td>35.60</td>\n    </tr>\n    <tr>\n      <th>10</th>\n      <td>ABBOTT,  BETTY L</td>\n      <td>FOSTER GRANDPARENT</td>\n      <td>FAMILY &amp; SUPPORT</td>\n      <td>P</td>\n      <td>Hourly</td>\n      <td>20.0</td>\n      <td>NaN</td>\n      <td>2.65</td>\n    </tr>\n    <tr>\n      <th>18</th>\n      <td>ABDULLAH,  LAKENYA N</td>\n      <td>CROSSING GUARD</td>\n      <td>OEMC</td>\n      <td>P</td>\n      <td>Hourly</td>\n      <td>20.0</td>\n      <td>NaN</td>\n      <td>17.68</td>\n    </tr>\n  </tbody>\n</table>\n</div>",
      "text/plain": "                     Name                   Job Titles        Department  \\\n4       ABASCAL,  REECE E  TRAFFIC CONTROL AIDE-HOURLY              OEMC   \n6   ABBATACOLA,  ROBERT J          ELECTRICAL MECHANIC          AVIATION   \n7      ABBATE,  JOSEPH L       POOL MOTOR TRUCK DRIVER     STREETS & SAN   \n10       ABBOTT,  BETTY L           FOSTER GRANDPARENT  FAMILY & SUPPORT   \n18   ABDULLAH,  LAKENYA N               CROSSING GUARD              OEMC   \n\n   Full or Part-Time Salary or Hourly  Typical Hours  Annual Salary  \\\n4                  P           Hourly           20.0            NaN   \n6                  F           Hourly           40.0            NaN   \n7                  F           Hourly           40.0            NaN   \n10                 P           Hourly           20.0            NaN   \n18                 P           Hourly           20.0            NaN   \n\n    Hourly Rate  \n4         19.86  \n6         46.10  \n7         35.60  \n10         2.65  \n18        17.68  "
     },
     "execution_count": 42,
     "metadata": {},
     "output_type": "execute_result"
    }
   ],
   "source": [
    "df8 = salaries[(salaries[\"Salary or Hourly\"]==\"Hourly\")]\n",
    "\n",
    "df8.head()"
   ]
  },
  {
   "cell_type": "code",
   "execution_count": 46,
   "metadata": {},
   "outputs": [
    {
     "data": {
      "text/plain": "(-3.5099964213703005, 0.0004481127249057967)"
     },
     "execution_count": 46,
     "metadata": {},
     "output_type": "execute_result"
    }
   ],
   "source": [
    "count = len(df8[\"Salary or Hourly\"])\n",
    "nobs = len(salaries[\"Salary or Hourly\"])\n",
    "value = 0.25\n",
    "\n",
    "proportions_ztest(count, nobs, value)"
   ]
  },
  {
   "cell_type": "markdown",
   "metadata": {},
   "source": [
    "p-valor < 0,05\n",
    "\n",
    "Rechazamos H0\n",
    "\n"
   ]
  }
 ],
 "metadata": {
  "kernelspec": {
   "display_name": "Python 3",
   "language": "python",
   "name": "python3"
  },
  "language_info": {
   "codemirror_mode": {
    "name": "ipython",
    "version": 3
   },
   "file_extension": ".py",
   "mimetype": "text/x-python",
   "name": "python",
   "nbconvert_exporter": "python",
   "pygments_lexer": "ipython3",
   "version": "3.6.9-final"
  }
 },
 "nbformat": 4,
 "nbformat_minor": 2
}