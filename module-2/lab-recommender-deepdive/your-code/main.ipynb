{
 "cells": [
  {
   "cell_type": "markdown",
   "metadata": {},
   "source": [
    "# Recommender Systems Deep-Dive Lab\n",
    "\n",
    "There are many different approaches that we can take when creating recommender systems. In the Intro to Recommender Systems lesson and lab, we put together a user similarity based recommender that first calculated the similarities between users and then leveraged a rank-based item recommender within each group of similar customers. In other words, for a given user, our recommender found the top 5 customers who were the most similar to them, aggregated and ranked the purchases of those 5 customers, and then recommended the top 5 most popular products among that group of similar users to the customer.\n",
    "\n",
    "In this lab, we are going to start out with the same data set, but we are going to dive deeper into the analysis of customers and products and look at an alternative way to generate recommendations.\n",
    "\n",
    "We will begin by importing everything we will need for this lab (libraries, data set, etc.)."
   ]
  },
  {
   "cell_type": "code",
   "execution_count": 134,
   "metadata": {},
   "outputs": [],
   "source": [
    "import pandas as pd\n",
    "from scipy.spatial.distance import pdist, squareform"
   ]
  },
  {
   "cell_type": "code",
   "execution_count": 135,
   "metadata": {},
   "outputs": [
    {
     "data": {
      "text/html": "<div>\n<style scoped>\n    .dataframe tbody tr th:only-of-type {\n        vertical-align: middle;\n    }\n\n    .dataframe tbody tr th {\n        vertical-align: top;\n    }\n\n    .dataframe thead th {\n        text-align: right;\n    }\n</style>\n<table border=\"1\" class=\"dataframe\">\n  <thead>\n    <tr style=\"text-align: right;\">\n      <th></th>\n      <th>CustomerID</th>\n      <th>FirstName</th>\n      <th>LastName</th>\n      <th>SalesID</th>\n      <th>ProductID</th>\n      <th>ProductName</th>\n      <th>Quantity</th>\n    </tr>\n  </thead>\n  <tbody>\n    <tr>\n      <th>0</th>\n      <td>61288</td>\n      <td>Rosa</td>\n      <td>Andersen</td>\n      <td>134196</td>\n      <td>229</td>\n      <td>Bread - Hot Dog Buns</td>\n      <td>16</td>\n    </tr>\n    <tr>\n      <th>1</th>\n      <td>77352</td>\n      <td>Myron</td>\n      <td>Murray</td>\n      <td>6167892</td>\n      <td>229</td>\n      <td>Bread - Hot Dog Buns</td>\n      <td>20</td>\n    </tr>\n    <tr>\n      <th>2</th>\n      <td>40094</td>\n      <td>Susan</td>\n      <td>Stevenson</td>\n      <td>5970885</td>\n      <td>229</td>\n      <td>Bread - Hot Dog Buns</td>\n      <td>11</td>\n    </tr>\n    <tr>\n      <th>3</th>\n      <td>23548</td>\n      <td>Tricia</td>\n      <td>Vincent</td>\n      <td>6426954</td>\n      <td>229</td>\n      <td>Bread - Hot Dog Buns</td>\n      <td>6</td>\n    </tr>\n    <tr>\n      <th>4</th>\n      <td>78981</td>\n      <td>Scott</td>\n      <td>Burch</td>\n      <td>819094</td>\n      <td>229</td>\n      <td>Bread - Hot Dog Buns</td>\n      <td>20</td>\n    </tr>\n  </tbody>\n</table>\n</div>",
      "text/plain": "   CustomerID FirstName   LastName  SalesID  ProductID           ProductName  \\\n0       61288      Rosa   Andersen   134196        229  Bread - Hot Dog Buns   \n1       77352     Myron     Murray  6167892        229  Bread - Hot Dog Buns   \n2       40094     Susan  Stevenson  5970885        229  Bread - Hot Dog Buns   \n3       23548    Tricia    Vincent  6426954        229  Bread - Hot Dog Buns   \n4       78981     Scott      Burch   819094        229  Bread - Hot Dog Buns   \n\n   Quantity  \n0        16  \n1        20  \n2        11  \n3         6  \n4        20  "
     },
     "execution_count": 135,
     "metadata": {},
     "output_type": "execute_result"
    }
   ],
   "source": [
    "data = pd.read_csv('../data/customer_product_sales.csv')\n",
    "\n",
    "data.head()"
   ]
  },
  {
   "cell_type": "markdown",
   "metadata": {},
   "source": [
    "## Data Preparation\n",
    "\n",
    "We will then put together the foundational transformations of the data that we will need to eventually produce recommendations. The steps in this section should be familiar to you, as you would have had to tranform the data in this manner to create the user similarity based recommender in the Intro to Recommender Systems lab.\n",
    "\n",
    "First, we will create a data frame that contains the total quantity of each product purchased by each customer."
   ]
  },
  {
   "cell_type": "code",
   "execution_count": 136,
   "metadata": {},
   "outputs": [
    {
     "data": {
      "text/html": "<div>\n<style scoped>\n    .dataframe tbody tr th:only-of-type {\n        vertical-align: middle;\n    }\n\n    .dataframe tbody tr th {\n        vertical-align: top;\n    }\n\n    .dataframe thead th {\n        text-align: right;\n    }\n</style>\n<table border=\"1\" class=\"dataframe\">\n  <thead>\n    <tr style=\"text-align: right;\">\n      <th></th>\n      <th>CustomerID</th>\n      <th>ProductName</th>\n      <th>Quantity</th>\n    </tr>\n  </thead>\n  <tbody>\n    <tr>\n      <th>0</th>\n      <td>33</td>\n      <td>Apricots - Dried</td>\n      <td>1</td>\n    </tr>\n    <tr>\n      <th>1</th>\n      <td>33</td>\n      <td>Assorted Desserts</td>\n      <td>1</td>\n    </tr>\n    <tr>\n      <th>2</th>\n      <td>33</td>\n      <td>Bandage - Flexible Neon</td>\n      <td>1</td>\n    </tr>\n    <tr>\n      <th>3</th>\n      <td>33</td>\n      <td>Bar Mix - Pina Colada, 355 Ml</td>\n      <td>1</td>\n    </tr>\n    <tr>\n      <th>4</th>\n      <td>33</td>\n      <td>Beans - Kidney, Canned</td>\n      <td>1</td>\n    </tr>\n    <tr>\n      <th>...</th>\n      <td>...</td>\n      <td>...</td>\n      <td>...</td>\n    </tr>\n    <tr>\n      <th>63623</th>\n      <td>98200</td>\n      <td>Vol Au Vents</td>\n      <td>50</td>\n    </tr>\n    <tr>\n      <th>63624</th>\n      <td>98200</td>\n      <td>Wasabi Powder</td>\n      <td>25</td>\n    </tr>\n    <tr>\n      <th>63625</th>\n      <td>98200</td>\n      <td>Wine - Fume Blanc Fetzer</td>\n      <td>25</td>\n    </tr>\n    <tr>\n      <th>63626</th>\n      <td>98200</td>\n      <td>Wine - Hardys Bankside Shiraz</td>\n      <td>25</td>\n    </tr>\n    <tr>\n      <th>63627</th>\n      <td>98200</td>\n      <td>Yogurt - French Vanilla</td>\n      <td>25</td>\n    </tr>\n  </tbody>\n</table>\n<p>63628 rows × 3 columns</p>\n</div>",
      "text/plain": "       CustomerID                    ProductName  Quantity\n0              33               Apricots - Dried         1\n1              33              Assorted Desserts         1\n2              33        Bandage - Flexible Neon         1\n3              33  Bar Mix - Pina Colada, 355 Ml         1\n4              33         Beans - Kidney, Canned         1\n...           ...                            ...       ...\n63623       98200                   Vol Au Vents        50\n63624       98200                  Wasabi Powder        25\n63625       98200       Wine - Fume Blanc Fetzer        25\n63626       98200  Wine - Hardys Bankside Shiraz        25\n63627       98200        Yogurt - French Vanilla        25\n\n[63628 rows x 3 columns]"
     },
     "execution_count": 136,
     "metadata": {},
     "output_type": "execute_result"
    }
   ],
   "source": [
    "customer_products = data.groupby(['CustomerID', 'ProductName']).agg({'Quantity':'sum'}).reset_index()\n",
    "\n",
    "customer_products"
   ]
  },
  {
   "cell_type": "markdown",
   "metadata": {},
   "source": [
    "Then, we want to create a matrix that has customers on one axis, products on the other, and the quantity purchased as the values. There will be many instances where a customer has not purchased a product, which by default will be expressed with a null value. We will want to replace those nulls with zeros by appending `.fillna(0)` to our pivot table."
   ]
  },
  {
   "cell_type": "code",
   "execution_count": 137,
   "metadata": {},
   "outputs": [
    {
     "data": {
      "text/html": "<div>\n<style scoped>\n    .dataframe tbody tr th:only-of-type {\n        vertical-align: middle;\n    }\n\n    .dataframe tbody tr th {\n        vertical-align: top;\n    }\n\n    .dataframe thead th {\n        text-align: right;\n    }\n</style>\n<table border=\"1\" class=\"dataframe\">\n  <thead>\n    <tr style=\"text-align: right;\">\n      <th>CustomerID</th>\n      <th>33</th>\n      <th>200</th>\n      <th>264</th>\n      <th>356</th>\n      <th>412</th>\n      <th>464</th>\n      <th>477</th>\n      <th>639</th>\n      <th>649</th>\n      <th>669</th>\n      <th>...</th>\n      <th>97697</th>\n      <th>97753</th>\n      <th>97769</th>\n      <th>97793</th>\n      <th>97900</th>\n      <th>97928</th>\n      <th>98069</th>\n      <th>98159</th>\n      <th>98185</th>\n      <th>98200</th>\n    </tr>\n    <tr>\n      <th>ProductName</th>\n      <th></th>\n      <th></th>\n      <th></th>\n      <th></th>\n      <th></th>\n      <th></th>\n      <th></th>\n      <th></th>\n      <th></th>\n      <th></th>\n      <th></th>\n      <th></th>\n      <th></th>\n      <th></th>\n      <th></th>\n      <th></th>\n      <th></th>\n      <th></th>\n      <th></th>\n      <th></th>\n      <th></th>\n    </tr>\n  </thead>\n  <tbody>\n    <tr>\n      <th>Anchovy Paste - 56 G Tube</th>\n      <td>0.0</td>\n      <td>0.0</td>\n      <td>0.0</td>\n      <td>0.0</td>\n      <td>0.0</td>\n      <td>0.0</td>\n      <td>0.0</td>\n      <td>1.0</td>\n      <td>0.0</td>\n      <td>0.0</td>\n      <td>...</td>\n      <td>0.0</td>\n      <td>25.0</td>\n      <td>0.0</td>\n      <td>0.0</td>\n      <td>0.0</td>\n      <td>0.0</td>\n      <td>0.0</td>\n      <td>0.0</td>\n      <td>0.0</td>\n      <td>0.0</td>\n    </tr>\n    <tr>\n      <th>Appetizer - Mini Egg Roll, Shrimp</th>\n      <td>0.0</td>\n      <td>0.0</td>\n      <td>0.0</td>\n      <td>0.0</td>\n      <td>0.0</td>\n      <td>0.0</td>\n      <td>0.0</td>\n      <td>0.0</td>\n      <td>0.0</td>\n      <td>0.0</td>\n      <td>...</td>\n      <td>25.0</td>\n      <td>25.0</td>\n      <td>0.0</td>\n      <td>0.0</td>\n      <td>0.0</td>\n      <td>0.0</td>\n      <td>0.0</td>\n      <td>0.0</td>\n      <td>0.0</td>\n      <td>0.0</td>\n    </tr>\n    <tr>\n      <th>Appetizer - Mushroom Tart</th>\n      <td>0.0</td>\n      <td>0.0</td>\n      <td>0.0</td>\n      <td>0.0</td>\n      <td>0.0</td>\n      <td>0.0</td>\n      <td>0.0</td>\n      <td>1.0</td>\n      <td>0.0</td>\n      <td>0.0</td>\n      <td>...</td>\n      <td>25.0</td>\n      <td>0.0</td>\n      <td>0.0</td>\n      <td>0.0</td>\n      <td>0.0</td>\n      <td>0.0</td>\n      <td>0.0</td>\n      <td>0.0</td>\n      <td>25.0</td>\n      <td>0.0</td>\n    </tr>\n    <tr>\n      <th>Appetizer - Sausage Rolls</th>\n      <td>0.0</td>\n      <td>0.0</td>\n      <td>0.0</td>\n      <td>0.0</td>\n      <td>0.0</td>\n      <td>0.0</td>\n      <td>0.0</td>\n      <td>0.0</td>\n      <td>0.0</td>\n      <td>0.0</td>\n      <td>...</td>\n      <td>0.0</td>\n      <td>0.0</td>\n      <td>0.0</td>\n      <td>0.0</td>\n      <td>25.0</td>\n      <td>25.0</td>\n      <td>25.0</td>\n      <td>0.0</td>\n      <td>25.0</td>\n      <td>0.0</td>\n    </tr>\n    <tr>\n      <th>Apricots - Dried</th>\n      <td>1.0</td>\n      <td>0.0</td>\n      <td>0.0</td>\n      <td>0.0</td>\n      <td>1.0</td>\n      <td>0.0</td>\n      <td>0.0</td>\n      <td>0.0</td>\n      <td>0.0</td>\n      <td>0.0</td>\n      <td>...</td>\n      <td>0.0</td>\n      <td>25.0</td>\n      <td>0.0</td>\n      <td>0.0</td>\n      <td>0.0</td>\n      <td>0.0</td>\n      <td>0.0</td>\n      <td>0.0</td>\n      <td>0.0</td>\n      <td>0.0</td>\n    </tr>\n  </tbody>\n</table>\n<p>5 rows × 1000 columns</p>\n</div>",
      "text/plain": "CustomerID                         33     200    264    356    412    464    \\\nProductName                                                                   \nAnchovy Paste - 56 G Tube            0.0    0.0    0.0    0.0    0.0    0.0   \nAppetizer - Mini Egg Roll, Shrimp    0.0    0.0    0.0    0.0    0.0    0.0   \nAppetizer - Mushroom Tart            0.0    0.0    0.0    0.0    0.0    0.0   \nAppetizer - Sausage Rolls            0.0    0.0    0.0    0.0    0.0    0.0   \nApricots - Dried                     1.0    0.0    0.0    0.0    1.0    0.0   \n\nCustomerID                         477    639    649    669    ...  97697  \\\nProductName                                                    ...          \nAnchovy Paste - 56 G Tube            0.0    1.0    0.0    0.0  ...    0.0   \nAppetizer - Mini Egg Roll, Shrimp    0.0    0.0    0.0    0.0  ...   25.0   \nAppetizer - Mushroom Tart            0.0    1.0    0.0    0.0  ...   25.0   \nAppetizer - Sausage Rolls            0.0    0.0    0.0    0.0  ...    0.0   \nApricots - Dried                     0.0    0.0    0.0    0.0  ...    0.0   \n\nCustomerID                         97753  97769  97793  97900  97928  98069  \\\nProductName                                                                   \nAnchovy Paste - 56 G Tube           25.0    0.0    0.0    0.0    0.0    0.0   \nAppetizer - Mini Egg Roll, Shrimp   25.0    0.0    0.0    0.0    0.0    0.0   \nAppetizer - Mushroom Tart            0.0    0.0    0.0    0.0    0.0    0.0   \nAppetizer - Sausage Rolls            0.0    0.0    0.0   25.0   25.0   25.0   \nApricots - Dried                    25.0    0.0    0.0    0.0    0.0    0.0   \n\nCustomerID                         98159  98185  98200  \nProductName                                             \nAnchovy Paste - 56 G Tube            0.0    0.0    0.0  \nAppetizer - Mini Egg Roll, Shrimp    0.0    0.0    0.0  \nAppetizer - Mushroom Tart            0.0   25.0    0.0  \nAppetizer - Sausage Rolls            0.0   25.0    0.0  \nApricots - Dried                     0.0    0.0    0.0  \n\n[5 rows x 1000 columns]"
     },
     "execution_count": 137,
     "metadata": {},
     "output_type": "execute_result"
    }
   ],
   "source": [
    "prod_cust_pivot = customer_products.pivot_table(values='Quantity', \n",
    "                                                columns='CustomerID', \n",
    "                                                index='ProductName', \n",
    "                                                aggfunc='sum').fillna(0)\n",
    "\n",
    "prod_cust_pivot.head()"
   ]
  },
  {
   "cell_type": "markdown",
   "metadata": {},
   "source": [
    "In the pivot table we created, the rows represent the products and the columns represent the customers. Depending on what need to do with the matrix, we may instead need to transpose it so that the rows represent customers and the columns to represent products. We can do this easily by appending `.T` to our product customer matrix."
   ]
  },
  {
   "cell_type": "code",
   "execution_count": 138,
   "metadata": {},
   "outputs": [
    {
     "data": {
      "text/html": "<div>\n<style scoped>\n    .dataframe tbody tr th:only-of-type {\n        vertical-align: middle;\n    }\n\n    .dataframe tbody tr th {\n        vertical-align: top;\n    }\n\n    .dataframe thead th {\n        text-align: right;\n    }\n</style>\n<table border=\"1\" class=\"dataframe\">\n  <thead>\n    <tr style=\"text-align: right;\">\n      <th>ProductName</th>\n      <th>Anchovy Paste - 56 G Tube</th>\n      <th>Appetizer - Mini Egg Roll, Shrimp</th>\n      <th>Appetizer - Mushroom Tart</th>\n      <th>Appetizer - Sausage Rolls</th>\n      <th>Apricots - Dried</th>\n      <th>Apricots - Halves</th>\n      <th>Apricots Fresh</th>\n      <th>Arizona - Green Tea</th>\n      <th>Artichokes - Jerusalem</th>\n      <th>Assorted Desserts</th>\n      <th>...</th>\n      <th>Wine - White, Colubia Cresh</th>\n      <th>Wine - White, Mosel Gold</th>\n      <th>Wine - White, Schroder And Schyl</th>\n      <th>Wine - Wyndham Estate Bin 777</th>\n      <th>Wonton Wrappers</th>\n      <th>Yeast Dry - Fermipan</th>\n      <th>Yoghurt Tubes</th>\n      <th>Yogurt - Blueberry, 175 Gr</th>\n      <th>Yogurt - French Vanilla</th>\n      <th>Zucchini - Yellow</th>\n    </tr>\n    <tr>\n      <th>CustomerID</th>\n      <th></th>\n      <th></th>\n      <th></th>\n      <th></th>\n      <th></th>\n      <th></th>\n      <th></th>\n      <th></th>\n      <th></th>\n      <th></th>\n      <th></th>\n      <th></th>\n      <th></th>\n      <th></th>\n      <th></th>\n      <th></th>\n      <th></th>\n      <th></th>\n      <th></th>\n      <th></th>\n      <th></th>\n    </tr>\n  </thead>\n  <tbody>\n    <tr>\n      <th>33</th>\n      <td>0.0</td>\n      <td>0.0</td>\n      <td>0.0</td>\n      <td>0.0</td>\n      <td>1.0</td>\n      <td>0.0</td>\n      <td>0.0</td>\n      <td>0.0</td>\n      <td>0.0</td>\n      <td>1.0</td>\n      <td>...</td>\n      <td>0.0</td>\n      <td>0.0</td>\n      <td>0.0</td>\n      <td>0.0</td>\n      <td>0.0</td>\n      <td>0.0</td>\n      <td>0.0</td>\n      <td>0.0</td>\n      <td>1.0</td>\n      <td>0.0</td>\n    </tr>\n    <tr>\n      <th>200</th>\n      <td>0.0</td>\n      <td>0.0</td>\n      <td>0.0</td>\n      <td>0.0</td>\n      <td>0.0</td>\n      <td>0.0</td>\n      <td>0.0</td>\n      <td>0.0</td>\n      <td>0.0</td>\n      <td>0.0</td>\n      <td>...</td>\n      <td>1.0</td>\n      <td>0.0</td>\n      <td>0.0</td>\n      <td>0.0</td>\n      <td>0.0</td>\n      <td>0.0</td>\n      <td>0.0</td>\n      <td>1.0</td>\n      <td>0.0</td>\n      <td>0.0</td>\n    </tr>\n    <tr>\n      <th>264</th>\n      <td>0.0</td>\n      <td>0.0</td>\n      <td>0.0</td>\n      <td>0.0</td>\n      <td>0.0</td>\n      <td>1.0</td>\n      <td>1.0</td>\n      <td>0.0</td>\n      <td>0.0</td>\n      <td>0.0</td>\n      <td>...</td>\n      <td>0.0</td>\n      <td>0.0</td>\n      <td>0.0</td>\n      <td>1.0</td>\n      <td>0.0</td>\n      <td>0.0</td>\n      <td>0.0</td>\n      <td>0.0</td>\n      <td>0.0</td>\n      <td>0.0</td>\n    </tr>\n    <tr>\n      <th>356</th>\n      <td>0.0</td>\n      <td>0.0</td>\n      <td>0.0</td>\n      <td>0.0</td>\n      <td>0.0</td>\n      <td>0.0</td>\n      <td>0.0</td>\n      <td>0.0</td>\n      <td>0.0</td>\n      <td>0.0</td>\n      <td>...</td>\n      <td>0.0</td>\n      <td>0.0</td>\n      <td>0.0</td>\n      <td>0.0</td>\n      <td>0.0</td>\n      <td>0.0</td>\n      <td>0.0</td>\n      <td>0.0</td>\n      <td>1.0</td>\n      <td>0.0</td>\n    </tr>\n    <tr>\n      <th>412</th>\n      <td>0.0</td>\n      <td>0.0</td>\n      <td>0.0</td>\n      <td>0.0</td>\n      <td>1.0</td>\n      <td>0.0</td>\n      <td>0.0</td>\n      <td>0.0</td>\n      <td>0.0</td>\n      <td>0.0</td>\n      <td>...</td>\n      <td>0.0</td>\n      <td>1.0</td>\n      <td>1.0</td>\n      <td>1.0</td>\n      <td>0.0</td>\n      <td>0.0</td>\n      <td>0.0</td>\n      <td>0.0</td>\n      <td>0.0</td>\n      <td>0.0</td>\n    </tr>\n  </tbody>\n</table>\n<p>5 rows × 452 columns</p>\n</div>",
      "text/plain": "ProductName  Anchovy Paste - 56 G Tube  Appetizer - Mini Egg Roll, Shrimp  \\\nCustomerID                                                                  \n33                                 0.0                                0.0   \n200                                0.0                                0.0   \n264                                0.0                                0.0   \n356                                0.0                                0.0   \n412                                0.0                                0.0   \n\nProductName  Appetizer - Mushroom Tart  Appetizer - Sausage Rolls  \\\nCustomerID                                                          \n33                                 0.0                        0.0   \n200                                0.0                        0.0   \n264                                0.0                        0.0   \n356                                0.0                        0.0   \n412                                0.0                        0.0   \n\nProductName  Apricots - Dried  Apricots - Halves  Apricots Fresh  \\\nCustomerID                                                         \n33                        1.0                0.0             0.0   \n200                       0.0                0.0             0.0   \n264                       0.0                1.0             1.0   \n356                       0.0                0.0             0.0   \n412                       1.0                0.0             0.0   \n\nProductName  Arizona - Green Tea  Artichokes - Jerusalem  Assorted Desserts  \\\nCustomerID                                                                    \n33                           0.0                     0.0                1.0   \n200                          0.0                     0.0                0.0   \n264                          0.0                     0.0                0.0   \n356                          0.0                     0.0                0.0   \n412                          0.0                     0.0                0.0   \n\nProductName  ...  Wine - White, Colubia Cresh  Wine - White, Mosel Gold  \\\nCustomerID   ...                                                          \n33           ...                          0.0                       0.0   \n200          ...                          1.0                       0.0   \n264          ...                          0.0                       0.0   \n356          ...                          0.0                       0.0   \n412          ...                          0.0                       1.0   \n\nProductName  Wine - White, Schroder And Schyl  Wine - Wyndham Estate Bin 777  \\\nCustomerID                                                                     \n33                                        0.0                            0.0   \n200                                       0.0                            0.0   \n264                                       0.0                            1.0   \n356                                       0.0                            0.0   \n412                                       1.0                            1.0   \n\nProductName  Wonton Wrappers  Yeast Dry - Fermipan  Yoghurt Tubes  \\\nCustomerID                                                          \n33                       0.0                   0.0            0.0   \n200                      0.0                   0.0            0.0   \n264                      0.0                   0.0            0.0   \n356                      0.0                   0.0            0.0   \n412                      0.0                   0.0            0.0   \n\nProductName  Yogurt - Blueberry, 175 Gr  Yogurt - French Vanilla  \\\nCustomerID                                                         \n33                                  0.0                      1.0   \n200                                 1.0                      0.0   \n264                                 0.0                      0.0   \n356                                 0.0                      1.0   \n412                                 0.0                      0.0   \n\nProductName  Zucchini - Yellow  \nCustomerID                      \n33                         0.0  \n200                        0.0  \n264                        0.0  \n356                        0.0  \n412                        0.0  \n\n[5 rows x 452 columns]"
     },
     "execution_count": 138,
     "metadata": {},
     "output_type": "execute_result"
    }
   ],
   "source": [
    "cust_prod_pivot = prod_cust_pivot.T\n",
    "cust_prod_pivot.head()"
   ]
  },
  {
   "cell_type": "markdown",
   "metadata": {},
   "source": [
    "Another thing we may want to do is normalize the values across rows or columns of the matrix so that all the values are between 0 and 1. Doing this for customers would help us identify customers that may have purcahsed a similar mix of products even though some of those customers may have purchased large quantities while other may have purchased smaller quantities. Doing this for products would help us better identify products that have been purchased by similar groups of customers regardless of the quantities purchased.\n",
    "\n",
    "We can normalize across rows for each matrix as follows."
   ]
  },
  {
   "cell_type": "code",
   "execution_count": 139,
   "metadata": {},
   "outputs": [],
   "source": [
    "prod_cust_pivot = prod_cust_pivot.div(prod_cust_pivot.sum(axis=1), axis=0)\n",
    "cust_prod_pivot = cust_prod_pivot.div(cust_prod_pivot.sum(axis=1), axis=0)\n"
   ]
  },
  {
   "cell_type": "markdown",
   "metadata": {},
   "source": [
    "## User Similarity Based Recommendations"
   ]
  },
  {
   "cell_type": "markdown",
   "metadata": {},
   "source": [
    "The next step in creating recommendations is calculating similarities. For our user similarity based recommender, we calculated them between customers."
   ]
  },
  {
   "cell_type": "code",
   "execution_count": 140,
   "metadata": {},
   "outputs": [
    {
     "data": {
      "text/html": "<div>\n<style scoped>\n    .dataframe tbody tr th:only-of-type {\n        vertical-align: middle;\n    }\n\n    .dataframe tbody tr th {\n        vertical-align: top;\n    }\n\n    .dataframe thead th {\n        text-align: right;\n    }\n</style>\n<table border=\"1\" class=\"dataframe\">\n  <thead>\n    <tr style=\"text-align: right;\">\n      <th>CustomerID</th>\n      <th>33</th>\n      <th>200</th>\n      <th>264</th>\n      <th>356</th>\n      <th>412</th>\n      <th>464</th>\n      <th>477</th>\n      <th>639</th>\n      <th>649</th>\n      <th>669</th>\n      <th>...</th>\n      <th>97697</th>\n      <th>97753</th>\n      <th>97769</th>\n      <th>97793</th>\n      <th>97900</th>\n      <th>97928</th>\n      <th>98069</th>\n      <th>98159</th>\n      <th>98185</th>\n      <th>98200</th>\n    </tr>\n    <tr>\n      <th>CustomerID</th>\n      <th></th>\n      <th></th>\n      <th></th>\n      <th></th>\n      <th></th>\n      <th></th>\n      <th></th>\n      <th></th>\n      <th></th>\n      <th></th>\n      <th></th>\n      <th></th>\n      <th></th>\n      <th></th>\n      <th></th>\n      <th></th>\n      <th></th>\n      <th></th>\n      <th></th>\n      <th></th>\n      <th></th>\n    </tr>\n  </thead>\n  <tbody>\n    <tr>\n      <th>33</th>\n      <td>1.000000</td>\n      <td>0.854082</td>\n      <td>0.859145</td>\n      <td>0.852783</td>\n      <td>0.856118</td>\n      <td>0.853239</td>\n      <td>0.849549</td>\n      <td>0.848801</td>\n      <td>0.851224</td>\n      <td>0.849892</td>\n      <td>...</td>\n      <td>0.855130</td>\n      <td>0.846812</td>\n      <td>0.850301</td>\n      <td>0.841254</td>\n      <td>0.852221</td>\n      <td>0.846485</td>\n      <td>0.852848</td>\n      <td>0.847637</td>\n      <td>0.856465</td>\n      <td>0.851614</td>\n    </tr>\n    <tr>\n      <th>200</th>\n      <td>0.854082</td>\n      <td>1.000000</td>\n      <td>0.857935</td>\n      <td>0.855900</td>\n      <td>0.856445</td>\n      <td>0.853129</td>\n      <td>0.863562</td>\n      <td>0.850521</td>\n      <td>0.857381</td>\n      <td>0.856621</td>\n      <td>...</td>\n      <td>0.864397</td>\n      <td>0.856014</td>\n      <td>0.862447</td>\n      <td>0.854629</td>\n      <td>0.856670</td>\n      <td>0.854046</td>\n      <td>0.868990</td>\n      <td>0.857312</td>\n      <td>0.861508</td>\n      <td>0.857184</td>\n    </tr>\n    <tr>\n      <th>264</th>\n      <td>0.859145</td>\n      <td>0.857935</td>\n      <td>1.000000</td>\n      <td>0.851801</td>\n      <td>0.860050</td>\n      <td>0.851262</td>\n      <td>0.855847</td>\n      <td>0.846677</td>\n      <td>0.854206</td>\n      <td>0.848997</td>\n      <td>...</td>\n      <td>0.861268</td>\n      <td>0.850766</td>\n      <td>0.854178</td>\n      <td>0.848507</td>\n      <td>0.858909</td>\n      <td>0.860153</td>\n      <td>0.859773</td>\n      <td>0.854246</td>\n      <td>0.864699</td>\n      <td>0.853668</td>\n    </tr>\n    <tr>\n      <th>356</th>\n      <td>0.852783</td>\n      <td>0.855900</td>\n      <td>0.851801</td>\n      <td>1.000000</td>\n      <td>0.852571</td>\n      <td>0.849431</td>\n      <td>0.853831</td>\n      <td>0.851902</td>\n      <td>0.847607</td>\n      <td>0.846328</td>\n      <td>...</td>\n      <td>0.857171</td>\n      <td>0.848015</td>\n      <td>0.852222</td>\n      <td>0.847706</td>\n      <td>0.851413</td>\n      <td>0.851289</td>\n      <td>0.851219</td>\n      <td>0.852260</td>\n      <td>0.860721</td>\n      <td>0.854377</td>\n    </tr>\n    <tr>\n      <th>412</th>\n      <td>0.856118</td>\n      <td>0.856445</td>\n      <td>0.860050</td>\n      <td>0.852571</td>\n      <td>1.000000</td>\n      <td>0.855755</td>\n      <td>0.858976</td>\n      <td>0.857221</td>\n      <td>0.854857</td>\n      <td>0.855991</td>\n      <td>...</td>\n      <td>0.859117</td>\n      <td>0.862847</td>\n      <td>0.854943</td>\n      <td>0.850044</td>\n      <td>0.858385</td>\n      <td>0.856629</td>\n      <td>0.855052</td>\n      <td>0.856608</td>\n      <td>0.865269</td>\n      <td>0.862253</td>\n    </tr>\n  </tbody>\n</table>\n<p>5 rows × 1000 columns</p>\n</div>",
      "text/plain": "CustomerID     33        200       264       356       412       464    \\\nCustomerID                                                               \n33          1.000000  0.854082  0.859145  0.852783  0.856118  0.853239   \n200         0.854082  1.000000  0.857935  0.855900  0.856445  0.853129   \n264         0.859145  0.857935  1.000000  0.851801  0.860050  0.851262   \n356         0.852783  0.855900  0.851801  1.000000  0.852571  0.849431   \n412         0.856118  0.856445  0.860050  0.852571  1.000000  0.855755   \n\nCustomerID     477       639       649       669    ...     97697     97753  \\\nCustomerID                                          ...                       \n33          0.849549  0.848801  0.851224  0.849892  ...  0.855130  0.846812   \n200         0.863562  0.850521  0.857381  0.856621  ...  0.864397  0.856014   \n264         0.855847  0.846677  0.854206  0.848997  ...  0.861268  0.850766   \n356         0.853831  0.851902  0.847607  0.846328  ...  0.857171  0.848015   \n412         0.858976  0.857221  0.854857  0.855991  ...  0.859117  0.862847   \n\nCustomerID     97769     97793     97900     97928     98069     98159  \\\nCustomerID                                                               \n33          0.850301  0.841254  0.852221  0.846485  0.852848  0.847637   \n200         0.862447  0.854629  0.856670  0.854046  0.868990  0.857312   \n264         0.854178  0.848507  0.858909  0.860153  0.859773  0.854246   \n356         0.852222  0.847706  0.851413  0.851289  0.851219  0.852260   \n412         0.854943  0.850044  0.858385  0.856629  0.855052  0.856608   \n\nCustomerID     98185     98200  \nCustomerID                      \n33          0.856465  0.851614  \n200         0.861508  0.857184  \n264         0.864699  0.853668  \n356         0.860721  0.854377  \n412         0.865269  0.862253  \n\n[5 rows x 1000 columns]"
     },
     "execution_count": 140,
     "metadata": {},
     "output_type": "execute_result"
    }
   ],
   "source": [
    "cust_dist = pd.DataFrame(1/(1 + squareform(pdist(cust_prod_pivot, 'euclidean'))),\n",
    "                         index=cust_prod_pivot.index, columns=cust_prod_pivot.index)\n",
    "\n",
    "cust_dist.head()"
   ]
  },
  {
   "cell_type": "markdown",
   "metadata": {},
   "source": [
    "Once we had our similarity matrix, then we could produce recommendations for each user and package all the recommendations into a data frame."
   ]
  },
  {
   "cell_type": "code",
   "execution_count": 141,
   "metadata": {},
   "outputs": [
    {
     "data": {
      "text/html": "<div>\n<style scoped>\n    .dataframe tbody tr th:only-of-type {\n        vertical-align: middle;\n    }\n\n    .dataframe tbody tr th {\n        vertical-align: top;\n    }\n\n    .dataframe thead th {\n        text-align: right;\n    }\n</style>\n<table border=\"1\" class=\"dataframe\">\n  <thead>\n    <tr style=\"text-align: right;\">\n      <th></th>\n      <th>CustomerID</th>\n      <th>Rec1</th>\n      <th>Rec2</th>\n      <th>Rec3</th>\n      <th>Rec4</th>\n      <th>Rec5</th>\n    </tr>\n  </thead>\n  <tbody>\n    <tr>\n      <th>0</th>\n      <td>33</td>\n      <td>Wine - Redchard Merritt</td>\n      <td>Bread - Calabrese Baguette</td>\n      <td>Thyme - Lemon, Fresh</td>\n      <td>Milk Powder</td>\n      <td>Ecolab - Lime - A - Way 4/4 L</td>\n    </tr>\n    <tr>\n      <th>1</th>\n      <td>200</td>\n      <td>Sauce - Demi Glace</td>\n      <td>General Purpose Trigger</td>\n      <td>Cookie Chocolate Chip With</td>\n      <td>Chef Hat 20cm</td>\n      <td>Pasta - Angel Hair</td>\n    </tr>\n    <tr>\n      <th>2</th>\n      <td>264</td>\n      <td>Ezy Change Mophandle</td>\n      <td>Eggplant - Asian</td>\n      <td>Scallops - 10/20</td>\n      <td>Cinnamon Buns Sticky</td>\n      <td>Wine - Ej Gallo Sierra Valley</td>\n    </tr>\n    <tr>\n      <th>3</th>\n      <td>356</td>\n      <td>Tea - Herbal Sweet Dreams</td>\n      <td>Curry Paste - Madras</td>\n      <td>Tea - English Breakfast</td>\n      <td>Juice - Orange</td>\n      <td>Ecolab - Lime - A - Way 4/4 L</td>\n    </tr>\n    <tr>\n      <th>4</th>\n      <td>412</td>\n      <td>Cake - Box Window 10x10x2.5</td>\n      <td>Beef - Montreal Smoked Brisket</td>\n      <td>Bread - Raisin Walnut Oval</td>\n      <td>Mushroom - Trumpet, Dry</td>\n      <td>Cheese - Mix</td>\n    </tr>\n  </tbody>\n</table>\n</div>",
      "text/plain": "   CustomerID                         Rec1                            Rec2  \\\n0          33      Wine - Redchard Merritt      Bread - Calabrese Baguette   \n1         200           Sauce - Demi Glace         General Purpose Trigger   \n2         264         Ezy Change Mophandle                Eggplant - Asian   \n3         356    Tea - Herbal Sweet Dreams            Curry Paste - Madras   \n4         412  Cake - Box Window 10x10x2.5  Beef - Montreal Smoked Brisket   \n\n                         Rec3                     Rec4  \\\n0        Thyme - Lemon, Fresh              Milk Powder   \n1  Cookie Chocolate Chip With            Chef Hat 20cm   \n2            Scallops - 10/20     Cinnamon Buns Sticky   \n3     Tea - English Breakfast           Juice - Orange   \n4  Bread - Raisin Walnut Oval  Mushroom - Trumpet, Dry   \n\n                            Rec5  \n0  Ecolab - Lime - A - Way 4/4 L  \n1             Pasta - Angel Hair  \n2  Wine - Ej Gallo Sierra Valley  \n3  Ecolab - Lime - A - Way 4/4 L  \n4                   Cheese - Mix  "
     },
     "execution_count": 141,
     "metadata": {},
     "output_type": "execute_result"
    }
   ],
   "source": [
    "recommendations = {}\n",
    "customers = list(customer_products['CustomerID'].unique())\n",
    "\n",
    "for customer in customers:\n",
    "    similar_cust = list(cust_dist[customer].sort_values(ascending=False)[1:].head().index)\n",
    "    sim_cust_prod = customer_products[customer_products['CustomerID'].isin(similar_cust)]\n",
    "    grouped = sim_cust_prod.groupby('ProductName').agg({'Quantity':'sum'})\n",
    "    ranked_products = grouped.sort_values('Quantity', ascending=False).reset_index()\n",
    "    \n",
    "    merged = pd.merge(ranked_products, pd.DataFrame(cust_prod_pivot.T[customer]), on='ProductName')\n",
    "    merged.columns = ['ProductName', 'Quantity', 'Purchased']\n",
    "    recs = merged[merged['Purchased']==0].head()\n",
    "    recommendations[customer] = list(recs['ProductName'])\n",
    "\n",
    "user_recs = pd.DataFrame.from_dict(recommendations, orient='index').reset_index()\n",
    "user_recs.columns = ['CustomerID', 'Rec1', 'Rec2', 'Rec3', 'Rec4', 'Rec5']\n",
    "user_recs.head()"
   ]
  },
  {
   "cell_type": "markdown",
   "metadata": {},
   "source": [
    "## Deeper Dive Into Our User Similarity Recommendations\n",
    "\n",
    "Let's deconstruct what we've done and take a deeper dive into how we put this together. Doing this will equip us with the knowledge to be able to put together an item-based similarity recommender in the next section. \n",
    "\n",
    "After creating an empty dictionary to store our recommendations and getting a unique list of customer IDs to iterate through, we are first identifying the top 5 similar customers to the customer we are trying to generate recommendations for. Let's plug in customer ID 33 and see what results we get."
   ]
  },
  {
   "cell_type": "code",
   "execution_count": 142,
   "metadata": {},
   "outputs": [
    {
     "data": {
      "text/plain": "[60862, 27672, 6001, 79458, 33759]"
     },
     "execution_count": 142,
     "metadata": {},
     "output_type": "execute_result"
    }
   ],
   "source": [
    "similar_cust = list(cust_dist[33].sort_values(ascending=False)[1:].head().index)\n",
    "similar_cust"
   ]
  },
  {
   "cell_type": "markdown",
   "metadata": {},
   "source": [
    "What we get is a list containing the 5 customer IDs of the customers whose purchase behavior is most similar to customer 33. We then go back to our customer_products data frame and select just the purchases where the customer ID is in our list of similar customers. We aggregate on product name, summing up the total quantity purchased of each product by all 5 similar customers, and then we rank them by sorting in descending order by the total quantity."
   ]
  },
  {
   "cell_type": "code",
   "execution_count": 143,
   "metadata": {},
   "outputs": [
    {
     "data": {
      "text/html": "<div>\n<style scoped>\n    .dataframe tbody tr th:only-of-type {\n        vertical-align: middle;\n    }\n\n    .dataframe tbody tr th {\n        vertical-align: top;\n    }\n\n    .dataframe thead th {\n        text-align: right;\n    }\n</style>\n<table border=\"1\" class=\"dataframe\">\n  <thead>\n    <tr style=\"text-align: right;\">\n      <th></th>\n      <th>ProductName</th>\n      <th>Quantity</th>\n    </tr>\n  </thead>\n  <tbody>\n    <tr>\n      <th>0</th>\n      <td>Wine - Redchard Merritt</td>\n      <td>59</td>\n    </tr>\n    <tr>\n      <th>1</th>\n      <td>Cassis</td>\n      <td>58</td>\n    </tr>\n    <tr>\n      <th>2</th>\n      <td>Bread - Calabrese Baguette</td>\n      <td>45</td>\n    </tr>\n    <tr>\n      <th>3</th>\n      <td>Wine - Crozes Hermitage E.</td>\n      <td>45</td>\n    </tr>\n    <tr>\n      <th>4</th>\n      <td>Thyme - Lemon, Fresh</td>\n      <td>42</td>\n    </tr>\n  </tbody>\n</table>\n</div>",
      "text/plain": "                  ProductName  Quantity\n0     Wine - Redchard Merritt        59\n1                      Cassis        58\n2  Bread - Calabrese Baguette        45\n3  Wine - Crozes Hermitage E.        45\n4        Thyme - Lemon, Fresh        42"
     },
     "execution_count": 143,
     "metadata": {},
     "output_type": "execute_result"
    }
   ],
   "source": [
    "sim_cust_prod = customer_products[customer_products['CustomerID'].isin(similar_cust)]\n",
    "grouped = sim_cust_prod.groupby('ProductName').agg({'Quantity':'sum'})\n",
    "ranked_products = grouped.sort_values('Quantity', ascending=False).reset_index()\n",
    "ranked_products.head()"
   ]
  },
  {
   "cell_type": "markdown",
   "metadata": {},
   "source": [
    "We now have a ranked list of products that similar customers have purchased, but we haven't taken into consideration yet whether our target customer already purchases any of those items. We want to recommend them items that they might like but haven't purchased before. So we will merge the list of ranked products with our target customer's purchase list and keep only the records for items that the customer has not purchased. These will be the items that we recommend to the customer."
   ]
  },
  {
   "cell_type": "code",
   "execution_count": 144,
   "metadata": {},
   "outputs": [
    {
     "data": {
      "text/html": "<div>\n<style scoped>\n    .dataframe tbody tr th:only-of-type {\n        vertical-align: middle;\n    }\n\n    .dataframe tbody tr th {\n        vertical-align: top;\n    }\n\n    .dataframe thead th {\n        text-align: right;\n    }\n</style>\n<table border=\"1\" class=\"dataframe\">\n  <thead>\n    <tr style=\"text-align: right;\">\n      <th></th>\n      <th>ProductName</th>\n      <th>Quantity</th>\n      <th>Purchased</th>\n    </tr>\n  </thead>\n  <tbody>\n    <tr>\n      <th>0</th>\n      <td>Wine - Redchard Merritt</td>\n      <td>59</td>\n      <td>0.0</td>\n    </tr>\n    <tr>\n      <th>2</th>\n      <td>Bread - Calabrese Baguette</td>\n      <td>45</td>\n      <td>0.0</td>\n    </tr>\n    <tr>\n      <th>4</th>\n      <td>Thyme - Lemon, Fresh</td>\n      <td>42</td>\n      <td>0.0</td>\n    </tr>\n    <tr>\n      <th>9</th>\n      <td>Milk Powder</td>\n      <td>39</td>\n      <td>0.0</td>\n    </tr>\n    <tr>\n      <th>10</th>\n      <td>Ecolab - Lime - A - Way 4/4 L</td>\n      <td>39</td>\n      <td>0.0</td>\n    </tr>\n  </tbody>\n</table>\n</div>",
      "text/plain": "                      ProductName  Quantity  Purchased\n0         Wine - Redchard Merritt        59        0.0\n2      Bread - Calabrese Baguette        45        0.0\n4            Thyme - Lemon, Fresh        42        0.0\n9                     Milk Powder        39        0.0\n10  Ecolab - Lime - A - Way 4/4 L        39        0.0"
     },
     "execution_count": 144,
     "metadata": {},
     "output_type": "execute_result"
    }
   ],
   "source": [
    "merged = pd.merge(ranked_products, pd.DataFrame(cust_prod_pivot.T[33]), on='ProductName')\n",
    "merged.columns = ['ProductName', 'Quantity', 'Purchased']\n",
    "recs = merged[merged['Purchased']==0].head()\n",
    "recs"
   ]
  },
  {
   "cell_type": "markdown",
   "metadata": {},
   "source": [
    "## Item Similarity Based Recommendations\n",
    "\n",
    "In this section, you will create an item similarity based recommender system in a step-by-step fashion. Whereas our user similarity based recommender leveraged similarities between customers, this recommender will utilize similarities between products. You already have all the tools in your toolbox, so follow each of the steps below to complete this lab."
   ]
  },
  {
   "cell_type": "markdown",
   "metadata": {},
   "source": [
    "### Step 1: Create a product distance matrix."
   ]
  },
  {
   "cell_type": "code",
   "execution_count": 145,
   "metadata": {},
   "outputs": [
    {
     "data": {
      "text/html": "<div>\n<style scoped>\n    .dataframe tbody tr th:only-of-type {\n        vertical-align: middle;\n    }\n\n    .dataframe tbody tr th {\n        vertical-align: top;\n    }\n\n    .dataframe thead th {\n        text-align: right;\n    }\n</style>\n<table border=\"1\" class=\"dataframe\">\n  <thead>\n    <tr style=\"text-align: right;\">\n      <th>ProductName</th>\n      <th>Anchovy Paste - 56 G Tube</th>\n      <th>Appetizer - Mini Egg Roll, Shrimp</th>\n      <th>Appetizer - Mushroom Tart</th>\n      <th>Appetizer - Sausage Rolls</th>\n      <th>Apricots - Dried</th>\n      <th>Apricots - Halves</th>\n      <th>Apricots Fresh</th>\n      <th>Arizona - Green Tea</th>\n      <th>Artichokes - Jerusalem</th>\n      <th>Assorted Desserts</th>\n      <th>...</th>\n      <th>Wine - White, Colubia Cresh</th>\n      <th>Wine - White, Mosel Gold</th>\n      <th>Wine - White, Schroder And Schyl</th>\n      <th>Wine - Wyndham Estate Bin 777</th>\n      <th>Wonton Wrappers</th>\n      <th>Yeast Dry - Fermipan</th>\n      <th>Yoghurt Tubes</th>\n      <th>Yogurt - Blueberry, 175 Gr</th>\n      <th>Yogurt - French Vanilla</th>\n      <th>Zucchini - Yellow</th>\n    </tr>\n    <tr>\n      <th>ProductName</th>\n      <th></th>\n      <th></th>\n      <th></th>\n      <th></th>\n      <th></th>\n      <th></th>\n      <th></th>\n      <th></th>\n      <th></th>\n      <th></th>\n      <th></th>\n      <th></th>\n      <th></th>\n      <th></th>\n      <th></th>\n      <th></th>\n      <th></th>\n      <th></th>\n      <th></th>\n      <th></th>\n      <th></th>\n    </tr>\n  </thead>\n  <tbody>\n    <tr>\n      <th>Anchovy Paste - 56 G Tube</th>\n      <td>1.000000</td>\n      <td>0.881127</td>\n      <td>0.882219</td>\n      <td>0.884604</td>\n      <td>0.890449</td>\n      <td>0.879859</td>\n      <td>0.885648</td>\n      <td>0.880852</td>\n      <td>0.886501</td>\n      <td>0.890573</td>\n      <td>...</td>\n      <td>0.884117</td>\n      <td>0.888124</td>\n      <td>0.886567</td>\n      <td>0.879578</td>\n      <td>0.875696</td>\n      <td>0.878427</td>\n      <td>0.886163</td>\n      <td>0.886564</td>\n      <td>0.887956</td>\n      <td>0.878223</td>\n    </tr>\n    <tr>\n      <th>Appetizer - Mini Egg Roll, Shrimp</th>\n      <td>0.881127</td>\n      <td>1.000000</td>\n      <td>0.883877</td>\n      <td>0.880604</td>\n      <td>0.887930</td>\n      <td>0.881577</td>\n      <td>0.885241</td>\n      <td>0.890196</td>\n      <td>0.888646</td>\n      <td>0.883484</td>\n      <td>...</td>\n      <td>0.887569</td>\n      <td>0.887831</td>\n      <td>0.888033</td>\n      <td>0.881019</td>\n      <td>0.878720</td>\n      <td>0.871915</td>\n      <td>0.888702</td>\n      <td>0.890837</td>\n      <td>0.887661</td>\n      <td>0.882616</td>\n    </tr>\n    <tr>\n      <th>Appetizer - Mushroom Tart</th>\n      <td>0.882219</td>\n      <td>0.883877</td>\n      <td>1.000000</td>\n      <td>0.884708</td>\n      <td>0.883266</td>\n      <td>0.884124</td>\n      <td>0.886495</td>\n      <td>0.886072</td>\n      <td>0.887707</td>\n      <td>0.881019</td>\n      <td>...</td>\n      <td>0.886796</td>\n      <td>0.885968</td>\n      <td>0.885056</td>\n      <td>0.887445</td>\n      <td>0.882789</td>\n      <td>0.879286</td>\n      <td>0.890062</td>\n      <td>0.889960</td>\n      <td>0.889397</td>\n      <td>0.881077</td>\n    </tr>\n    <tr>\n      <th>Appetizer - Sausage Rolls</th>\n      <td>0.884604</td>\n      <td>0.880604</td>\n      <td>0.884708</td>\n      <td>1.000000</td>\n      <td>0.885025</td>\n      <td>0.885020</td>\n      <td>0.881992</td>\n      <td>0.883090</td>\n      <td>0.880745</td>\n      <td>0.881226</td>\n      <td>...</td>\n      <td>0.882793</td>\n      <td>0.886507</td>\n      <td>0.884984</td>\n      <td>0.886515</td>\n      <td>0.877195</td>\n      <td>0.868976</td>\n      <td>0.885470</td>\n      <td>0.884688</td>\n      <td>0.883661</td>\n      <td>0.877701</td>\n    </tr>\n    <tr>\n      <th>Apricots - Dried</th>\n      <td>0.890449</td>\n      <td>0.887930</td>\n      <td>0.883266</td>\n      <td>0.885025</td>\n      <td>1.000000</td>\n      <td>0.886792</td>\n      <td>0.887542</td>\n      <td>0.889058</td>\n      <td>0.886234</td>\n      <td>0.887162</td>\n      <td>...</td>\n      <td>0.886223</td>\n      <td>0.889001</td>\n      <td>0.890087</td>\n      <td>0.887478</td>\n      <td>0.878571</td>\n      <td>0.872542</td>\n      <td>0.892076</td>\n      <td>0.891209</td>\n      <td>0.889794</td>\n      <td>0.886477</td>\n    </tr>\n  </tbody>\n</table>\n<p>5 rows × 452 columns</p>\n</div>",
      "text/plain": "ProductName                        Anchovy Paste - 56 G Tube  \\\nProductName                                                    \nAnchovy Paste - 56 G Tube                           1.000000   \nAppetizer - Mini Egg Roll, Shrimp                   0.881127   \nAppetizer - Mushroom Tart                           0.882219   \nAppetizer - Sausage Rolls                           0.884604   \nApricots - Dried                                    0.890449   \n\nProductName                        Appetizer - Mini Egg Roll, Shrimp  \\\nProductName                                                            \nAnchovy Paste - 56 G Tube                                   0.881127   \nAppetizer - Mini Egg Roll, Shrimp                           1.000000   \nAppetizer - Mushroom Tart                                   0.883877   \nAppetizer - Sausage Rolls                                   0.880604   \nApricots - Dried                                            0.887930   \n\nProductName                        Appetizer - Mushroom Tart  \\\nProductName                                                    \nAnchovy Paste - 56 G Tube                           0.882219   \nAppetizer - Mini Egg Roll, Shrimp                   0.883877   \nAppetizer - Mushroom Tart                           1.000000   \nAppetizer - Sausage Rolls                           0.884708   \nApricots - Dried                                    0.883266   \n\nProductName                        Appetizer - Sausage Rolls  \\\nProductName                                                    \nAnchovy Paste - 56 G Tube                           0.884604   \nAppetizer - Mini Egg Roll, Shrimp                   0.880604   \nAppetizer - Mushroom Tart                           0.884708   \nAppetizer - Sausage Rolls                           1.000000   \nApricots - Dried                                    0.885025   \n\nProductName                        Apricots - Dried  Apricots - Halves  \\\nProductName                                                              \nAnchovy Paste - 56 G Tube                  0.890449           0.879859   \nAppetizer - Mini Egg Roll, Shrimp          0.887930           0.881577   \nAppetizer - Mushroom Tart                  0.883266           0.884124   \nAppetizer - Sausage Rolls                  0.885025           0.885020   \nApricots - Dried                           1.000000           0.886792   \n\nProductName                        Apricots Fresh  Arizona - Green Tea  \\\nProductName                                                              \nAnchovy Paste - 56 G Tube                0.885648             0.880852   \nAppetizer - Mini Egg Roll, Shrimp        0.885241             0.890196   \nAppetizer - Mushroom Tart                0.886495             0.886072   \nAppetizer - Sausage Rolls                0.881992             0.883090   \nApricots - Dried                         0.887542             0.889058   \n\nProductName                        Artichokes - Jerusalem  Assorted Desserts  \\\nProductName                                                                    \nAnchovy Paste - 56 G Tube                        0.886501           0.890573   \nAppetizer - Mini Egg Roll, Shrimp                0.888646           0.883484   \nAppetizer - Mushroom Tart                        0.887707           0.881019   \nAppetizer - Sausage Rolls                        0.880745           0.881226   \nApricots - Dried                                 0.886234           0.887162   \n\nProductName                        ...  Wine - White, Colubia Cresh  \\\nProductName                        ...                                \nAnchovy Paste - 56 G Tube          ...                     0.884117   \nAppetizer - Mini Egg Roll, Shrimp  ...                     0.887569   \nAppetizer - Mushroom Tart          ...                     0.886796   \nAppetizer - Sausage Rolls          ...                     0.882793   \nApricots - Dried                   ...                     0.886223   \n\nProductName                        Wine - White, Mosel Gold  \\\nProductName                                                   \nAnchovy Paste - 56 G Tube                          0.888124   \nAppetizer - Mini Egg Roll, Shrimp                  0.887831   \nAppetizer - Mushroom Tart                          0.885968   \nAppetizer - Sausage Rolls                          0.886507   \nApricots - Dried                                   0.889001   \n\nProductName                        Wine - White, Schroder And Schyl  \\\nProductName                                                           \nAnchovy Paste - 56 G Tube                                  0.886567   \nAppetizer - Mini Egg Roll, Shrimp                          0.888033   \nAppetizer - Mushroom Tart                                  0.885056   \nAppetizer - Sausage Rolls                                  0.884984   \nApricots - Dried                                           0.890087   \n\nProductName                        Wine - Wyndham Estate Bin 777  \\\nProductName                                                        \nAnchovy Paste - 56 G Tube                               0.879578   \nAppetizer - Mini Egg Roll, Shrimp                       0.881019   \nAppetizer - Mushroom Tart                               0.887445   \nAppetizer - Sausage Rolls                               0.886515   \nApricots - Dried                                        0.887478   \n\nProductName                        Wonton Wrappers  Yeast Dry - Fermipan  \\\nProductName                                                                \nAnchovy Paste - 56 G Tube                 0.875696              0.878427   \nAppetizer - Mini Egg Roll, Shrimp         0.878720              0.871915   \nAppetizer - Mushroom Tart                 0.882789              0.879286   \nAppetizer - Sausage Rolls                 0.877195              0.868976   \nApricots - Dried                          0.878571              0.872542   \n\nProductName                        Yoghurt Tubes  Yogurt - Blueberry, 175 Gr  \\\nProductName                                                                    \nAnchovy Paste - 56 G Tube               0.886163                    0.886564   \nAppetizer - Mini Egg Roll, Shrimp       0.888702                    0.890837   \nAppetizer - Mushroom Tart               0.890062                    0.889960   \nAppetizer - Sausage Rolls               0.885470                    0.884688   \nApricots - Dried                        0.892076                    0.891209   \n\nProductName                        Yogurt - French Vanilla  Zucchini - Yellow  \nProductName                                                                    \nAnchovy Paste - 56 G Tube                         0.887956           0.878223  \nAppetizer - Mini Egg Roll, Shrimp                 0.887661           0.882616  \nAppetizer - Mushroom Tart                         0.889397           0.881077  \nAppetizer - Sausage Rolls                         0.883661           0.877701  \nApricots - Dried                                  0.889794           0.886477  \n\n[5 rows x 452 columns]"
     },
     "execution_count": 145,
     "metadata": {},
     "output_type": "execute_result"
    }
   ],
   "source": [
    " prod_pivot = customer_products.pivot_table(values='Quantity', \n",
    "                                                columns='CustomerID', \n",
    "                                                index='ProductName', \n",
    "                                                aggfunc='sum').fillna(0)\n",
    "\n",
    "prod_pivot2 = prod_pivot.div(prod_pivot.sum(axis=1), axis=0)\n",
    "\n",
    "\n",
    "prod_dist = pd.DataFrame(1/(1 + squareform(pdist(prod_pivot2, 'euclidean'))),\n",
    "                         index=prod_pivot2.index, columns=prod_pivot2.index)\n",
    "\n",
    "prod_dist.head()\n"
   ]
  },
  {
   "cell_type": "markdown",
   "metadata": {},
   "source": [
    "### Step 2: Get the products purchased for a specific customer of your choice."
   ]
  },
  {
   "cell_type": "code",
   "execution_count": 146,
   "metadata": {},
   "outputs": [
    {
     "data": {
      "text/plain": "ProductName\nApricots - Dried                 1.0\nAssorted Desserts                1.0\nBandage - Flexible Neon          1.0\nBar Mix - Pina Colada, 355 Ml    1.0\nBeans - Kidney, Canned           1.0\nName: 33, dtype: float64"
     },
     "execution_count": 146,
     "metadata": {},
     "output_type": "execute_result"
    }
   ],
   "source": [
    "#Customer = 33\n",
    "\n",
    "prod_cust = prod_pivot[33].loc[prod_pivot2[33]>0]\n",
    "\n",
    "prod_cust.head()"
   ]
  },
  {
   "cell_type": "markdown",
   "metadata": {},
   "source": [
    "### Step 3: For each product the customer purchased, get a list of the top 5 similar products. Package the lists into a nested list, flatten the list, and then filter out any products the customer has already purchased."
   ]
  },
  {
   "cell_type": "code",
   "execution_count": 147,
   "metadata": {},
   "outputs": [
    {
     "data": {
      "text/plain": "['Table Cloth 81x81 White',\n 'Bread - Rye',\n 'Oil - Shortening - All - Purpose',\n 'Duck - Breast',\n 'Sun - Dried Tomatoes',\n 'Spinach - Baby',\n 'Puree - Passion Fruit',\n 'Flour - Whole Wheat',\n 'Oil - Shortening - All - Purpose',\n 'Beef - Montreal Smoked Brisket']"
     },
     "execution_count": 147,
     "metadata": {},
     "output_type": "execute_result"
    }
   ],
   "source": [
    "\n",
    "similar_prod = [element2.index.values.tolist() for element2 in [(prod_dist[element].sort_values(ascending=False)[1:][0:5]) for element in prod_cust.index]]\n",
    "\n",
    "flat_list = [element2 for element2 in [element for sublist in similar_prod for element in sublist] if element2 not in prod_cust]\n",
    "\n",
    "flat_list[0:10]"
   ]
  },
  {
   "cell_type": "code",
   "execution_count": 148,
   "metadata": {},
   "outputs": [
    {
     "name": "stdout",
     "output_type": "stream",
     "text": "False\n"
    }
   ],
   "source": [
    "#Comprobación:\n",
    "\n",
    "print(\"Apricots - Dried\" in flat_list)"
   ]
  },
  {
   "cell_type": "markdown",
   "metadata": {},
   "source": [
    "### Step 4: Count the number of times each similar product occurs in your filtered list. Sort and return a list containing the top 5 items."
   ]
  },
  {
   "cell_type": "code",
   "execution_count": 149,
   "metadata": {},
   "outputs": [
    {
     "data": {
      "text/plain": "['Sun - Dried Tomatoes',\n 'Spinach - Baby',\n 'Beef - Montreal Smoked Brisket',\n 'Cookies - Assorted',\n 'Rosemary - Primerba, Paste']"
     },
     "execution_count": 149,
     "metadata": {},
     "output_type": "execute_result"
    }
   ],
   "source": [
    "\n",
    "counter_prods = {element:flat_list.count(element) for element in flat_list}\n",
    "\n",
    "sorted_prods = {key:value for key,value in sorted(counter_prods.items(), key=lambda x: x[1], reverse=True)}\n",
    "\n",
    "chosen_prods = [list(sorted_prods.keys())[element] for element in range(5)]\n",
    "\n",
    "chosen_prods"
   ]
  },
  {
   "cell_type": "markdown",
   "metadata": {},
   "source": [
    "### Step 5: Now that we have generated product recommendations for a single user, put the pieces together and iterate over a list of all CustomerIDs.\n",
    "\n",
    "- Create an empty dictionary that will hold the recommendations for all customers.\n",
    "- Create a list of unique CustomerIDs to iterate over.\n",
    "- Iterate over the customer list performing steps 2 through 4 for each and appending the results of each iteration to the dictionary you created."
   ]
  },
  {
   "cell_type": "code",
   "execution_count": 170,
   "metadata": {},
   "outputs": [],
   "source": [
    "\n",
    "dictDef = {}\n",
    "\n",
    "customers_list = prod_pivot.columns.values.tolist()\n",
    "\n",
    "for test in customers_list:\n",
    "\n",
    "    step1 = prod_pivot[test].loc[prod_pivot2[test]>0]\n",
    "\n",
    "    step2 = [element2.index.values.tolist() for element2 in [(prod_dist[element].sort_values(ascending=False)[1:][0:5]) for element in step1.index]]\n",
    "\n",
    "    step3 = [element2 for element2 in [element for sublist in step2 for element in sublist] if element2 not in step1]\n",
    "\n",
    "    step4 = {element:step3.count(element) for element in step3}\n",
    "\n",
    "    step5 = {key:value for key,value in sorted(step4.items(), key=lambda x: x[1], reverse=True)}\n",
    "\n",
    "    dictDef[test] = [list(step5.keys())[element] for element in range(5)]\n",
    "\n",
    "    "
   ]
  },
  {
   "cell_type": "code",
   "execution_count": 173,
   "metadata": {},
   "outputs": [
    {
     "name": "stdout",
     "output_type": "stream",
     "text": "33 : ['Sun - Dried Tomatoes', 'Spinach - Baby', 'Beef - Montreal Smoked Brisket', 'Cookies - Assorted', 'Rosemary - Primerba, Paste']\n"
    }
   ],
   "source": [
    "#Comprobación:\n",
    "\n",
    "for key in dictDef:\n",
    "  print(key, \":\", dictDef[key])\n",
    "  break\n",
    "\n"
   ]
  },
  {
   "cell_type": "markdown",
   "metadata": {},
   "source": [
    "### Step 6: Store the results in a Pandas data frame. The data frame should a column for Customer ID and then a column for each of the 5 product recommendations for each customer."
   ]
  },
  {
   "cell_type": "code",
   "execution_count": 172,
   "metadata": {},
   "outputs": [
    {
     "data": {
      "text/html": "<div>\n<style scoped>\n    .dataframe tbody tr th:only-of-type {\n        vertical-align: middle;\n    }\n\n    .dataframe tbody tr th {\n        vertical-align: top;\n    }\n\n    .dataframe thead th {\n        text-align: right;\n    }\n</style>\n<table border=\"1\" class=\"dataframe\">\n  <thead>\n    <tr style=\"text-align: right;\">\n      <th></th>\n      <th>0</th>\n      <th>1</th>\n      <th>2</th>\n      <th>3</th>\n      <th>4</th>\n    </tr>\n  </thead>\n  <tbody>\n    <tr>\n      <th>33</th>\n      <td>Sun - Dried Tomatoes</td>\n      <td>Spinach - Baby</td>\n      <td>Beef - Montreal Smoked Brisket</td>\n      <td>Cookies - Assorted</td>\n      <td>Rosemary - Primerba, Paste</td>\n    </tr>\n    <tr>\n      <th>200</th>\n      <td>Rosemary - Primerba, Paste</td>\n      <td>Spinach - Baby</td>\n      <td>Oil - Shortening - All - Purpose</td>\n      <td>Sun - Dried Tomatoes</td>\n      <td>Rice - Jasmine Sented</td>\n    </tr>\n    <tr>\n      <th>264</th>\n      <td>Rosemary - Primerba, Paste</td>\n      <td>Spinach - Baby</td>\n      <td>Sun - Dried Tomatoes</td>\n      <td>Oil - Shortening - All - Purpose</td>\n      <td>Cookies - Assorted</td>\n    </tr>\n    <tr>\n      <th>356</th>\n      <td>Spinach - Baby</td>\n      <td>Beef - Montreal Smoked Brisket</td>\n      <td>Rosemary - Primerba, Paste</td>\n      <td>Sun - Dried Tomatoes</td>\n      <td>Veal - Osso Bucco</td>\n    </tr>\n    <tr>\n      <th>412</th>\n      <td>Rosemary - Primerba, Paste</td>\n      <td>Sun - Dried Tomatoes</td>\n      <td>Oil - Shortening - All - Purpose</td>\n      <td>V8 - Berry Blend</td>\n      <td>Beef - Montreal Smoked Brisket</td>\n    </tr>\n  </tbody>\n</table>\n</div>",
      "text/plain": "                              0                               1  \\\n33         Sun - Dried Tomatoes                  Spinach - Baby   \n200  Rosemary - Primerba, Paste                  Spinach - Baby   \n264  Rosemary - Primerba, Paste                  Spinach - Baby   \n356              Spinach - Baby  Beef - Montreal Smoked Brisket   \n412  Rosemary - Primerba, Paste            Sun - Dried Tomatoes   \n\n                                    2                                 3  \\\n33     Beef - Montreal Smoked Brisket                Cookies - Assorted   \n200  Oil - Shortening - All - Purpose              Sun - Dried Tomatoes   \n264              Sun - Dried Tomatoes  Oil - Shortening - All - Purpose   \n356        Rosemary - Primerba, Paste              Sun - Dried Tomatoes   \n412  Oil - Shortening - All - Purpose                  V8 - Berry Blend   \n\n                                  4  \n33       Rosemary - Primerba, Paste  \n200           Rice - Jasmine Sented  \n264              Cookies - Assorted  \n356               Veal - Osso Bucco  \n412  Beef - Montreal Smoked Brisket  "
     },
     "execution_count": 172,
     "metadata": {},
     "output_type": "execute_result"
    }
   ],
   "source": [
    "result = pd.DataFrame.from_dict(dictDef, orient='index')\n",
    "\n",
    "\n",
    "result.head()\n"
   ]
  },
  {
   "cell_type": "markdown",
   "metadata": {},
   "source": [
    "## Recommending Items to a New Customer\n",
    "\n",
    "Suppose we get a new customer and on their first visit, they purchase the following items and quantities."
   ]
  },
  {
   "cell_type": "code",
   "execution_count": 153,
   "metadata": {},
   "outputs": [],
   "source": [
    "new_customer = {'Cookies - Assorted':3,\n",
    "                'Flavouring - Orange':3,\n",
    "                'Fenngreek Seed':1,\n",
    "                'Wine - White Cab Sauv.on':1,\n",
    "                'Bandage - Flexible Neon':3,\n",
    "                'Oil - Shortening - All - Purpose':2,\n",
    "                'Beef - Montreal Smoked Brisket':4,\n",
    "                'French Pastry - Mini Chocolate':4,\n",
    "                'Snapple Lemon Tea':5,\n",
    "                'Pepper - White, Ground':2,\n",
    "                'Spinach - Baby':5,\n",
    "                'Sole - Dover, Whole, Fresh':4}"
   ]
  },
  {
   "cell_type": "markdown",
   "metadata": {},
   "source": [
    "### Step 7: Recommend 5 products to this new customer using a user similarity approach."
   ]
  },
  {
   "cell_type": "code",
   "execution_count": null,
   "metadata": {},
   "outputs": [],
   "source": []
  },
  {
   "cell_type": "markdown",
   "metadata": {},
   "source": [
    "### Step 8: Recommend 5 products to this new customer using a item similarity approach."
   ]
  },
  {
   "cell_type": "code",
   "execution_count": null,
   "metadata": {},
   "outputs": [],
   "source": []
  }
 ],
 "metadata": {
  "kernelspec": {
   "display_name": "Python 3",
   "language": "python",
   "name": "python3"
  },
  "language_info": {
   "codemirror_mode": {
    "name": "ipython",
    "version": 3
   },
   "file_extension": ".py",
   "mimetype": "text/x-python",
   "name": "python",
   "nbconvert_exporter": "python",
   "pygments_lexer": "ipython3",
   "version": "3.6.9-final"
  }
 },
 "nbformat": 4,
 "nbformat_minor": 2
}