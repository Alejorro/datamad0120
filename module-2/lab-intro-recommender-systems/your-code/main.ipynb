{
 "cells": [
  {
   "cell_type": "markdown",
   "metadata": {},
   "source": [
    "# Intro to Recommender Systems Lab\n",
    "\n",
    "Complete the exercises below to solidify your knowledge and understanding of recommender systems.\n",
    "\n",
    "For this lab, we are going to be putting together a user similarity based recommender system in a step-by-step fashion. Our data set contains customer grocery purchases, and we will use similar purchase behavior to inform our recommender system. Our recommender system will generate 5 recommendations for each customer based on the purchases they have made."
   ]
  },
  {
   "cell_type": "code",
   "execution_count": 72,
   "metadata": {},
   "outputs": [],
   "source": [
    "import pandas as pd\n",
    "from scipy.spatial.distance import pdist, squareform"
   ]
  },
  {
   "cell_type": "code",
   "execution_count": 73,
   "metadata": {},
   "outputs": [],
   "source": [
    "data = pd.read_csv('../data/customer_product_sales.csv')"
   ]
  },
  {
   "cell_type": "code",
   "execution_count": 74,
   "metadata": {},
   "outputs": [
    {
     "data": {
      "text/html": "<div>\n<style scoped>\n    .dataframe tbody tr th:only-of-type {\n        vertical-align: middle;\n    }\n\n    .dataframe tbody tr th {\n        vertical-align: top;\n    }\n\n    .dataframe thead th {\n        text-align: right;\n    }\n</style>\n<table border=\"1\" class=\"dataframe\">\n  <thead>\n    <tr style=\"text-align: right;\">\n      <th></th>\n      <th>CustomerID</th>\n      <th>FirstName</th>\n      <th>LastName</th>\n      <th>SalesID</th>\n      <th>ProductID</th>\n      <th>ProductName</th>\n      <th>Quantity</th>\n    </tr>\n  </thead>\n  <tbody>\n    <tr>\n      <th>0</th>\n      <td>61288</td>\n      <td>Rosa</td>\n      <td>Andersen</td>\n      <td>134196</td>\n      <td>229</td>\n      <td>Bread - Hot Dog Buns</td>\n      <td>16</td>\n    </tr>\n    <tr>\n      <th>1</th>\n      <td>77352</td>\n      <td>Myron</td>\n      <td>Murray</td>\n      <td>6167892</td>\n      <td>229</td>\n      <td>Bread - Hot Dog Buns</td>\n      <td>20</td>\n    </tr>\n    <tr>\n      <th>2</th>\n      <td>40094</td>\n      <td>Susan</td>\n      <td>Stevenson</td>\n      <td>5970885</td>\n      <td>229</td>\n      <td>Bread - Hot Dog Buns</td>\n      <td>11</td>\n    </tr>\n    <tr>\n      <th>3</th>\n      <td>23548</td>\n      <td>Tricia</td>\n      <td>Vincent</td>\n      <td>6426954</td>\n      <td>229</td>\n      <td>Bread - Hot Dog Buns</td>\n      <td>6</td>\n    </tr>\n    <tr>\n      <th>4</th>\n      <td>78981</td>\n      <td>Scott</td>\n      <td>Burch</td>\n      <td>819094</td>\n      <td>229</td>\n      <td>Bread - Hot Dog Buns</td>\n      <td>20</td>\n    </tr>\n  </tbody>\n</table>\n</div>",
      "text/plain": "   CustomerID FirstName   LastName  SalesID  ProductID           ProductName  \\\n0       61288      Rosa   Andersen   134196        229  Bread - Hot Dog Buns   \n1       77352     Myron     Murray  6167892        229  Bread - Hot Dog Buns   \n2       40094     Susan  Stevenson  5970885        229  Bread - Hot Dog Buns   \n3       23548    Tricia    Vincent  6426954        229  Bread - Hot Dog Buns   \n4       78981     Scott      Burch   819094        229  Bread - Hot Dog Buns   \n\n   Quantity  \n0        16  \n1        20  \n2        11  \n3         6  \n4        20  "
     },
     "execution_count": 74,
     "metadata": {},
     "output_type": "execute_result"
    }
   ],
   "source": [
    "data.head()"
   ]
  },
  {
   "cell_type": "markdown",
   "metadata": {},
   "source": [
    "## Step 1: Create a data frame that contains the total quantity of each product purchased by each customer.\n",
    "\n",
    "You will need to group by CustomerID and ProductName and then sum the Quantity field."
   ]
  },
  {
   "cell_type": "code",
   "execution_count": 75,
   "metadata": {},
   "outputs": [
    {
     "data": {
      "text/html": "<div>\n<style scoped>\n    .dataframe tbody tr th:only-of-type {\n        vertical-align: middle;\n    }\n\n    .dataframe tbody tr th {\n        vertical-align: top;\n    }\n\n    .dataframe thead th {\n        text-align: right;\n    }\n</style>\n<table border=\"1\" class=\"dataframe\">\n  <thead>\n    <tr style=\"text-align: right;\">\n      <th></th>\n      <th></th>\n      <th>Quantity</th>\n    </tr>\n    <tr>\n      <th>CustomerID</th>\n      <th>ProductName</th>\n      <th></th>\n    </tr>\n  </thead>\n  <tbody>\n    <tr>\n      <th rowspan=\"5\" valign=\"top\">33</th>\n      <th>Apricots - Dried</th>\n      <td>1</td>\n    </tr>\n    <tr>\n      <th>Assorted Desserts</th>\n      <td>1</td>\n    </tr>\n    <tr>\n      <th>Bandage - Flexible Neon</th>\n      <td>1</td>\n    </tr>\n    <tr>\n      <th>Bar Mix - Pina Colada, 355 Ml</th>\n      <td>1</td>\n    </tr>\n    <tr>\n      <th>Beans - Kidney, Canned</th>\n      <td>1</td>\n    </tr>\n  </tbody>\n</table>\n</div>",
      "text/plain": "                                          Quantity\nCustomerID ProductName                            \n33         Apricots - Dried                      1\n           Assorted Desserts                     1\n           Bandage - Flexible Neon               1\n           Bar Mix - Pina Colada, 355 Ml         1\n           Beans - Kidney, Canned                1"
     },
     "execution_count": 75,
     "metadata": {},
     "output_type": "execute_result"
    }
   ],
   "source": [
    "data1 = data.copy()\n",
    "\n",
    "data1 = data1.groupby([\"CustomerID\",\"ProductName\"]).agg({\"Quantity\":\"sum\"})\n",
    "\n",
    "data1.head()\n"
   ]
  },
  {
   "cell_type": "markdown",
   "metadata": {},
   "source": [
    "## Step 2: Use the `pivot_table` method to create a product by customer matrix.\n",
    "\n",
    "The rows of the matrix should represent the products, the columns should represent the customers, and the values should be the quantities of each product purchased by each customer. You will also need to replace nulls with zeros, which you can do using the `fillna` method."
   ]
  },
  {
   "cell_type": "code",
   "execution_count": 76,
   "metadata": {},
   "outputs": [
    {
     "data": {
      "text/html": "<div>\n<style scoped>\n    .dataframe tbody tr th:only-of-type {\n        vertical-align: middle;\n    }\n\n    .dataframe tbody tr th {\n        vertical-align: top;\n    }\n\n    .dataframe thead th {\n        text-align: right;\n    }\n</style>\n<table border=\"1\" class=\"dataframe\">\n  <thead>\n    <tr style=\"text-align: right;\">\n      <th>ProductName</th>\n      <th>Anchovy Paste - 56 G Tube</th>\n      <th>Appetizer - Mini Egg Roll, Shrimp</th>\n      <th>Appetizer - Mushroom Tart</th>\n      <th>Appetizer - Sausage Rolls</th>\n      <th>Apricots - Dried</th>\n      <th>Apricots - Halves</th>\n      <th>Apricots Fresh</th>\n      <th>Arizona - Green Tea</th>\n      <th>Artichokes - Jerusalem</th>\n      <th>Assorted Desserts</th>\n      <th>...</th>\n      <th>Wine - White, Colubia Cresh</th>\n      <th>Wine - White, Mosel Gold</th>\n      <th>Wine - White, Schroder And Schyl</th>\n      <th>Wine - Wyndham Estate Bin 777</th>\n      <th>Wonton Wrappers</th>\n      <th>Yeast Dry - Fermipan</th>\n      <th>Yoghurt Tubes</th>\n      <th>Yogurt - Blueberry, 175 Gr</th>\n      <th>Yogurt - French Vanilla</th>\n      <th>Zucchini - Yellow</th>\n    </tr>\n    <tr>\n      <th>CustomerID</th>\n      <th></th>\n      <th></th>\n      <th></th>\n      <th></th>\n      <th></th>\n      <th></th>\n      <th></th>\n      <th></th>\n      <th></th>\n      <th></th>\n      <th></th>\n      <th></th>\n      <th></th>\n      <th></th>\n      <th></th>\n      <th></th>\n      <th></th>\n      <th></th>\n      <th></th>\n      <th></th>\n      <th></th>\n    </tr>\n  </thead>\n  <tbody>\n    <tr>\n      <th>33</th>\n      <td>0.0</td>\n      <td>0.0</td>\n      <td>0.0</td>\n      <td>0.0</td>\n      <td>1.0</td>\n      <td>0.0</td>\n      <td>0.0</td>\n      <td>0.0</td>\n      <td>0.0</td>\n      <td>1.0</td>\n      <td>...</td>\n      <td>0.0</td>\n      <td>0.0</td>\n      <td>0.0</td>\n      <td>0.0</td>\n      <td>0.0</td>\n      <td>0.0</td>\n      <td>0.0</td>\n      <td>0.0</td>\n      <td>1.0</td>\n      <td>0.0</td>\n    </tr>\n    <tr>\n      <th>200</th>\n      <td>0.0</td>\n      <td>0.0</td>\n      <td>0.0</td>\n      <td>0.0</td>\n      <td>0.0</td>\n      <td>0.0</td>\n      <td>0.0</td>\n      <td>0.0</td>\n      <td>0.0</td>\n      <td>0.0</td>\n      <td>...</td>\n      <td>1.0</td>\n      <td>0.0</td>\n      <td>0.0</td>\n      <td>0.0</td>\n      <td>0.0</td>\n      <td>0.0</td>\n      <td>0.0</td>\n      <td>1.0</td>\n      <td>0.0</td>\n      <td>0.0</td>\n    </tr>\n    <tr>\n      <th>264</th>\n      <td>0.0</td>\n      <td>0.0</td>\n      <td>0.0</td>\n      <td>0.0</td>\n      <td>0.0</td>\n      <td>1.0</td>\n      <td>1.0</td>\n      <td>0.0</td>\n      <td>0.0</td>\n      <td>0.0</td>\n      <td>...</td>\n      <td>0.0</td>\n      <td>0.0</td>\n      <td>0.0</td>\n      <td>1.0</td>\n      <td>0.0</td>\n      <td>0.0</td>\n      <td>0.0</td>\n      <td>0.0</td>\n      <td>0.0</td>\n      <td>0.0</td>\n    </tr>\n    <tr>\n      <th>356</th>\n      <td>0.0</td>\n      <td>0.0</td>\n      <td>0.0</td>\n      <td>0.0</td>\n      <td>0.0</td>\n      <td>0.0</td>\n      <td>0.0</td>\n      <td>0.0</td>\n      <td>0.0</td>\n      <td>0.0</td>\n      <td>...</td>\n      <td>0.0</td>\n      <td>0.0</td>\n      <td>0.0</td>\n      <td>0.0</td>\n      <td>0.0</td>\n      <td>0.0</td>\n      <td>0.0</td>\n      <td>0.0</td>\n      <td>1.0</td>\n      <td>0.0</td>\n    </tr>\n    <tr>\n      <th>412</th>\n      <td>0.0</td>\n      <td>0.0</td>\n      <td>0.0</td>\n      <td>0.0</td>\n      <td>1.0</td>\n      <td>0.0</td>\n      <td>0.0</td>\n      <td>0.0</td>\n      <td>0.0</td>\n      <td>0.0</td>\n      <td>...</td>\n      <td>0.0</td>\n      <td>1.0</td>\n      <td>1.0</td>\n      <td>1.0</td>\n      <td>0.0</td>\n      <td>0.0</td>\n      <td>0.0</td>\n      <td>0.0</td>\n      <td>0.0</td>\n      <td>0.0</td>\n    </tr>\n    <tr>\n      <th>...</th>\n      <td>...</td>\n      <td>...</td>\n      <td>...</td>\n      <td>...</td>\n      <td>...</td>\n      <td>...</td>\n      <td>...</td>\n      <td>...</td>\n      <td>...</td>\n      <td>...</td>\n      <td>...</td>\n      <td>...</td>\n      <td>...</td>\n      <td>...</td>\n      <td>...</td>\n      <td>...</td>\n      <td>...</td>\n      <td>...</td>\n      <td>...</td>\n      <td>...</td>\n      <td>...</td>\n    </tr>\n    <tr>\n      <th>97928</th>\n      <td>0.0</td>\n      <td>0.0</td>\n      <td>0.0</td>\n      <td>25.0</td>\n      <td>0.0</td>\n      <td>25.0</td>\n      <td>0.0</td>\n      <td>25.0</td>\n      <td>0.0</td>\n      <td>0.0</td>\n      <td>...</td>\n      <td>0.0</td>\n      <td>25.0</td>\n      <td>25.0</td>\n      <td>0.0</td>\n      <td>0.0</td>\n      <td>0.0</td>\n      <td>0.0</td>\n      <td>0.0</td>\n      <td>0.0</td>\n      <td>0.0</td>\n    </tr>\n    <tr>\n      <th>98069</th>\n      <td>0.0</td>\n      <td>0.0</td>\n      <td>0.0</td>\n      <td>25.0</td>\n      <td>0.0</td>\n      <td>25.0</td>\n      <td>0.0</td>\n      <td>0.0</td>\n      <td>0.0</td>\n      <td>25.0</td>\n      <td>...</td>\n      <td>0.0</td>\n      <td>0.0</td>\n      <td>0.0</td>\n      <td>0.0</td>\n      <td>0.0</td>\n      <td>0.0</td>\n      <td>0.0</td>\n      <td>0.0</td>\n      <td>0.0</td>\n      <td>0.0</td>\n    </tr>\n    <tr>\n      <th>98159</th>\n      <td>0.0</td>\n      <td>0.0</td>\n      <td>0.0</td>\n      <td>0.0</td>\n      <td>0.0</td>\n      <td>0.0</td>\n      <td>0.0</td>\n      <td>0.0</td>\n      <td>0.0</td>\n      <td>0.0</td>\n      <td>...</td>\n      <td>0.0</td>\n      <td>25.0</td>\n      <td>0.0</td>\n      <td>0.0</td>\n      <td>0.0</td>\n      <td>0.0</td>\n      <td>25.0</td>\n      <td>0.0</td>\n      <td>0.0</td>\n      <td>0.0</td>\n    </tr>\n    <tr>\n      <th>98185</th>\n      <td>0.0</td>\n      <td>0.0</td>\n      <td>25.0</td>\n      <td>25.0</td>\n      <td>0.0</td>\n      <td>25.0</td>\n      <td>0.0</td>\n      <td>0.0</td>\n      <td>0.0</td>\n      <td>0.0</td>\n      <td>...</td>\n      <td>0.0</td>\n      <td>0.0</td>\n      <td>0.0</td>\n      <td>25.0</td>\n      <td>0.0</td>\n      <td>0.0</td>\n      <td>0.0</td>\n      <td>0.0</td>\n      <td>0.0</td>\n      <td>0.0</td>\n    </tr>\n    <tr>\n      <th>98200</th>\n      <td>0.0</td>\n      <td>0.0</td>\n      <td>0.0</td>\n      <td>0.0</td>\n      <td>0.0</td>\n      <td>25.0</td>\n      <td>25.0</td>\n      <td>0.0</td>\n      <td>0.0</td>\n      <td>25.0</td>\n      <td>...</td>\n      <td>0.0</td>\n      <td>0.0</td>\n      <td>0.0</td>\n      <td>0.0</td>\n      <td>0.0</td>\n      <td>0.0</td>\n      <td>0.0</td>\n      <td>0.0</td>\n      <td>25.0</td>\n      <td>0.0</td>\n    </tr>\n  </tbody>\n</table>\n<p>1000 rows × 452 columns</p>\n</div>",
      "text/plain": "ProductName  Anchovy Paste - 56 G Tube  Appetizer - Mini Egg Roll, Shrimp  \\\nCustomerID                                                                  \n33                                 0.0                                0.0   \n200                                0.0                                0.0   \n264                                0.0                                0.0   \n356                                0.0                                0.0   \n412                                0.0                                0.0   \n...                                ...                                ...   \n97928                              0.0                                0.0   \n98069                              0.0                                0.0   \n98159                              0.0                                0.0   \n98185                              0.0                                0.0   \n98200                              0.0                                0.0   \n\nProductName  Appetizer - Mushroom Tart  Appetizer - Sausage Rolls  \\\nCustomerID                                                          \n33                                 0.0                        0.0   \n200                                0.0                        0.0   \n264                                0.0                        0.0   \n356                                0.0                        0.0   \n412                                0.0                        0.0   \n...                                ...                        ...   \n97928                              0.0                       25.0   \n98069                              0.0                       25.0   \n98159                              0.0                        0.0   \n98185                             25.0                       25.0   \n98200                              0.0                        0.0   \n\nProductName  Apricots - Dried  Apricots - Halves  Apricots Fresh  \\\nCustomerID                                                         \n33                        1.0                0.0             0.0   \n200                       0.0                0.0             0.0   \n264                       0.0                1.0             1.0   \n356                       0.0                0.0             0.0   \n412                       1.0                0.0             0.0   \n...                       ...                ...             ...   \n97928                     0.0               25.0             0.0   \n98069                     0.0               25.0             0.0   \n98159                     0.0                0.0             0.0   \n98185                     0.0               25.0             0.0   \n98200                     0.0               25.0            25.0   \n\nProductName  Arizona - Green Tea  Artichokes - Jerusalem  Assorted Desserts  \\\nCustomerID                                                                    \n33                           0.0                     0.0                1.0   \n200                          0.0                     0.0                0.0   \n264                          0.0                     0.0                0.0   \n356                          0.0                     0.0                0.0   \n412                          0.0                     0.0                0.0   \n...                          ...                     ...                ...   \n97928                       25.0                     0.0                0.0   \n98069                        0.0                     0.0               25.0   \n98159                        0.0                     0.0                0.0   \n98185                        0.0                     0.0                0.0   \n98200                        0.0                     0.0               25.0   \n\nProductName  ...  Wine - White, Colubia Cresh  Wine - White, Mosel Gold  \\\nCustomerID   ...                                                          \n33           ...                          0.0                       0.0   \n200          ...                          1.0                       0.0   \n264          ...                          0.0                       0.0   \n356          ...                          0.0                       0.0   \n412          ...                          0.0                       1.0   \n...          ...                          ...                       ...   \n97928        ...                          0.0                      25.0   \n98069        ...                          0.0                       0.0   \n98159        ...                          0.0                      25.0   \n98185        ...                          0.0                       0.0   \n98200        ...                          0.0                       0.0   \n\nProductName  Wine - White, Schroder And Schyl  Wine - Wyndham Estate Bin 777  \\\nCustomerID                                                                     \n33                                        0.0                            0.0   \n200                                       0.0                            0.0   \n264                                       0.0                            1.0   \n356                                       0.0                            0.0   \n412                                       1.0                            1.0   \n...                                       ...                            ...   \n97928                                    25.0                            0.0   \n98069                                     0.0                            0.0   \n98159                                     0.0                            0.0   \n98185                                     0.0                           25.0   \n98200                                     0.0                            0.0   \n\nProductName  Wonton Wrappers  Yeast Dry - Fermipan  Yoghurt Tubes  \\\nCustomerID                                                          \n33                       0.0                   0.0            0.0   \n200                      0.0                   0.0            0.0   \n264                      0.0                   0.0            0.0   \n356                      0.0                   0.0            0.0   \n412                      0.0                   0.0            0.0   \n...                      ...                   ...            ...   \n97928                    0.0                   0.0            0.0   \n98069                    0.0                   0.0            0.0   \n98159                    0.0                   0.0           25.0   \n98185                    0.0                   0.0            0.0   \n98200                    0.0                   0.0            0.0   \n\nProductName  Yogurt - Blueberry, 175 Gr  Yogurt - French Vanilla  \\\nCustomerID                                                         \n33                                  0.0                      1.0   \n200                                 1.0                      0.0   \n264                                 0.0                      0.0   \n356                                 0.0                      1.0   \n412                                 0.0                      0.0   \n...                                 ...                      ...   \n97928                               0.0                      0.0   \n98069                               0.0                      0.0   \n98159                               0.0                      0.0   \n98185                               0.0                      0.0   \n98200                               0.0                     25.0   \n\nProductName  Zucchini - Yellow  \nCustomerID                      \n33                         0.0  \n200                        0.0  \n264                        0.0  \n356                        0.0  \n412                        0.0  \n...                        ...  \n97928                      0.0  \n98069                      0.0  \n98159                      0.0  \n98185                      0.0  \n98200                      0.0  \n\n[1000 rows x 452 columns]"
     },
     "execution_count": 76,
     "metadata": {},
     "output_type": "execute_result"
    }
   ],
   "source": [
    "data2 = data.copy()\n",
    "\n",
    "data2 = pd.pivot_table(data2, index=\"ProductName\", columns=\"CustomerID\", values=\"Quantity\").fillna(0)\n",
    "\n",
    "data2 = data2.T\n",
    "\n",
    "data2\n"
   ]
  },
  {
   "cell_type": "markdown",
   "metadata": {},
   "source": [
    "## Step 3: Create a customer similarity matrix using `squareform` and `pdist`. For the distance metric, choose \"euclidean.\""
   ]
  },
  {
   "cell_type": "code",
   "execution_count": 77,
   "metadata": {},
   "outputs": [
    {
     "data": {
      "text/html": "<div>\n<style scoped>\n    .dataframe tbody tr th:only-of-type {\n        vertical-align: middle;\n    }\n\n    .dataframe tbody tr th {\n        vertical-align: top;\n    }\n\n    .dataframe thead th {\n        text-align: right;\n    }\n</style>\n<table border=\"1\" class=\"dataframe\">\n  <thead>\n    <tr style=\"text-align: right;\">\n      <th>CustomerID</th>\n      <th>33</th>\n      <th>200</th>\n      <th>264</th>\n      <th>356</th>\n      <th>412</th>\n      <th>464</th>\n      <th>477</th>\n      <th>639</th>\n      <th>649</th>\n      <th>669</th>\n      <th>...</th>\n      <th>97697</th>\n      <th>97753</th>\n      <th>97769</th>\n      <th>97793</th>\n      <th>97900</th>\n      <th>97928</th>\n      <th>98069</th>\n      <th>98159</th>\n      <th>98185</th>\n      <th>98200</th>\n    </tr>\n    <tr>\n      <th>CustomerID</th>\n      <th></th>\n      <th></th>\n      <th></th>\n      <th></th>\n      <th></th>\n      <th></th>\n      <th></th>\n      <th></th>\n      <th></th>\n      <th></th>\n      <th></th>\n      <th></th>\n      <th></th>\n      <th></th>\n      <th></th>\n      <th></th>\n      <th></th>\n      <th></th>\n      <th></th>\n      <th></th>\n      <th></th>\n    </tr>\n  </thead>\n  <tbody>\n    <tr>\n      <th>33</th>\n      <td>1.000000</td>\n      <td>0.085297</td>\n      <td>0.093953</td>\n      <td>0.091747</td>\n      <td>0.087410</td>\n      <td>0.089695</td>\n      <td>0.085297</td>\n      <td>0.088913</td>\n      <td>0.088152</td>\n      <td>0.089695</td>\n      <td>...</td>\n      <td>0.004809</td>\n      <td>0.005108</td>\n      <td>0.004996</td>\n      <td>0.005421</td>\n      <td>0.004920</td>\n      <td>0.005023</td>\n      <td>0.004880</td>\n      <td>0.005026</td>\n      <td>0.004549</td>\n      <td>0.004883</td>\n    </tr>\n    <tr>\n      <th>200</th>\n      <td>0.085297</td>\n      <td>1.000000</td>\n      <td>0.085638</td>\n      <td>0.085297</td>\n      <td>0.080070</td>\n      <td>0.083020</td>\n      <td>0.084959</td>\n      <td>0.083651</td>\n      <td>0.085638</td>\n      <td>0.087047</td>\n      <td>...</td>\n      <td>0.004825</td>\n      <td>0.005121</td>\n      <td>0.005014</td>\n      <td>0.005448</td>\n      <td>0.004925</td>\n      <td>0.005032</td>\n      <td>0.004909</td>\n      <td>0.005042</td>\n      <td>0.004553</td>\n      <td>0.004879</td>\n    </tr>\n    <tr>\n      <th>264</th>\n      <td>0.093953</td>\n      <td>0.085638</td>\n      <td>1.000000</td>\n      <td>0.088152</td>\n      <td>0.089301</td>\n      <td>0.087047</td>\n      <td>0.085638</td>\n      <td>0.086333</td>\n      <td>0.087047</td>\n      <td>0.087047</td>\n      <td>...</td>\n      <td>0.004822</td>\n      <td>0.005115</td>\n      <td>0.004996</td>\n      <td>0.005441</td>\n      <td>0.004932</td>\n      <td>0.005055</td>\n      <td>0.004894</td>\n      <td>0.005042</td>\n      <td>0.004566</td>\n      <td>0.004883</td>\n    </tr>\n    <tr>\n      <th>356</th>\n      <td>0.091747</td>\n      <td>0.085297</td>\n      <td>0.088152</td>\n      <td>1.000000</td>\n      <td>0.085983</td>\n      <td>0.086688</td>\n      <td>0.085983</td>\n      <td>0.091325</td>\n      <td>0.085983</td>\n      <td>0.087410</td>\n      <td>...</td>\n      <td>0.004814</td>\n      <td>0.005111</td>\n      <td>0.004999</td>\n      <td>0.005437</td>\n      <td>0.004920</td>\n      <td>0.005036</td>\n      <td>0.004871</td>\n      <td>0.005042</td>\n      <td>0.004563</td>\n      <td>0.004886</td>\n    </tr>\n    <tr>\n      <th>412</th>\n      <td>0.087410</td>\n      <td>0.080070</td>\n      <td>0.089301</td>\n      <td>0.085983</td>\n      <td>1.000000</td>\n      <td>0.085638</td>\n      <td>0.085638</td>\n      <td>0.089301</td>\n      <td>0.084959</td>\n      <td>0.087779</td>\n      <td>...</td>\n      <td>0.004808</td>\n      <td>0.005131</td>\n      <td>0.004996</td>\n      <td>0.005441</td>\n      <td>0.004925</td>\n      <td>0.005042</td>\n      <td>0.004876</td>\n      <td>0.005039</td>\n      <td>0.004568</td>\n      <td>0.004903</td>\n    </tr>\n    <tr>\n      <th>...</th>\n      <td>...</td>\n      <td>...</td>\n      <td>...</td>\n      <td>...</td>\n      <td>...</td>\n      <td>...</td>\n      <td>...</td>\n      <td>...</td>\n      <td>...</td>\n      <td>...</td>\n      <td>...</td>\n      <td>...</td>\n      <td>...</td>\n      <td>...</td>\n      <td>...</td>\n      <td>...</td>\n      <td>...</td>\n      <td>...</td>\n      <td>...</td>\n      <td>...</td>\n      <td>...</td>\n    </tr>\n    <tr>\n      <th>97928</th>\n      <td>0.005023</td>\n      <td>0.005032</td>\n      <td>0.005055</td>\n      <td>0.005036</td>\n      <td>0.005042</td>\n      <td>0.005042</td>\n      <td>0.005042</td>\n      <td>0.005039</td>\n      <td>0.005039</td>\n      <td>0.005033</td>\n      <td>...</td>\n      <td>0.003732</td>\n      <td>0.003945</td>\n      <td>0.003749</td>\n      <td>0.004045</td>\n      <td>0.003964</td>\n      <td>1.000000</td>\n      <td>0.003945</td>\n      <td>0.003945</td>\n      <td>0.003579</td>\n      <td>0.003608</td>\n    </tr>\n    <tr>\n      <th>98069</th>\n      <td>0.004880</td>\n      <td>0.004909</td>\n      <td>0.004894</td>\n      <td>0.004871</td>\n      <td>0.004876</td>\n      <td>0.004877</td>\n      <td>0.004882</td>\n      <td>0.004880</td>\n      <td>0.004886</td>\n      <td>0.004886</td>\n      <td>...</td>\n      <td>0.003638</td>\n      <td>0.003765</td>\n      <td>0.003716</td>\n      <td>0.003782</td>\n      <td>0.003888</td>\n      <td>0.003945</td>\n      <td>1.000000</td>\n      <td>0.003907</td>\n      <td>0.003608</td>\n      <td>0.003765</td>\n    </tr>\n    <tr>\n      <th>98159</th>\n      <td>0.005026</td>\n      <td>0.005042</td>\n      <td>0.005042</td>\n      <td>0.005042</td>\n      <td>0.005039</td>\n      <td>0.005039</td>\n      <td>0.005039</td>\n      <td>0.005033</td>\n      <td>0.005045</td>\n      <td>0.005036</td>\n      <td>...</td>\n      <td>0.003732</td>\n      <td>0.003984</td>\n      <td>0.003852</td>\n      <td>0.003888</td>\n      <td>0.003817</td>\n      <td>0.003945</td>\n      <td>0.003907</td>\n      <td>1.000000</td>\n      <td>0.003732</td>\n      <td>0.003732</td>\n    </tr>\n    <tr>\n      <th>98185</th>\n      <td>0.004549</td>\n      <td>0.004553</td>\n      <td>0.004566</td>\n      <td>0.004563</td>\n      <td>0.004568</td>\n      <td>0.004556</td>\n      <td>0.004556</td>\n      <td>0.004563</td>\n      <td>0.004558</td>\n      <td>0.004547</td>\n      <td>...</td>\n      <td>0.003469</td>\n      <td>0.003469</td>\n      <td>0.003653</td>\n      <td>0.003749</td>\n      <td>0.003565</td>\n      <td>0.003579</td>\n      <td>0.003608</td>\n      <td>0.003732</td>\n      <td>1.000000</td>\n      <td>0.003700</td>\n    </tr>\n    <tr>\n      <th>98200</th>\n      <td>0.004883</td>\n      <td>0.004879</td>\n      <td>0.004883</td>\n      <td>0.004886</td>\n      <td>0.004903</td>\n      <td>0.004897</td>\n      <td>0.004885</td>\n      <td>0.004883</td>\n      <td>0.004877</td>\n      <td>0.004895</td>\n      <td>...</td>\n      <td>0.003638</td>\n      <td>0.003732</td>\n      <td>0.003817</td>\n      <td>0.003817</td>\n      <td>0.003782</td>\n      <td>0.003608</td>\n      <td>0.003765</td>\n      <td>0.003732</td>\n      <td>0.003700</td>\n      <td>1.000000</td>\n    </tr>\n  </tbody>\n</table>\n<p>1000 rows × 1000 columns</p>\n</div>",
      "text/plain": "CustomerID     33        200       264       356       412       464    \\\nCustomerID                                                               \n33          1.000000  0.085297  0.093953  0.091747  0.087410  0.089695   \n200         0.085297  1.000000  0.085638  0.085297  0.080070  0.083020   \n264         0.093953  0.085638  1.000000  0.088152  0.089301  0.087047   \n356         0.091747  0.085297  0.088152  1.000000  0.085983  0.086688   \n412         0.087410  0.080070  0.089301  0.085983  1.000000  0.085638   \n...              ...       ...       ...       ...       ...       ...   \n97928       0.005023  0.005032  0.005055  0.005036  0.005042  0.005042   \n98069       0.004880  0.004909  0.004894  0.004871  0.004876  0.004877   \n98159       0.005026  0.005042  0.005042  0.005042  0.005039  0.005039   \n98185       0.004549  0.004553  0.004566  0.004563  0.004568  0.004556   \n98200       0.004883  0.004879  0.004883  0.004886  0.004903  0.004897   \n\nCustomerID     477       639       649       669    ...     97697     97753  \\\nCustomerID                                          ...                       \n33          0.085297  0.088913  0.088152  0.089695  ...  0.004809  0.005108   \n200         0.084959  0.083651  0.085638  0.087047  ...  0.004825  0.005121   \n264         0.085638  0.086333  0.087047  0.087047  ...  0.004822  0.005115   \n356         0.085983  0.091325  0.085983  0.087410  ...  0.004814  0.005111   \n412         0.085638  0.089301  0.084959  0.087779  ...  0.004808  0.005131   \n...              ...       ...       ...       ...  ...       ...       ...   \n97928       0.005042  0.005039  0.005039  0.005033  ...  0.003732  0.003945   \n98069       0.004882  0.004880  0.004886  0.004886  ...  0.003638  0.003765   \n98159       0.005039  0.005033  0.005045  0.005036  ...  0.003732  0.003984   \n98185       0.004556  0.004563  0.004558  0.004547  ...  0.003469  0.003469   \n98200       0.004885  0.004883  0.004877  0.004895  ...  0.003638  0.003732   \n\nCustomerID     97769     97793     97900     97928     98069     98159  \\\nCustomerID                                                               \n33          0.004996  0.005421  0.004920  0.005023  0.004880  0.005026   \n200         0.005014  0.005448  0.004925  0.005032  0.004909  0.005042   \n264         0.004996  0.005441  0.004932  0.005055  0.004894  0.005042   \n356         0.004999  0.005437  0.004920  0.005036  0.004871  0.005042   \n412         0.004996  0.005441  0.004925  0.005042  0.004876  0.005039   \n...              ...       ...       ...       ...       ...       ...   \n97928       0.003749  0.004045  0.003964  1.000000  0.003945  0.003945   \n98069       0.003716  0.003782  0.003888  0.003945  1.000000  0.003907   \n98159       0.003852  0.003888  0.003817  0.003945  0.003907  1.000000   \n98185       0.003653  0.003749  0.003565  0.003579  0.003608  0.003732   \n98200       0.003817  0.003817  0.003782  0.003608  0.003765  0.003732   \n\nCustomerID     98185     98200  \nCustomerID                      \n33          0.004549  0.004883  \n200         0.004553  0.004879  \n264         0.004566  0.004883  \n356         0.004563  0.004886  \n412         0.004568  0.004903  \n...              ...       ...  \n97928       0.003579  0.003608  \n98069       0.003608  0.003765  \n98159       0.003732  0.003732  \n98185       1.000000  0.003700  \n98200       0.003700  1.000000  \n\n[1000 rows x 1000 columns]"
     },
     "execution_count": 77,
     "metadata": {},
     "output_type": "execute_result"
    }
   ],
   "source": [
    "data3= data2.copy()\n",
    "\n",
    "dist = pdist(data3, 'euclidean')\n",
    "df_dist = pd.DataFrame(1 / (1+(squareform(dist))), columns=data3.index, index=data3.index)\n",
    "\n",
    "df_dist"
   ]
  },
  {
   "cell_type": "markdown",
   "metadata": {},
   "source": [
    "## Step 4: Check your results by generating a list of the top 5 most similar customers for a specific CustomerID."
   ]
  },
  {
   "cell_type": "code",
   "execution_count": 78,
   "metadata": {},
   "outputs": [
    {
     "data": {
      "text/plain": "CustomerID\n3909    0.095358\n264     0.093953\n3531    0.093953\n2503    0.093498\n3305    0.093051\nName: 33, dtype: float64"
     },
     "execution_count": 78,
     "metadata": {},
     "output_type": "execute_result"
    }
   ],
   "source": [
    "data4 = df_dist.copy()\n",
    "\n",
    "#Specific CustomerID = 33\n",
    "\n",
    "similarities = data4[33].sort_values(ascending=False)[1:6]\n",
    "\n",
    "similarities\n"
   ]
  },
  {
   "cell_type": "markdown",
   "metadata": {},
   "source": [
    "## Step 5: From the data frame you created in Step 1, select the records for the list of similar CustomerIDs you obtained in Step 4."
   ]
  },
  {
   "cell_type": "code",
   "execution_count": 79,
   "metadata": {},
   "outputs": [
    {
     "data": {
      "text/html": "<div>\n<style scoped>\n    .dataframe tbody tr th:only-of-type {\n        vertical-align: middle;\n    }\n\n    .dataframe tbody tr th {\n        vertical-align: top;\n    }\n\n    .dataframe thead th {\n        text-align: right;\n    }\n</style>\n<table border=\"1\" class=\"dataframe\">\n  <thead>\n    <tr style=\"text-align: right;\">\n      <th></th>\n      <th></th>\n      <th>Quantity</th>\n    </tr>\n    <tr>\n      <th>CustomerID</th>\n      <th>ProductName</th>\n      <th></th>\n    </tr>\n  </thead>\n  <tbody>\n    <tr>\n      <th rowspan=\"5\" valign=\"top\">264</th>\n      <th>Apricots - Halves</th>\n      <td>1</td>\n    </tr>\n    <tr>\n      <th>Apricots Fresh</th>\n      <td>1</td>\n    </tr>\n    <tr>\n      <th>Bacardi Breezer - Tropical</th>\n      <td>1</td>\n    </tr>\n    <tr>\n      <th>Bagel - Plain</th>\n      <td>1</td>\n    </tr>\n    <tr>\n      <th>Banana - Leaves</th>\n      <td>1</td>\n    </tr>\n    <tr>\n      <th>...</th>\n      <th>...</th>\n      <td>...</td>\n    </tr>\n    <tr>\n      <th rowspan=\"5\" valign=\"top\">3535</th>\n      <th>Tray - 16in Rnd Blk</th>\n      <td>1</td>\n    </tr>\n    <tr>\n      <th>Wanton Wrap</th>\n      <td>1</td>\n    </tr>\n    <tr>\n      <th>Wine - Blue Nun Qualitatswein</th>\n      <td>1</td>\n    </tr>\n    <tr>\n      <th>Wine - Magnotta, Merlot Sr Vqa</th>\n      <td>1</td>\n    </tr>\n    <tr>\n      <th>Yoghurt Tubes</th>\n      <td>1</td>\n    </tr>\n  </tbody>\n</table>\n<p>270 rows × 1 columns</p>\n</div>",
      "text/plain": "                                           Quantity\nCustomerID ProductName                             \n264        Apricots - Halves                      1\n           Apricots Fresh                         1\n           Bacardi Breezer - Tropical             1\n           Bagel - Plain                          1\n           Banana - Leaves                        1\n...                                             ...\n3535       Tray - 16in Rnd Blk                    1\n           Wanton Wrap                            1\n           Wine - Blue Nun Qualitatswein          1\n           Wine - Magnotta, Merlot Sr Vqa         1\n           Yoghurt Tubes                          1\n\n[270 rows x 1 columns]"
     },
     "execution_count": 79,
     "metadata": {},
     "output_type": "execute_result"
    }
   ],
   "source": [
    "data5 = data4.copy()\n",
    "\n",
    "# data3.xs([264,3535,3317,2503,3305], level=0)\n",
    "\n",
    "data5 = data1.loc[[264,3535,3317,2503,3305]]\n",
    "\n",
    "data5"
   ]
  },
  {
   "cell_type": "markdown",
   "metadata": {},
   "source": [
    "## Step 6: Aggregate those customer purchase records by ProductName, sum the Quantity field, and then rank them in descending order by quantity.\n",
    "\n",
    "This will give you the total number of each product purchased by the 5 most similar customers to the customer you selected in order from most purchased to least."
   ]
  },
  {
   "cell_type": "code",
   "execution_count": 80,
   "metadata": {},
   "outputs": [
    {
     "data": {
      "text/html": "<div>\n<style scoped>\n    .dataframe tbody tr th:only-of-type {\n        vertical-align: middle;\n    }\n\n    .dataframe tbody tr th {\n        vertical-align: top;\n    }\n\n    .dataframe thead th {\n        text-align: right;\n    }\n</style>\n<table border=\"1\" class=\"dataframe\">\n  <thead>\n    <tr style=\"text-align: right;\">\n      <th></th>\n      <th>Quantity</th>\n    </tr>\n    <tr>\n      <th>ProductName</th>\n      <th></th>\n    </tr>\n  </thead>\n  <tbody>\n    <tr>\n      <th>Butter - Unsalted</th>\n      <td>3</td>\n    </tr>\n    <tr>\n      <th>Wine - Ej Gallo Sierra Valley</th>\n      <td>3</td>\n    </tr>\n    <tr>\n      <th>Towels - Paper / Kraft</th>\n      <td>3</td>\n    </tr>\n    <tr>\n      <th>Soup - Campbells Bean Medley</th>\n      <td>3</td>\n    </tr>\n    <tr>\n      <th>Wine - Blue Nun Qualitatswein</th>\n      <td>3</td>\n    </tr>\n  </tbody>\n</table>\n</div>",
      "text/plain": "                               Quantity\nProductName                            \nButter - Unsalted                     3\nWine - Ej Gallo Sierra Valley         3\nTowels - Paper / Kraft                3\nSoup - Campbells Bean Medley          3\nWine - Blue Nun Qualitatswein         3"
     },
     "execution_count": 80,
     "metadata": {},
     "output_type": "execute_result"
    }
   ],
   "source": [
    "data6 = data5.copy()\n",
    "\n",
    "data6 = data6.groupby(\"ProductName\").agg({\"Quantity\":\"sum\"}).sort_values(by=['Quantity'], ascending=False)\n",
    "\n",
    "data6.head()"
   ]
  },
  {
   "cell_type": "markdown",
   "metadata": {},
   "source": [
    "## Step 7: Filter the list for products that the chosen customer has not yet purchased and then recommend the top 5 products with the highest quantities that are left.\n",
    "\n",
    "- Merge the ranked products data frame with the customer product matrix on the ProductName field.\n",
    "- Filter for records where the chosen customer has not purchased the product.\n",
    "- Show the top 5 results."
   ]
  },
  {
   "cell_type": "code",
   "execution_count": 81,
   "metadata": {},
   "outputs": [],
   "source": [
    "data7 = data6.copy()\n",
    "\n",
    "data72 = data2.T\n",
    "\n",
    "merged = data7.merge(data72[33], how=\"left\", on='ProductName')"
   ]
  },
  {
   "cell_type": "code",
   "execution_count": 82,
   "metadata": {},
   "outputs": [
    {
     "data": {
      "text/html": "<div>\n<style scoped>\n    .dataframe tbody tr th:only-of-type {\n        vertical-align: middle;\n    }\n\n    .dataframe tbody tr th {\n        vertical-align: top;\n    }\n\n    .dataframe thead th {\n        text-align: right;\n    }\n</style>\n<table border=\"1\" class=\"dataframe\">\n  <thead>\n    <tr style=\"text-align: right;\">\n      <th></th>\n      <th>Quantity</th>\n      <th>33</th>\n    </tr>\n    <tr>\n      <th>ProductName</th>\n      <th></th>\n      <th></th>\n    </tr>\n  </thead>\n  <tbody>\n    <tr>\n      <th>Butter - Unsalted</th>\n      <td>3</td>\n      <td>0.0</td>\n    </tr>\n    <tr>\n      <th>Soup - Campbells Bean Medley</th>\n      <td>3</td>\n      <td>0.0</td>\n    </tr>\n    <tr>\n      <th>Wine - Blue Nun Qualitatswein</th>\n      <td>3</td>\n      <td>0.0</td>\n    </tr>\n    <tr>\n      <th>Wine - Ej Gallo Sierra Valley</th>\n      <td>3</td>\n      <td>0.0</td>\n    </tr>\n    <tr>\n      <th>Beans - Wax</th>\n      <td>2</td>\n      <td>0.0</td>\n    </tr>\n  </tbody>\n</table>\n</div>",
      "text/plain": "                               Quantity   33\nProductName                                 \nButter - Unsalted                     3  0.0\nSoup - Campbells Bean Medley          3  0.0\nWine - Blue Nun Qualitatswein         3  0.0\nWine - Ej Gallo Sierra Valley         3  0.0\nBeans - Wax                           2  0.0"
     },
     "execution_count": 82,
     "metadata": {},
     "output_type": "execute_result"
    }
   ],
   "source": [
    "merged = merged.loc[merged[33]==0].sort_values(by=['Quantity'], ascending=False)[:5]\n",
    "\n",
    "merged.head()"
   ]
  },
  {
   "cell_type": "code",
   "execution_count": 83,
   "metadata": {},
   "outputs": [
    {
     "data": {
      "text/plain": "['Butter - Unsalted',\n 'Soup - Campbells Bean Medley',\n 'Wine - Blue Nun Qualitatswein',\n 'Wine - Ej Gallo Sierra Valley',\n 'Beans - Wax']"
     },
     "execution_count": 83,
     "metadata": {},
     "output_type": "execute_result"
    }
   ],
   "source": [
    "list(merged.index)"
   ]
  },
  {
   "cell_type": "markdown",
   "metadata": {},
   "source": [
    "## Step 8: Now that we have generated product recommendations for a single user, put the pieces together and iterate over a list of all CustomerIDs.\n",
    "\n",
    "- Create an empty dictionary that will hold the recommendations for all customers.\n",
    "- Create a list of unique CustomerIDs to iterate over.\n",
    "- Iterate over the customer list performing steps 4 through 7 for each and appending the results of each iteration to the dictionary you created."
   ]
  },
  {
   "cell_type": "code",
   "execution_count": 84,
   "metadata": {},
   "outputs": [],
   "source": [
    "def recomendator(customersList, metric=\"euclidean\"):\n",
    "\n",
    "    dict = {}\n",
    "\n",
    "    step3 = pd.DataFrame(1 / (1+(squareform(pdist(data3, metric)))), columns=data3.index, index=data3.index)\n",
    "\n",
    "    for element in customersList[0]:\n",
    "\n",
    "        step4 = step3[element].sort_values(ascending=False)[1:6]\n",
    "\n",
    "        step5 = data1.loc[list(step4.index)]\n",
    "\n",
    "        step6 = step5.groupby(\"ProductName\").agg({\"Quantity\":\"sum\"}).sort_values(by=['Quantity'], ascending=False)\n",
    "\n",
    "        step7 = data2.T\n",
    "\n",
    "        step7bis = step6.merge(step7[element], how=\"left\", on='ProductName')\n",
    "\n",
    "        step7bis2 = step7bis.loc[step7bis[element]==0].sort_values(by=['Quantity'], ascending=False)[:5]\n",
    "\n",
    "        dict[element] = list(step7bis2.index)\n",
    "\n",
    "    return dict\n",
    "\n"
   ]
  },
  {
   "cell_type": "code",
   "execution_count": 85,
   "metadata": {},
   "outputs": [],
   "source": [
    "customers = [df_dist.index]\n",
    "\n",
    "dictDef = recomendator(customers)\n",
    "\n",
    "\n"
   ]
  },
  {
   "cell_type": "code",
   "execution_count": 86,
   "metadata": {},
   "outputs": [
    {
     "name": "stdout",
     "output_type": "stream",
     "text": "33 : ['Chocolate - Dark', 'Bay Leaf', 'Oranges - Navel, 72', 'Wine - Ej Gallo Sierra Valley', 'Pecan Raisin - Tarts']\n"
    }
   ],
   "source": [
    "for key in dictDef:\n",
    "  print(key, \":\", dictDef[key])\n",
    "  break\n"
   ]
  },
  {
   "cell_type": "markdown",
   "metadata": {},
   "source": [
    "##  Step 9: Store the results in a Pandas data frame. The data frame should a column for Customer ID and then a column for each of the 5 product recommendations for each customer."
   ]
  },
  {
   "cell_type": "code",
   "execution_count": 87,
   "metadata": {},
   "outputs": [
    {
     "data": {
      "text/html": "<div>\n<style scoped>\n    .dataframe tbody tr th:only-of-type {\n        vertical-align: middle;\n    }\n\n    .dataframe tbody tr th {\n        vertical-align: top;\n    }\n\n    .dataframe thead th {\n        text-align: right;\n    }\n</style>\n<table border=\"1\" class=\"dataframe\">\n  <thead>\n    <tr style=\"text-align: right;\">\n      <th></th>\n      <th>0</th>\n      <th>1</th>\n      <th>2</th>\n      <th>3</th>\n      <th>4</th>\n    </tr>\n  </thead>\n  <tbody>\n    <tr>\n      <th>33</th>\n      <td>Chocolate - Dark</td>\n      <td>Bay Leaf</td>\n      <td>Oranges - Navel, 72</td>\n      <td>Wine - Ej Gallo Sierra Valley</td>\n      <td>Pecan Raisin - Tarts</td>\n    </tr>\n    <tr>\n      <th>200</th>\n      <td>Soup - Campbells Bean Medley</td>\n      <td>Bay Leaf</td>\n      <td>Pork - Kidney</td>\n      <td>Muffin - Carrot Individual Wrap</td>\n      <td>Scampi Tail</td>\n    </tr>\n    <tr>\n      <th>264</th>\n      <td>Cheese - Parmesan Grated</td>\n      <td>Fondant - Icing</td>\n      <td>Beer - Sleemans Cream Ale</td>\n      <td>Muffin - Carrot Individual Wrap</td>\n      <td>Squid - Tubes / Tenticles 10/20</td>\n    </tr>\n    <tr>\n      <th>356</th>\n      <td>Butter - Unsalted</td>\n      <td>Cup - Translucent 7 Oz Clear</td>\n      <td>Sage - Ground</td>\n      <td>Pork - Bacon, Double Smoked</td>\n      <td>Veal - Inside, Choice</td>\n    </tr>\n    <tr>\n      <th>412</th>\n      <td>Wine - Blue Nun Qualitatswein</td>\n      <td>Butter - Unsalted</td>\n      <td>Table Cloth 81x81 White</td>\n      <td>Pepper - Black, Whole</td>\n      <td>Beef - Top Sirloin</td>\n    </tr>\n  </tbody>\n</table>\n</div>",
      "text/plain": "                                 0                             1  \\\n33                Chocolate - Dark                      Bay Leaf   \n200   Soup - Campbells Bean Medley                      Bay Leaf   \n264       Cheese - Parmesan Grated               Fondant - Icing   \n356              Butter - Unsalted  Cup - Translucent 7 Oz Clear   \n412  Wine - Blue Nun Qualitatswein             Butter - Unsalted   \n\n                             2                                3  \\\n33         Oranges - Navel, 72    Wine - Ej Gallo Sierra Valley   \n200              Pork - Kidney  Muffin - Carrot Individual Wrap   \n264  Beer - Sleemans Cream Ale  Muffin - Carrot Individual Wrap   \n356              Sage - Ground      Pork - Bacon, Double Smoked   \n412    Table Cloth 81x81 White            Pepper - Black, Whole   \n\n                                   4  \n33              Pecan Raisin - Tarts  \n200                      Scampi Tail  \n264  Squid - Tubes / Tenticles 10/20  \n356            Veal - Inside, Choice  \n412               Beef - Top Sirloin  "
     },
     "execution_count": 87,
     "metadata": {},
     "output_type": "execute_result"
    }
   ],
   "source": [
    "data8 = dictDef.copy()\n",
    "\n",
    "data8 = pd.DataFrame.from_dict(data8, orient='index')\n",
    "\n",
    "data8.head()"
   ]
  },
  {
   "cell_type": "markdown",
   "metadata": {},
   "source": [
    "## Step 10: Change the distance metric used in Step 3 to something other than euclidean (correlation, cityblock, consine, jaccard, etc.). Regenerate the recommendations for all customers and note the differences."
   ]
  },
  {
   "cell_type": "code",
   "execution_count": 88,
   "metadata": {},
   "outputs": [
    {
     "data": {
      "text/html": "<div>\n<style scoped>\n    .dataframe tbody tr th:only-of-type {\n        vertical-align: middle;\n    }\n\n    .dataframe tbody tr th {\n        vertical-align: top;\n    }\n\n    .dataframe thead th {\n        text-align: right;\n    }\n</style>\n<table border=\"1\" class=\"dataframe\">\n  <thead>\n    <tr style=\"text-align: right;\">\n      <th>CustomerID</th>\n      <th>33</th>\n      <th>200</th>\n      <th>264</th>\n      <th>356</th>\n      <th>412</th>\n      <th>464</th>\n      <th>477</th>\n      <th>639</th>\n      <th>649</th>\n      <th>669</th>\n      <th>...</th>\n      <th>97697</th>\n      <th>97753</th>\n      <th>97769</th>\n      <th>97793</th>\n      <th>97900</th>\n      <th>97928</th>\n      <th>98069</th>\n      <th>98159</th>\n      <th>98185</th>\n      <th>98200</th>\n    </tr>\n    <tr>\n      <th>CustomerID</th>\n      <th></th>\n      <th></th>\n      <th></th>\n      <th></th>\n      <th></th>\n      <th></th>\n      <th></th>\n      <th></th>\n      <th></th>\n      <th></th>\n      <th></th>\n      <th></th>\n      <th></th>\n      <th></th>\n      <th></th>\n      <th></th>\n      <th></th>\n      <th></th>\n      <th></th>\n      <th></th>\n      <th></th>\n    </tr>\n  </thead>\n  <tbody>\n    <tr>\n      <th>33</th>\n      <td>1.000000</td>\n      <td>0.532692</td>\n      <td>0.565443</td>\n      <td>0.550466</td>\n      <td>0.538239</td>\n      <td>0.540192</td>\n      <td>0.524859</td>\n      <td>0.527028</td>\n      <td>0.530712</td>\n      <td>0.536037</td>\n      <td>...</td>\n      <td>0.529019</td>\n      <td>0.521742</td>\n      <td>0.534813</td>\n      <td>0.513650</td>\n      <td>0.534245</td>\n      <td>0.516959</td>\n      <td>0.529475</td>\n      <td>0.521380</td>\n      <td>0.523291</td>\n      <td>0.533971</td>\n    </tr>\n    <tr>\n      <th>200</th>\n      <td>0.532692</td>\n      <td>1.000000</td>\n      <td>0.540444</td>\n      <td>0.536424</td>\n      <td>0.514712</td>\n      <td>0.523506</td>\n      <td>0.546896</td>\n      <td>0.520122</td>\n      <td>0.540444</td>\n      <td>0.545661</td>\n      <td>...</td>\n      <td>0.550794</td>\n      <td>0.536424</td>\n      <td>0.557488</td>\n      <td>0.543589</td>\n      <td>0.539102</td>\n      <td>0.527408</td>\n      <td>0.569724</td>\n      <td>0.540096</td>\n      <td>0.528386</td>\n      <td>0.526533</td>\n    </tr>\n    <tr>\n      <th>264</th>\n      <td>0.565443</td>\n      <td>0.540444</td>\n      <td>1.000000</td>\n      <td>0.534784</td>\n      <td>0.555621</td>\n      <td>0.529915</td>\n      <td>0.532824</td>\n      <td>0.517251</td>\n      <td>0.529915</td>\n      <td>0.525866</td>\n      <td>...</td>\n      <td>0.550500</td>\n      <td>0.530173</td>\n      <td>0.533903</td>\n      <td>0.537132</td>\n      <td>0.551752</td>\n      <td>0.563065</td>\n      <td>0.551325</td>\n      <td>0.543480</td>\n      <td>0.551922</td>\n      <td>0.533084</td>\n    </tr>\n    <tr>\n      <th>356</th>\n      <td>0.550466</td>\n      <td>0.536424</td>\n      <td>0.534784</td>\n      <td>1.000000</td>\n      <td>0.533110</td>\n      <td>0.525642</td>\n      <td>0.533110</td>\n      <td>0.545887</td>\n      <td>0.521187</td>\n      <td>0.526088</td>\n      <td>...</td>\n      <td>0.537266</td>\n      <td>0.525862</td>\n      <td>0.538805</td>\n      <td>0.532472</td>\n      <td>0.533641</td>\n      <td>0.534488</td>\n      <td>0.516147</td>\n      <td>0.543866</td>\n      <td>0.547973</td>\n      <td>0.537860</td>\n    </tr>\n    <tr>\n      <th>412</th>\n      <td>0.538239</td>\n      <td>0.514712</td>\n      <td>0.555621</td>\n      <td>0.533110</td>\n      <td>1.000000</td>\n      <td>0.532824</td>\n      <td>0.544000</td>\n      <td>0.547992</td>\n      <td>0.528487</td>\n      <td>0.542463</td>\n      <td>...</td>\n      <td>0.526924</td>\n      <td>0.551365</td>\n      <td>0.532274</td>\n      <td>0.535338</td>\n      <td>0.540327</td>\n      <td>0.541355</td>\n      <td>0.523256</td>\n      <td>0.536914</td>\n      <td>0.553549</td>\n      <td>0.562502</td>\n    </tr>\n  </tbody>\n</table>\n<p>5 rows × 1000 columns</p>\n</div>",
      "text/plain": "CustomerID     33        200       264       356       412       464    \\\nCustomerID                                                               \n33          1.000000  0.532692  0.565443  0.550466  0.538239  0.540192   \n200         0.532692  1.000000  0.540444  0.536424  0.514712  0.523506   \n264         0.565443  0.540444  1.000000  0.534784  0.555621  0.529915   \n356         0.550466  0.536424  0.534784  1.000000  0.533110  0.525642   \n412         0.538239  0.514712  0.555621  0.533110  1.000000  0.532824   \n\nCustomerID     477       639       649       669    ...     97697     97753  \\\nCustomerID                                          ...                       \n33          0.524859  0.527028  0.530712  0.536037  ...  0.529019  0.521742   \n200         0.546896  0.520122  0.540444  0.545661  ...  0.550794  0.536424   \n264         0.532824  0.517251  0.529915  0.525866  ...  0.550500  0.530173   \n356         0.533110  0.545887  0.521187  0.526088  ...  0.537266  0.525862   \n412         0.544000  0.547992  0.528487  0.542463  ...  0.526924  0.551365   \n\nCustomerID     97769     97793     97900     97928     98069     98159  \\\nCustomerID                                                               \n33          0.534813  0.513650  0.534245  0.516959  0.529475  0.521380   \n200         0.557488  0.543589  0.539102  0.527408  0.569724  0.540096   \n264         0.533903  0.537132  0.551752  0.563065  0.551325  0.543480   \n356         0.538805  0.532472  0.533641  0.534488  0.516147  0.543866   \n412         0.532274  0.535338  0.540327  0.541355  0.523256  0.536914   \n\nCustomerID     98185     98200  \nCustomerID                      \n33          0.523291  0.533971  \n200         0.528386  0.526533  \n264         0.551922  0.533084  \n356         0.547973  0.537860  \n412         0.553549  0.562502  \n\n[5 rows x 1000 columns]"
     },
     "execution_count": 88,
     "metadata": {},
     "output_type": "execute_result"
    }
   ],
   "source": [
    "data3= data2.copy()\n",
    "\n",
    "df_dist = pd.DataFrame(1 / (1+(squareform(pdist(data3, 'cosine')))), columns=data3.index, index=data3.index)\n",
    "\n",
    "df_dist.head()"
   ]
  },
  {
   "cell_type": "code",
   "execution_count": 89,
   "metadata": {},
   "outputs": [],
   "source": [
    "customers = [df_dist.index]\n",
    "\n",
    "dictDef = recomendator(customers, metric=\"cosine\")"
   ]
  },
  {
   "cell_type": "code",
   "execution_count": 90,
   "metadata": {},
   "outputs": [
    {
     "name": "stdout",
     "output_type": "stream",
     "text": "33 : ['Durian Fruit', 'Bread Crumbs - Japanese Style', 'Beef - Ground Medium', 'Beef - Montreal Smoked Brisket', 'Soup - Campbells, Beef Barley']\n"
    }
   ],
   "source": [
    "for key in dictDef:\n",
    "  print(key, \":\", dictDef[key])\n",
    "  break"
   ]
  },
  {
   "cell_type": "markdown",
   "metadata": {},
   "source": [
    "**Las recomendaciones han variado al modificarse la metrica de distancia**"
   ]
  }
 ],
 "metadata": {
  "kernelspec": {
   "display_name": "Python 3",
   "language": "python",
   "name": "python3"
  },
  "language_info": {
   "codemirror_mode": {
    "name": "ipython",
    "version": 3
   },
   "file_extension": ".py",
   "mimetype": "text/x-python",
   "name": "python",
   "nbconvert_exporter": "python",
   "pygments_lexer": "ipython3",
   "version": "3.6.9-final"
  }
 },
 "nbformat": 4,
 "nbformat_minor": 2
}